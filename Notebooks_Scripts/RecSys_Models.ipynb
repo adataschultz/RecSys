{
 "cells": [
  {
   "cell_type": "markdown",
   "id": "6798f389",
   "metadata": {
    "id": "7c1c264f"
   },
   "source": [
    "# `Recommender System Models`"
   ]
  },
  {
   "cell_type": "code",
   "execution_count": null,
   "id": "4904676c",
   "metadata": {
    "id": "ec3558b0",
    "outputId": "cf54e413-3011-41ef-80d3-a94f0de8535a"
   },
   "outputs": [
    {
     "name": "stdout",
     "output_type": "stream",
     "text": [
      "Sample observations:\n"
     ]
    },
    {
     "data": {
      "text/html": [
       "<div>\n",
       "<style scoped>\n",
       "    .dataframe tbody tr th:only-of-type {\n",
       "        vertical-align: middle;\n",
       "    }\n",
       "\n",
       "    .dataframe tbody tr th {\n",
       "        vertical-align: top;\n",
       "    }\n",
       "\n",
       "    .dataframe thead th {\n",
       "        text-align: right;\n",
       "    }\n",
       "</style>\n",
       "<table border=\"1\" class=\"dataframe\">\n",
       "  <thead>\n",
       "    <tr style=\"text-align: right;\">\n",
       "      <th></th>\n",
       "      <th>reviewerID</th>\n",
       "      <th>item</th>\n",
       "      <th>rating</th>\n",
       "      <th>timestamp</th>\n",
       "    </tr>\n",
       "  </thead>\n",
       "  <tbody>\n",
       "    <tr>\n",
       "      <th>0</th>\n",
       "      <td>0871167042</td>\n",
       "      <td>A3OT9BYASFGU2X</td>\n",
       "      <td>4.0</td>\n",
       "      <td>1398470400</td>\n",
       "    </tr>\n",
       "    <tr>\n",
       "      <th>1</th>\n",
       "      <td>0871167042</td>\n",
       "      <td>A28GK1G2KDXHRP</td>\n",
       "      <td>5.0</td>\n",
       "      <td>1397692800</td>\n",
       "    </tr>\n",
       "    <tr>\n",
       "      <th>2</th>\n",
       "      <td>0871167042</td>\n",
       "      <td>A3NFXFEKW8OK0E</td>\n",
       "      <td>5.0</td>\n",
       "      <td>1397606400</td>\n",
       "    </tr>\n",
       "    <tr>\n",
       "      <th>3</th>\n",
       "      <td>0871167042</td>\n",
       "      <td>A3I6G5TKBVJEK9</td>\n",
       "      <td>5.0</td>\n",
       "      <td>1397520000</td>\n",
       "    </tr>\n",
       "    <tr>\n",
       "      <th>4</th>\n",
       "      <td>0871167042</td>\n",
       "      <td>A1A7Y1M8AJWNZ8</td>\n",
       "      <td>5.0</td>\n",
       "      <td>1396224000</td>\n",
       "    </tr>\n",
       "  </tbody>\n",
       "</table>\n",
       "</div>"
      ],
      "text/plain": [
       "   reviewerID            item  rating   timestamp\n",
       "0  0871167042  A3OT9BYASFGU2X     4.0  1398470400\n",
       "1  0871167042  A28GK1G2KDXHRP     5.0  1397692800\n",
       "2  0871167042  A3NFXFEKW8OK0E     5.0  1397606400\n",
       "3  0871167042  A3I6G5TKBVJEK9     5.0  1397520000\n",
       "4  0871167042  A1A7Y1M8AJWNZ8     5.0  1396224000"
      ]
     },
     "execution_count": 1,
     "metadata": {},
     "output_type": "execute_result"
    }
   ],
   "source": [
    "import os\n",
    "import random\n",
    "import numpy as np\n",
    "import sys\n",
    "import pandas as pd\n",
    "import warnings\n",
    "import time\n",
    "import json\n",
    "from surprise import Dataset, Reader\n",
    "from surprise import BaselineOnly\n",
    "from surprise import NormalPredictor\n",
    "from surprise import KNNBaseline, KNNWithMeans, KNNBasic, KNNWithZScore\n",
    "from surprise import SVD, SVDpp\n",
    "from surprise import NMF\n",
    "from surprise import CoClustering\n",
    "from surprise import dump\n",
    "from surprise import accuracy\n",
    "from surprise.model_selection import train_test_split, cross_validate\n",
    "from surprise.model_selection import GridSearchCV\n",
    "from scipy.sparse.linalg import svds\n",
    "\n",
    "pd.set_option('display.max_columns', None)\n",
    "pd.set_option('display.max_rows', None)\n",
    "warnings.filterwarnings('ignore')\n",
    "\n",
    "# Set seed \n",
    "seed_value = 42\n",
    "os.environ['Recommender'] = str(seed_value)\n",
    "random.seed(seed_value)\n",
    "np.random.seed(seed_value)\n",
    "\n",
    "# Set path\n",
    "path = r'D:\\AmazonReviews\\Data'\n",
    "os.chdir(path)\n",
    "\n",
    "# Read data\n",
    "df = pd.read_csv('Clothing_Shoes_and_Jewelry.csv', header=None, skiprows=[0],\n",
    "                 low_memory=False)\n",
    "df = df.drop_duplicates()\n",
    "\n",
    "# Name columns\n",
    "df.columns = ['reviewerID','item','rating','timestamp']\n",
    "\n",
    "print('Sample observations:')\n",
    "df.head()"
   ]
  },
  {
   "cell_type": "code",
   "execution_count": null,
   "id": "cf1a130d",
   "metadata": {
    "id": "0ac900f8",
    "outputId": "1df240a3-0310-4cab-e816-5b54d03d36f3"
   },
   "outputs": [
    {
     "name": "stdout",
     "output_type": "stream",
     "text": [
      "Initial Data Summary:\n",
      "Number of Rows: 31697963, Columns: 4\n",
      "            Number of Missing Values Data type of variable  \\\n",
      "reviewerID                         0                object   \n",
      "item                               0                object   \n",
      "rating                             0               float64   \n",
      "timestamp                          0                 int64   \n",
      "\n",
      "            Number of Unique Values  \n",
      "reviewerID                  2681297  \n",
      "item                       12483678  \n",
      "rating                            5  \n",
      "timestamp                      5393  \n",
      "None\n"
     ]
    }
   ],
   "source": [
    "# Define a function to examine the data\n",
    "def data_summary(df):\n",
    "    print('Number of Rows: {}, Columns: {}'.format(df.shape[0] ,df.shape[1]))\n",
    "    a = pd.DataFrame()\n",
    "    a['Number of Missing Values'] = df.isnull().sum()\n",
    "    a['Data type of variable'] = df.dtypes\n",
    "    a['Number of Unique Values'] = df.nunique()\n",
    "    print(a)\n",
    "\n",
    "print('Initial Data Summary:')     \n",
    "print(data_summary(df))"
   ]
  },
  {
   "cell_type": "code",
   "execution_count": null,
   "id": "7ce64e70",
   "metadata": {
    "id": "8f73b6a4",
    "outputId": "e23a3b3d-e903-4c0b-d21c-4fc74a328dd8"
   },
   "outputs": [
    {
     "name": "stdout",
     "output_type": "stream",
     "text": [
      "Number of unique reviewers in initial set: 2681297\n",
      "Number of unique items in initial set: 12483678\n"
     ]
    }
   ],
   "source": [
    "df = df.drop(['timestamp'], axis = 1) \n",
    "\n",
    "# Number of unique reviewer id and product id in the data\n",
    "print('Number of unique reviewers in initial set:', df['reviewerID'].nunique())\n",
    "print('Number of unique items in initial set:', df['item'].nunique())"
   ]
  },
  {
   "cell_type": "code",
   "execution_count": null,
   "id": "c95165f8",
   "metadata": {
    "id": "a8689083",
    "outputId": "342f2e50-dccd-48e0-f4c9-4ca97106f07e"
   },
   "outputs": [
    {
     "name": "stdout",
     "output_type": "stream",
     "text": [
      "Reviewers with highest number of ratings in initial set:\n",
      "reviewerID\n",
      "B00M4NF9H0    13067\n",
      "B00F3EDEOC    11268\n",
      "B00GAPACC0    11241\n",
      "B000HTICY0    11119\n",
      "B00SU5244M    10431\n",
      "B00SU52460    10431\n",
      "B00X8AMIDG    10321\n",
      "B00WRGPHY4    10321\n",
      "B00WBHSMOQ    10266\n",
      "B00VJOT0CK    10235\n",
      "dtype: int64\n"
     ]
    }
   ],
   "source": [
    "# Examine reviewers\n",
    "reviewers_top10 = df.groupby('reviewerID').size().sort_values(ascending=False)[:10]\n",
    "print('Reviewers with highest number of ratings in initial set:')\n",
    "print(reviewers_top10)"
   ]
  },
  {
   "cell_type": "code",
   "execution_count": null,
   "id": "81b2c7e9",
   "metadata": {
    "id": "248556d4",
    "outputId": "4a3c590a-c8ec-4493-d036-42c71ca2eb38"
   },
   "outputs": [
    {
     "name": "stdout",
     "output_type": "stream",
     "text": [
      "Items with highest number of ratings in initial set:\n",
      "item\n",
      "ALFRMOGTO1K4M     654\n",
      "A2OWR2PL3DLWS4    494\n",
      "A2OS7CFQI4DWPT    486\n",
      "AVU1ILDDYW301     460\n",
      "A3W5A9X3HHACQT    402\n",
      "A2RYWPOL4NN2KG    400\n",
      "A3W4D8XOGLWUN5    395\n",
      "A1RRMZKOMZ2M7J    392\n",
      "A3LV42NBFM829N    389\n",
      "A2QDOJFFLFGF18    387\n",
      "dtype: int64\n"
     ]
    }
   ],
   "source": [
    "# Examine items\n",
    "items_top10 = df.groupby('item').size().sort_values(ascending=False)[:10]\n",
    "print('Items with highest number of ratings in initial set:')\n",
    "print(items_top10)"
   ]
  },
  {
   "cell_type": "code",
   "execution_count": null,
   "id": "30df3923",
   "metadata": {
    "id": "fe2433d7"
   },
   "outputs": [],
   "source": [
    "# Create new integer id for item due to sparsity\n",
    "value_counts = df['item'].value_counts(dropna=True, sort=True)\n",
    "df1 = pd.DataFrame(value_counts)\n",
    "df1 = df1.reset_index()\n",
    "df1.columns = ['item_unique', 'counts'] # change column \n",
    "df1 = df1.reset_index()\n",
    "df1.rename(columns={'index': 'item_id'}, inplace=True)\n",
    "\n",
    "df1 = df1.drop(['counts'], axis=1)\n",
    "\n",
    "df = pd.merge(df, df1, how='left', left_on=['item'], \n",
    "               right_on=['item_unique'])\n",
    "df = df.drop_duplicates()\n",
    "\n",
    "del value_counts, df1\n",
    "\n",
    "df = df.drop(['item_unique'], axis=1)"
   ]
  },
  {
   "cell_type": "code",
   "execution_count": null,
   "id": "d8cf21ce",
   "metadata": {
    "id": "802b4697"
   },
   "outputs": [],
   "source": [
    "# Create new integer id for reviewerID due to sparsity\n",
    "value_counts = df['reviewerID'].value_counts(dropna=True, sort=True)\n",
    "df1 = pd.DataFrame(value_counts)\n",
    "df1 = df1.reset_index()\n",
    "df1.columns = ['id_unique', 'counts'] \n",
    "df1 = df1.reset_index()\n",
    "df1.rename(columns={'index': 'reviewer_id'}, inplace=True)\n",
    "\n",
    "df1 = df1.drop(['counts'], axis=1)\n",
    "\n",
    "df = pd.merge(df, df1, how='left', left_on=['reviewerID'], \n",
    "               right_on=['id_unique'])\n",
    "df = df.drop_duplicates()\n",
    "\n",
    "del value_counts, df1\n",
    "\n",
    "df = df.drop(['id_unique'], axis=1)\n",
    "\n",
    "# Create key for merging new integer id variables for later join\n",
    "df1 = df[['item', 'item_id', 'reviewerID','reviewer_id']]\n",
    "df1.to_csv('Clothing_Shoes_and_Jewelry_idMatch.csv', index = False)\n",
    "\n",
    "del df1\n",
    "\n",
    "# Drop unnecessary keys\n",
    "df = df.drop(['item', 'reviewerID'], axis=1)"
   ]
  },
  {
   "cell_type": "code",
   "execution_count": null,
   "id": "5910e093",
   "metadata": {
    "id": "5152c533",
    "outputId": "05c57d03-479b-4e81-8699-a9aedf43c74f"
   },
   "outputs": [
    {
     "name": "stdout",
     "output_type": "stream",
     "text": [
      "Number of reviewers with 1500 or more ratings:  3113643\n",
      "Number of unique reviewers:  1138\n",
      "Number of unique items:  1757869\n",
      "Number of reviewers who rated 1 rating = 171570\n",
      "Number of reviewers who rated 2 rating = 149382\n",
      "Number of reviewers who rated 3 rating = 252204\n",
      "Number of reviewers who rated 4 rating = 552539\n",
      "Number of reviewers who rated 5 rating = 1987948\n"
     ]
    }
   ],
   "source": [
    "# Filter to greater than or equal to 1500 due to sparsity\n",
    "reviewer_count = df.reviewer_id.value_counts()\n",
    "df = df[df.reviewer_id.isin(reviewer_count[reviewer_count >= 1500].index)]\n",
    "df = df.drop_duplicates()\n",
    "\n",
    "del reviewer_count\n",
    "\n",
    "print('Number of reviewers with 1500 or more ratings: ', len(df))\n",
    "print('Number of unique reviewers: ', df['reviewer_id'].nunique())\n",
    "print('Number of unique items: ', df['item_id'].nunique())\n",
    "\n",
    "# Count reviewers based on rating\n",
    "for i in range(1,6):\n",
    "  print('Number of reviewers who rated {0} rating = {1}'.format(i,\n",
    "                                                               df[df['rating'] == i].shape[0]))"
   ]
  },
  {
   "cell_type": "code",
   "execution_count": null,
   "id": "c8126595",
   "metadata": {
    "id": "d9028350",
    "outputId": "6d85d230-8ac0-44c1-c022-b174d76bf248"
   },
   "outputs": [
    {
     "name": "stdout",
     "output_type": "stream",
     "text": [
      "Reviewers with highest number of ratings in filtered set:\n",
      "reviewer_id\n",
      "0    12934\n",
      "1    11232\n",
      "2    11204\n",
      "3    11082\n",
      "4    10345\n",
      "5    10345\n",
      "6    10235\n",
      "7    10234\n",
      "8    10181\n",
      "9    10151\n",
      "dtype: int64\n"
     ]
    }
   ],
   "source": [
    "# Examine reviewers\n",
    "reviewers_top10 = df.groupby('reviewer_id').size().sort_values(ascending=False)[:10]\n",
    "print('Reviewers with highest number of ratings in filtered set:')\n",
    "print(reviewers_top10)\n",
    "\n",
    "del reviewers_top10"
   ]
  },
  {
   "cell_type": "code",
   "execution_count": null,
   "id": "9ae8afcb",
   "metadata": {
    "id": "2d27c503",
    "outputId": "8f17cde3-dcb8-410b-a77e-6bc581d33d4c"
   },
   "outputs": [
    {
     "name": "stdout",
     "output_type": "stream",
     "text": [
      "Items with highest number of ratings filtered set:\n",
      "item_id\n",
      "914     84\n",
      "1654    82\n",
      "1770    81\n",
      "1723    72\n",
      "2750    67\n",
      "2564    66\n",
      "2463    64\n",
      "149     63\n",
      "2334    63\n",
      "1115    62\n",
      "dtype: int64\n"
     ]
    }
   ],
   "source": [
    "# Examine items\n",
    "items_top10 = df.groupby('item_id').size().sort_values(ascending=False)[:10]\n",
    "print('Items with highest number of ratings filtered set:')\n",
    "print(items_top10)\n",
    "\n",
    "del items_top10"
   ]
  },
  {
   "cell_type": "markdown",
   "id": "c83dac25",
   "metadata": {
    "id": "26307f83"
   },
   "source": [
    "# Modeling"
   ]
  },
  {
   "cell_type": "code",
   "execution_count": null,
   "id": "e391737b",
   "metadata": {
    "id": "c194822b"
   },
   "outputs": [],
   "source": [
    "# Create Recommendation Systems using Surprise\n",
    "# Set path for results\n",
    "path = r'D:\\AmazonReviews\\Models'\n",
    "os.chdir(path)"
   ]
  },
  {
   "cell_type": "markdown",
   "id": "dba6965b",
   "metadata": {
    "id": "6f4444d1"
   },
   "source": [
    "- Load data using reader\n",
    "- Iterate over all algorithms: BaselineOnly(), KNNBaseline(), KNNBasic(), KNNWithMeans(), \n",
    "                  KNNWithZScore(), CoClustering(), SVD(), SVDpp(), NMF(), \n",
    "                  NormalPredictor()\n",
    "- Cross validation\n",
    "- Model results\n",
    "- Create df with results  "
   ]
  },
  {
   "cell_type": "code",
   "execution_count": null,
   "id": "ad28f44c",
   "metadata": {
    "id": "7ce417ac",
    "outputId": "37c94c85-fa22-4499-f995-ea594e3b2f44",
    "scrolled": true
   },
   "outputs": [
    {
     "name": "stdout",
     "output_type": "stream",
     "text": [
      "Time for iterating through different algorithms..\n",
      "Evaluating RMSE of algorithm BaselineOnly on 3 split(s).\n",
      "\n",
      "                  Fold 1  Fold 2  Fold 3  Mean    Std     \n",
      "RMSE (testset)    1.0217  1.0219  1.0199  1.0212  0.0009  \n",
      "Fit time          3.25    3.29    3.73    3.43    0.22    \n",
      "Test time         5.93    6.04    5.57    5.85    0.20    \n",
      "Evaluating RMSE of algorithm KNNBaseline on 3 split(s).\n",
      "\n",
      "                  Fold 1  Fold 2  Fold 3  Mean    Std     \n",
      "RMSE (testset)    0.9013  0.8998  0.9004  0.9005  0.0006  \n",
      "Fit time          4.22    4.47    3.64    4.11    0.35    \n",
      "Test time         13.11   12.34   12.28   12.58   0.38    \n",
      "Evaluating RMSE of algorithm KNNBasic on 3 split(s).\n",
      "\n",
      "                  Fold 1  Fold 2  Fold 3  Mean    Std     \n",
      "RMSE (testset)    0.9297  0.9289  0.9298  0.9295  0.0004  \n",
      "Fit time          0.30    0.30    0.31    0.30    0.01    \n",
      "Test time         10.31   10.50   10.31   10.37   0.09    \n",
      "Evaluating RMSE of algorithm KNNWithMeans on 3 split(s).\n",
      "\n",
      "                  Fold 1  Fold 2  Fold 3  Mean    Std     \n",
      "RMSE (testset)    0.9201  0.9234  0.9231  0.9222  0.0015  \n",
      "Fit time          0.44    0.50    0.46    0.47    0.03    \n",
      "Test time         11.38   10.99   10.68   11.02   0.28    \n",
      "Evaluating RMSE of algorithm KNNWithZScore on 3 split(s).\n",
      "\n",
      "                  Fold 1  Fold 2  Fold 3  Mean    Std     \n",
      "RMSE (testset)    0.9229  0.9225  0.9207  0.9221  0.0009  \n",
      "Fit time          1.02    1.10    1.07    1.06    0.03    \n",
      "Test time         11.30   10.97   10.53   10.93   0.32    \n",
      "Evaluating RMSE of algorithm CoClustering on 3 split(s).\n",
      "\n",
      "                  Fold 1  Fold 2  Fold 3  Mean    Std     \n",
      "RMSE (testset)    0.9530  0.9535  0.9543  0.9536  0.0005  \n",
      "Fit time          115.65  114.77  116.15  115.52  0.57    \n",
      "Test time         6.10    6.20    5.73    6.01    0.20    \n",
      "Evaluating RMSE of algorithm SVD on 3 split(s).\n",
      "\n",
      "                  Fold 1  Fold 2  Fold 3  Mean    Std     \n",
      "RMSE (testset)    0.9132  0.9141  0.9149  0.9141  0.0007  \n",
      "Fit time          106.25  106.81  107.80  106.95  0.64    \n",
      "Test time         7.34    7.69    7.41    7.48    0.15    \n",
      "Evaluating RMSE of algorithm SVDpp on 3 split(s).\n",
      "\n",
      "                  Fold 1  Fold 2  Fold 3  Mean    Std     \n",
      "RMSE (testset)    0.8915  0.8872  0.8888  0.8892  0.0018  \n",
      "Fit time          75230.7775098.6175678.0475335.81247.94  \n",
      "Test time         1044.96 1073.90 1013.19 1044.02 24.79   \n",
      "Evaluating RMSE of algorithm NMF on 3 split(s).\n",
      "\n",
      "                  Fold 1  Fold 2  Fold 3  Mean    Std     \n",
      "RMSE (testset)    0.9952  0.9944  0.9956  0.9951  0.0005  \n",
      "Fit time          187.71  187.11  188.01  187.61  0.38    \n",
      "Test time         6.35    6.65    6.41    6.47    0.13    \n",
      "Evaluating RMSE of algorithm NormalPredictor on 3 split(s).\n",
      "\n",
      "                  Fold 1  Fold 2  Fold 3  Mean    Std     \n",
      "RMSE (testset)    1.4658  1.4643  1.4647  1.4650  0.0006  \n",
      "Fit time          1.76    1.69    1.69    1.71    0.03    \n",
      "Test time         6.72    6.52    6.37    6.54    0.14    \n",
      "Finished iterating through different algorithms: 77556.50257658958\n",
      "Results from testing different algorithms:\n",
      "                 test_rmse      fit_time    test_time\n",
      "Algorithm                                            \n",
      "SVDpp             0.889181  75335.807605  1044.015360\n",
      "KNNBaseline       0.900508      4.112492    12.575795\n",
      "SVD               0.914056    106.954396     7.480675\n",
      "KNNWithZScore     0.922056      1.062699    10.932529\n",
      "KNNWithMeans      0.922222      0.465658    11.015651\n",
      "KNNBasic          0.929484      0.303403    10.371685\n",
      "CoClustering      0.953598    115.519459     6.010475\n",
      "NMF               0.995064    187.612276     6.470636\n",
      "BaselineOnly      1.021174      3.425423     5.847050\n",
      "NormalPredictor   1.464950      1.713551     6.535781\n"
     ]
    }
   ],
   "source": [
    "# Load data using reader\n",
    "reader = Reader(rating_scale=(1, 5))\n",
    "data = Dataset.load_from_df(df[['reviewer_id', 'item_id', 'rating']], reader)\n",
    "\n",
    "# Iterate over all algorithms\n",
    "print('Time for iterating through different algorithms..')\n",
    "search_time_start = time.time()\n",
    "benchmark = []\n",
    "for algorithm in [BaselineOnly(), KNNBaseline(), KNNBasic(), KNNWithMeans(), \n",
    "                  KNNWithZScore(), CoClustering(), SVD(), SVDpp(), NMF(), \n",
    "                  NormalPredictor()]:\n",
    "    # Cross validation\n",
    "    results = cross_validate(algorithm, data, measures=['RMSE'], cv=3, \n",
    "                             verbose=False, n_jobs=-1)\n",
    "    \n",
    "    # Model results\n",
    "    tmp = pd.DataFrame.from_dict(results).mean(axis=0)\n",
    "    tmp = tmp.append(pd.Series([str(algorithm).split(' ')[0].split('.')[-1]],\n",
    "                               index=['Algorithm']))\n",
    "    benchmark.append(tmp)\n",
    "print('Finished iterating through different algorithms:',\n",
    "      time.time() - search_time_start)\n",
    "\n",
    "# Create df with results \n",
    "surprise_results = pd.DataFrame(benchmark).set_index('Algorithm').sort_values('test_rmse')    \n",
    "\n",
    "print('Results from testing different algorithms:')\n",
    "print(surprise_results)"
   ]
  },
  {
   "cell_type": "code",
   "execution_count": null,
   "id": "93b5ba34",
   "metadata": {
    "id": "44898a99"
   },
   "outputs": [],
   "source": [
    "# Save df\n",
    "surprise_results.to_csv('results_algorithms.csv')\n",
    "\n",
    "del surprise_results"
   ]
  },
  {
   "cell_type": "code",
   "execution_count": null,
   "id": "ccbf3b4b",
   "metadata": {
    "id": "1709d237"
   },
   "outputs": [],
   "source": [
    "# Partition data for train/test sets\n",
    "train, test = train_test_split(data, test_size=0.2)"
   ]
  },
  {
   "cell_type": "markdown",
   "id": "9f5e7b83",
   "metadata": {
    "id": "d5b7a588"
   },
   "source": [
    "# SVDpp with lowest rmse "
   ]
  },
  {
   "cell_type": "code",
   "execution_count": null,
   "id": "a23677fd",
   "metadata": {
    "id": "fed8fbbc",
    "outputId": "11374688-640e-49ec-f440-439e1ebe3f93"
   },
   "outputs": [
    {
     "name": "stdout",
     "output_type": "stream",
     "text": [
      "Train/predict using SVDpp default parameters for 3 epochs:\n",
      "\n",
      "\n",
      "Time for iterating through SVDpp default parameters..\n",
      "Finished iterating through SVDpp default parameters: 10790.404549121857\n",
      "\n",
      "\n",
      "Cross validation results:\n",
      "test_rmse  :  [1.02346779 1.02116729 1.02138424]\n",
      "test_mae  :  [0.74395792 0.74263317 0.74233523]\n",
      "fit_time  :  (9776.340163707733, 9688.727854728699, 9698.9595682621)\n",
      "test_time  :  (986.8202083110809, 991.8307194709778, 990.1156959533691)\n",
      "\n",
      "\n",
      "RMSE from fit best parameters on train predict on test:\n",
      "RMSE: 1.0069\n",
      "1.0068639867569864\n",
      "\n",
      "\n"
     ]
    }
   ],
   "source": [
    "print('Train/predict using SVDpp default parameters for 3 epochs:')\n",
    "print('\\n')\n",
    "\n",
    "print('Time for iterating through SVDpp default parameters..')\n",
    "search_time_start = time.time()\n",
    "algo = SVDpp(n_epochs=3, random_state=seed_value)\n",
    "cv = cross_validate(algo, data, measures=['RMSE', 'MAE'], cv=3, verbose=False, \n",
    "                    n_jobs=-1)\n",
    "print('Finished iterating through SVDpp default parameters:',\n",
    "      time.time() - search_time_start)\n",
    "print('\\n')\n",
    "\n",
    "print('Cross validation results:')\n",
    "# Iterate over key/value pairs in cv results dict \n",
    "for key, value in cv.items():\n",
    "    print(key, ' : ', value)\n",
    "print('\\n')\n",
    "\n",
    "# Fit and predict on best SVDpp model\n",
    "predictions = algo.fit(train).test(test)\n",
    "print('RMSE from fit best parameters on train predict on test:')\n",
    "print(accuracy.rmse(predictions))\n",
    "\n",
    "# Save predictions and algorithm\n",
    "dump.dump('./SVDpp_3epochs_DefaultParamModel_file', predictions, algo)\n",
    "# predictions, algo = dump.load('./SVDpp_3epochs_DefaultParamModel_file')"
   ]
  },
  {
   "cell_type": "code",
   "execution_count": null,
   "id": "a4ca7820",
   "metadata": {
    "id": "bd7e3956"
   },
   "outputs": [],
   "source": [
    "# Examine results from predictions\n",
    "def get_Ir(reviewerID):\n",
    "    '''Determine the number of items rated by given reviewer\n",
    "    Args: \n",
    "      reviewerID: the id of the reviewer\n",
    "    Returns: \n",
    "      Number of items rated by the reviewer\n",
    "    '''\n",
    "    try:\n",
    "        return len(train.ur[train.to_inner_uid(reviewerID)])\n",
    "    except ValueError: # If the reviewer was not in train set\n",
    "        return 0\n",
    "    \n",
    "def get_Ri(itemID):\n",
    "    ''' Determine number of reviewers that rated given item\n",
    "    Args:\n",
    "      itemID: the id of the item\n",
    "    Returns:\n",
    "     Number of reviewers that have rated the item\n",
    "    '''\n",
    "    try: \n",
    "        return len(train.ir[train.to_inner_iid(itemID)])\n",
    "    except ValueError:\n",
    "        return 0"
   ]
  },
  {
   "cell_type": "code",
   "execution_count": null,
   "id": "6f597933",
   "metadata": {
    "id": "b4547ad7"
   },
   "outputs": [],
   "source": [
    "# Make df of prediction results    \n",
    "df1 = pd.DataFrame(predictions, columns=['reviewerID', 'itemID', 'rui', 'est',\n",
    "                                         'details'])\n",
    "\n",
    "# Apply functions\n",
    "df1['Iu'] = df1.reviewerID.apply(get_Ir)\n",
    "df1['Ui'] = df1.itemID.apply(get_Ri)\n",
    "df1['err'] = abs(df1.est - df1.rui)\n",
    "\n",
    "# Save prediction results    \n",
    "df1.to_csv('predictions_SVDpp_DefaultParamModel.csv')"
   ]
  },
  {
   "cell_type": "code",
   "execution_count": null,
   "id": "010825c0",
   "metadata": {
    "id": "f5e7a49c",
    "outputId": "fcaf221d-147b-436c-98f1-75b31b535305"
   },
   "outputs": [
    {
     "name": "stdout",
     "output_type": "stream",
     "text": [
      "Best 10 predictions:\n",
      "        reviewerID  itemID  rui  est                    details    Iu  Ui  err\n",
      "292684          57  132683  5.0  5.0  {'was_impossible': False}  5228   7  0.0\n",
      "412902          26  133174  5.0  5.0  {'was_impossible': False}  6694  13  0.0\n",
      "503655          20   49464  5.0  5.0  {'was_impossible': False}  7711  18  0.0\n",
      "583961           4   46139  5.0  5.0  {'was_impossible': False}  8266  14  0.0\n",
      "412894          13   44945  5.0  5.0  {'was_impossible': False}  8029  23  0.0\n",
      "134615          11  134037  5.0  5.0  {'was_impossible': False}  8008  13  0.0\n",
      "412861           9   82916  5.0  5.0  {'was_impossible': False}  8103  11  0.0\n",
      "503667          47   53259  5.0  5.0  {'was_impossible': False}  5464  17  0.0\n",
      "534582          54   58833  5.0  5.0  {'was_impossible': False}  5175  18  0.0\n",
      "503671           9   60836  5.0  5.0  {'was_impossible': False}  8103  19  0.0\n"
     ]
    }
   ],
   "source": [
    "# Find best predictions\n",
    "best_predictions = df1.sort_values(by='err')[:10]\n",
    "print('Best 10 predictions:')\n",
    "print(best_predictions)"
   ]
  },
  {
   "cell_type": "code",
   "execution_count": null,
   "id": "f3862e7e",
   "metadata": {
    "id": "8012b3b8",
    "outputId": "9eca2ef7-e238-46fe-c7a9-a45aa0c8e998"
   },
   "outputs": [
    {
     "name": "stdout",
     "output_type": "stream",
     "text": [
      "Worst 10 predictions:\n",
      "        reviewerID    itemID  rui       est                    details    Iu  \\\n",
      "489076          47     19923  1.0  4.809839  {'was_impossible': False}  5464   \n",
      "2731            53  12238590  1.0  4.819778  {'was_impossible': False}  5217   \n",
      "287045          53   4228354  1.0  4.819778  {'was_impossible': False}  5217   \n",
      "182869          53  12238679  1.0  4.819778  {'was_impossible': False}  5217   \n",
      "568727         318   5585473  1.0  4.846666  {'was_impossible': False}  2282   \n",
      "144436         318   5560304  1.0  4.846666  {'was_impossible': False}  2282   \n",
      "206325         318   1803591  1.0  4.846666  {'was_impossible': False}  2282   \n",
      "367809         318   5577052  1.0  4.846666  {'was_impossible': False}  2282   \n",
      "88049           79    742450  1.0  4.846758  {'was_impossible': False}  4522   \n",
      "610915         815     51958  1.0  4.856628  {'was_impossible': False}  1410   \n",
      "\n",
      "        Ui       err  \n",
      "489076   1  3.809839  \n",
      "2731     0  3.819778  \n",
      "287045   0  3.819778  \n",
      "182869   0  3.819778  \n",
      "568727   0  3.846666  \n",
      "144436   0  3.846666  \n",
      "206325   0  3.846666  \n",
      "367809   0  3.846666  \n",
      "88049    1  3.846758  \n",
      "610915   2  3.856628  \n"
     ]
    }
   ],
   "source": [
    "# Find worst predictions\n",
    "worst_predictions = df1.sort_values(by='err')[-10:]\n",
    "print('Worst 10 predictions:')\n",
    "print(worst_predictions)\n",
    "\n",
    "del predictions, df1, best_predictions, worst_predictions"
   ]
  },
  {
   "cell_type": "markdown",
   "id": "ed645a99",
   "metadata": {
    "id": "2e6b4a78"
   },
   "source": [
    "## SVDpp HPO using Grid Search"
   ]
  },
  {
   "cell_type": "code",
   "execution_count": null,
   "id": "2bf6a854",
   "metadata": {
    "id": "b3073574",
    "outputId": "6a7092c8-b8a3-42f2-b1bc-008b70848723"
   },
   "outputs": [
    {
     "name": "stdout",
     "output_type": "stream",
     "text": [
      "Grid search parameters:\n"
     ]
    },
    {
     "data": {
      "text/plain": [
       "{'n_epochs': [10],\n",
       " 'n_factors': [30, 40, 50],\n",
       " 'lr_all': [0.0007, 0.007, 0.07],\n",
       " 'reg_all': [0.0002, 0.002, 0.02],\n",
       " 'random_state': [42]}"
      ]
     },
     "execution_count": 15,
     "metadata": {},
     "output_type": "execute_result"
    }
   ],
   "source": [
    "# Define parameters for grid search       \n",
    "param_grid = {'n_epochs': [10],\n",
    "              'n_factors': [30, 40, 50], \n",
    "              'lr_all': [7e-4, 7e-3, 7e-2], \n",
    "              'reg_all': [2e-4, 2e-3, 2e-2],\n",
    "              'random_state': [seed_value]\n",
    "              }\n",
    "\n",
    "# Print nested dictionary line by line\n",
    "print('Grid search parameters:')\n",
    "param_grid"
   ]
  },
  {
   "cell_type": "code",
   "execution_count": null,
   "id": "325df644",
   "metadata": {
    "id": "2881f2e3",
    "outputId": "49308dd8-e645-4fd9-9bc9-d3ae0eef872f"
   },
   "outputs": [
    {
     "name": "stdout",
     "output_type": "stream",
     "text": [
      "Time for iterating grid search parameters..\n",
      "Finished iterating grid search parameters: 949831.3826599121\n",
      "\n",
      "\n",
      "Lowest RMSE from Grid Search:\n",
      "0.8762233407560768\n",
      "\n",
      "\n",
      "Parameters of Model with lowest RMSE from Grid Search:\n",
      "{'n_epochs': 10, 'n_factors': 50, 'lr_all': 0.07, 'reg_all': 0.02, 'random_state': 42}\n"
     ]
    }
   ],
   "source": [
    "# Run grid search\n",
    "gs = GridSearchCV(SVDpp, param_grid, measures=['rmse', 'mae'], cv=3,\n",
    "                  n_jobs=6)\n",
    "print('Time for iterating grid search parameters..')\n",
    "search_time_start = time.time()\n",
    "gs.fit(data)\n",
    "print('Finished iterating grid search parameters:',\n",
    "      time.time() - search_time_start)\n",
    "print('\\n')\n",
    "print('Lowest RMSE from Grid Search:')\n",
    "print(gs.best_score['rmse'])\n",
    "print('\\n')\n",
    "print('Parameters of Model with lowest RMSE from Grid Search:')\n",
    "print(gs.best_params['rmse'])"
   ]
  },
  {
   "cell_type": "code",
   "execution_count": null,
   "id": "591af09a",
   "metadata": {
    "id": "52fb0744",
    "outputId": "d12d3564-9633-4567-9804-ffb29fe55b03",
    "scrolled": true
   },
   "outputs": [
    {
     "name": "stdout",
     "output_type": "stream",
     "text": [
      "SVDpp GridSearch HPO Cross Validation Results:\n",
      "    split0_test_rmse  split1_test_rmse  split2_test_rmse  mean_test_rmse  \\\n",
      "26          0.877091          0.876967          0.874612        0.876223   \n",
      "17          0.877104          0.877309          0.874793        0.876402   \n",
      "8           0.877473          0.877841          0.875282        0.876866   \n",
      "25          0.880114          0.879673          0.877702        0.879163   \n",
      "16          0.879928          0.879870          0.877736        0.879178   \n",
      "\n",
      "    std_test_rmse  rank_test_rmse  split0_test_mae  split1_test_mae  \\\n",
      "26       0.001140               1         0.545362         0.545235   \n",
      "17       0.001141               2         0.544410         0.544866   \n",
      "8        0.001130               3         0.544078         0.544394   \n",
      "25       0.001049               4         0.529889         0.529740   \n",
      "16       0.001020               5         0.529289         0.529523   \n",
      "\n",
      "    split2_test_mae  mean_test_mae  std_test_mae  rank_test_mae  \\\n",
      "26         0.545148       0.545248      0.000088              8   \n",
      "17         0.544526       0.544601      0.000194              7   \n",
      "8          0.543869       0.544114      0.000216              6   \n",
      "25         0.530438       0.530022      0.000300              4   \n",
      "16         0.529618       0.529477      0.000138              3   \n",
      "\n",
      "    mean_fit_time  std_fit_time  mean_test_time  std_test_time  \\\n",
      "26   70598.250652   1249.364096     1009.561977      50.821685   \n",
      "17   66743.563920    771.619068     1198.241550       4.727457   \n",
      "8    52812.599836    478.978208     1190.364319       5.769048   \n",
      "25   80200.898044    924.758941     1160.608749      60.081138   \n",
      "16   66654.069634    816.749178     1206.503826      15.903674   \n",
      "\n",
      "                                               params  param_n_epochs  \\\n",
      "26  {'n_epochs': 10, 'n_factors': 50, 'lr_all': 0....              10   \n",
      "17  {'n_epochs': 10, 'n_factors': 40, 'lr_all': 0....              10   \n",
      "8   {'n_epochs': 10, 'n_factors': 30, 'lr_all': 0....              10   \n",
      "25  {'n_epochs': 10, 'n_factors': 50, 'lr_all': 0....              10   \n",
      "16  {'n_epochs': 10, 'n_factors': 40, 'lr_all': 0....              10   \n",
      "\n",
      "    param_n_factors  param_lr_all  param_reg_all  param_random_state  \n",
      "26               50          0.07          0.020                  42  \n",
      "17               40          0.07          0.020                  42  \n",
      "8                30          0.07          0.020                  42  \n",
      "25               50          0.07          0.002                  42  \n",
      "16               40          0.07          0.002                  42  \n",
      "\n",
      "\n"
     ]
    }
   ],
   "source": [
    "# Save results to df\n",
    "results_df = pd.DataFrame.from_dict(gs.cv_results)\n",
    "results_df = results_df.sort_values('mean_test_rmse', ascending=True)\n",
    "\n",
    "print('SVDpp GridSearch HPO Cross Validation Results:')\n",
    "print(results_df.head())\n",
    "print('\\n')\n",
    "results_df.to_csv('SVDpp_gridSearch_cvResults.csv', index=False)\n",
    "\n",
    "del results_df"
   ]
  },
  {
   "cell_type": "code",
   "execution_count": null,
   "id": "a02d3358",
   "metadata": {
    "id": "11c2ce2a",
    "outputId": "b9c9a2e0-417f-4669-a390-9122e3a28d04"
   },
   "outputs": [
    {
     "name": "stdout",
     "output_type": "stream",
     "text": [
      "RMSE from fit best parameters on train predict on test:\n",
      "RMSE: 0.8576\n",
      "0.8576483755216049\n"
     ]
    }
   ],
   "source": [
    "# Fit model with the lowest rmse\n",
    "algo = gs.best_estimator['rmse']\n",
    "\n",
    "# Fit and predict on best SVD model\n",
    "predictions = algo.fit(train).test(test)\n",
    "print('RMSE from fit best parameters on train predict on test:')\n",
    "print(accuracy.rmse(predictions))\n",
    "\n",
    "# Save predictions and algorithm\n",
    "dump.dump('./SVDpp_bestGrid_Model_file', predictions, algo)\n",
    "#predictions, algo = dump.load('./SVDpp_bestGrid_Model_file')\n",
    "\n",
    "# Make df of prediction results    \n",
    "df1 = pd.DataFrame(predictions, columns=['reviewerID', 'itemID', 'rui', 'est',\n",
    "                                         'details'])\n",
    "\n",
    "# Apply functions\n",
    "df1['Iu'] = df1.reviewerID.apply(get_Ir)\n",
    "df1['Ui'] = df1.itemID.apply(get_Ri)\n",
    "df1['err'] = abs(df1.est - df1.rui)\n",
    "\n",
    "# Save prediction results    \n",
    "df1.to_csv('predictions_SVDpp_gridSearch.csv')"
   ]
  },
  {
   "cell_type": "code",
   "execution_count": null,
   "id": "1fc11e55",
   "metadata": {
    "id": "0008ffee",
    "outputId": "63568d40-49b0-4ac9-cc4f-94d9bcd8d4d1"
   },
   "outputs": [
    {
     "name": "stdout",
     "output_type": "stream",
     "text": [
      "Best 10 predictions:\n",
      "        reviewerID   itemID  rui  est                    details    Iu  Ui  \\\n",
      "347899           9    33304  5.0  5.0  {'was_impossible': False}  8099  18   \n",
      "422779        1089  5166669  5.0  5.0  {'was_impossible': False}  1245   1   \n",
      "422809         130   466573  5.0  5.0  {'was_impossible': False}  3227   1   \n",
      "422810          69  4697707  5.0  5.0  {'was_impossible': False}  4721   1   \n",
      "198168         193    16186  5.0  5.0  {'was_impossible': False}  2756  33   \n",
      "422829         178    35614  5.0  5.0  {'was_impossible': False}  2778  25   \n",
      "198151         826   276748  5.0  5.0  {'was_impossible': False}  1448   3   \n",
      "422844         315    30133  5.0  5.0  {'was_impossible': False}  2291  22   \n",
      "198131         181     8448  5.0  5.0  {'was_impossible': False}  2823  36   \n",
      "422855         178     5879  5.0  5.0  {'was_impossible': False}  2778  29   \n",
      "\n",
      "        err  \n",
      "347899  0.0  \n",
      "422779  0.0  \n",
      "422809  0.0  \n",
      "422810  0.0  \n",
      "198168  0.0  \n",
      "422829  0.0  \n",
      "198151  0.0  \n",
      "422844  0.0  \n",
      "198131  0.0  \n",
      "422855  0.0  \n"
     ]
    }
   ],
   "source": [
    "# Find best predictions\n",
    "best_predictions = df1.sort_values(by='err')[:10]\n",
    "\n",
    "print('Best 10 predictions:')\n",
    "print(best_predictions)"
   ]
  },
  {
   "cell_type": "code",
   "execution_count": null,
   "id": "295fcde8",
   "metadata": {
    "id": "77fe2f33",
    "outputId": "f5d6cfd8-54cf-40c2-f76a-2ec45f01e009",
    "scrolled": false
   },
   "outputs": [
    {
     "name": "stdout",
     "output_type": "stream",
     "text": [
      "Worst 10 predictions:\n",
      "        reviewerID   itemID  rui  est                    details    Iu  Ui  \\\n",
      "252471         346   176955  1.0  5.0  {'was_impossible': False}  2210   4   \n",
      "81224          404   343482  1.0  5.0  {'was_impossible': False}  2077   1   \n",
      "210979         780  1006842  1.0  5.0  {'was_impossible': False}  1487   1   \n",
      "426144         300   268750  1.0  5.0  {'was_impossible': False}  2292   1   \n",
      "540253         779  5326776  1.0  5.0  {'was_impossible': False}  1491   1   \n",
      "250479         609   647550  1.0  5.0  {'was_impossible': False}  1644   3   \n",
      "554305        1122    27112  1.0  5.0  {'was_impossible': False}  1214   1   \n",
      "391391         429   149590  1.0  5.0  {'was_impossible': False}  2015   2   \n",
      "10982          946  4517207  1.0  5.0  {'was_impossible': False}  1313   1   \n",
      "463644         401   844653  1.0  5.0  {'was_impossible': False}  2049   1   \n",
      "\n",
      "        err  \n",
      "252471  4.0  \n",
      "81224   4.0  \n",
      "210979  4.0  \n",
      "426144  4.0  \n",
      "540253  4.0  \n",
      "250479  4.0  \n",
      "554305  4.0  \n",
      "391391  4.0  \n",
      "10982   4.0  \n",
      "463644  4.0  \n"
     ]
    }
   ],
   "source": [
    "# Find worst predictions\n",
    "worst_predictions = df1.sort_values(by='err')[-10:]\n",
    "\n",
    "print('Worst 10 predictions:')\n",
    "print(worst_predictions)\n",
    "\n",
    "del predictions, df1, best_predictions, worst_predictions"
   ]
  },
  {
   "cell_type": "markdown",
   "id": "4ffe98a1",
   "metadata": {
    "id": "a260640e"
   },
   "source": [
    "## KNNBaseline with second lowest rmse use Alternating Least Squares"
   ]
  },
  {
   "cell_type": "code",
   "execution_count": null,
   "id": "40909420",
   "metadata": {
    "id": "0e78b498",
    "outputId": "75bc7de6-6f4e-4d86-d67a-37a9055ebd1b"
   },
   "outputs": [
    {
     "name": "stdout",
     "output_type": "stream",
     "text": [
      "Train/predict using KNNBaseline default parameters with Alternating Least Squares for 3 epochs:\n",
      "\n",
      "\n",
      "Baselines estimates configuration:\n",
      "{'method': 'als', 'n_epochs': 3}\n",
      "\n",
      "\n",
      "Model parameters:\n",
      "KNNBaseline(k=40, min_k=1, bsl_options=bsl_options, verbose=False)\n"
     ]
    }
   ],
   "source": [
    "print('Train/predict using KNNBaseline default parameters with Alternating Least Squares for 3 epochs:')\n",
    "print('\\n')\n",
    "\n",
    "bsl_options = {'method': 'als',\n",
    "               'n_epochs': 3\n",
    "               }\n",
    "\n",
    "# Print nested dictionary line by line\n",
    "print('Baselines estimates configuration:')\n",
    "print(bsl_options)\n",
    "print('\\n')\n",
    "\n",
    "print('Model parameters:')\n",
    "print('KNNBaseline(k=40, min_k=1, bsl_options=bsl_options, verbose=False)') "
   ]
  },
  {
   "cell_type": "code",
   "execution_count": null,
   "id": "8bfe2db8",
   "metadata": {
    "id": "cc7b6626",
    "outputId": "60af7ff6-b465-4e61-d7c6-9472739c3779"
   },
   "outputs": [
    {
     "name": "stdout",
     "output_type": "stream",
     "text": [
      "Time for iterating through KNNBaseline default parameters epochs=3 using ALS..\n",
      "Finished iterating through KNNBaseline default parameters epochs=3 using ALS: 37.01580023765564\n",
      "\n",
      "\n",
      "Cross validation results:\n",
      "test_rmse  :  [0.89967443 0.89968674 0.89972243]\n",
      "test_mae  :  [0.53176603 0.53147945 0.53162604]\n",
      "fit_time  :  (1.4181976318359375, 1.3012800216674805, 1.3005609512329102)\n",
      "test_time  :  (10.874441862106323, 10.71552562713623, 10.45514440536499)\n"
     ]
    }
   ],
   "source": [
    "# Cross validation\n",
    "print('Time for iterating through KNNBaseline default parameters epochs=3 using ALS..')\n",
    "search_time_start = time.time()\n",
    "algo = KNNBaseline(bsl_options=bsl_options)\n",
    "cv = cross_validate(algo, data, measures=['RMSE', 'MAE'], cv=3, verbose=False, \n",
    "                    n_jobs=-1)\n",
    "print('Finished iterating through KNNBaseline default parameters epochs=3 using ALS:',\n",
    "      time.time() - search_time_start)\n",
    "print('\\n')\n",
    "\n",
    "print('Cross validation results:')\n",
    "# Iterate over key/value pairs in cv results dict \n",
    "for key, value in cv.items():\n",
    "    print(key, ' : ', value)"
   ]
  },
  {
   "cell_type": "code",
   "execution_count": null,
   "id": "0900edc4",
   "metadata": {
    "id": "d0f65515",
    "outputId": "88197f9c-d46d-4757-ad7d-76ed570c6954"
   },
   "outputs": [
    {
     "name": "stdout",
     "output_type": "stream",
     "text": [
      "Estimating biases using als...\n",
      "Computing the msd similarity matrix...\n",
      "Done computing similarity matrix.\n",
      "RMSE from fit best parameters on train predict on test:\n",
      "RMSE: 0.8855\n",
      "0.8855366849115467\n"
     ]
    }
   ],
   "source": [
    "# Fit and predict on best model with the lowest rmse\n",
    "predictions = algo.fit(train).test(test)\n",
    "print('RMSE from fit best parameters on train predict on test:')\n",
    "print(accuracy.rmse(predictions))"
   ]
  },
  {
   "cell_type": "code",
   "execution_count": null,
   "id": "255da171",
   "metadata": {
    "id": "f969a714"
   },
   "outputs": [],
   "source": [
    "# Save predictions and algorithm\n",
    "dump.dump('./KNNBaseline_3epochs_DefaultParamModel_file', predictions, algo)\n",
    "# predictions, algo = dump.load('./KNNBaseline_3epochs_DefaultParamModel_file')\n",
    "\n",
    "# Make df of prediction results    \n",
    "df1 = pd.DataFrame(predictions, columns=['reviewerID', 'itemID', 'rui', 'est',\n",
    "                                         'details'])\n",
    "# Apply functions\n",
    "df1['Iu'] = df1.reviewerID.apply(get_Ir)\n",
    "df1['Ui'] = df1.itemID.apply(get_Ri)\n",
    "df1['err'] = abs(df1.est - df1.rui)\n",
    "\n",
    "# Save prediction results    \n",
    "df1.to_csv('predictions_KNNBaseline_DefaultParamModel.csv')"
   ]
  },
  {
   "cell_type": "code",
   "execution_count": null,
   "id": "629a0d02",
   "metadata": {
    "id": "c5555354",
    "outputId": "e0bf5b15-337a-4da8-f7bb-3dad06795498"
   },
   "outputs": [
    {
     "name": "stdout",
     "output_type": "stream",
     "text": [
      "Best 10 predictions:\n",
      "        reviewerID   itemID  rui  est  \\\n",
      "0              191   868548  1.0  1.0   \n",
      "310933         171  2317128  5.0  5.0   \n",
      "310951          17   694716  5.0  5.0   \n",
      "310952         189   103420  5.0  5.0   \n",
      "310972         671  4249082  5.0  5.0   \n",
      "310973         276  1700820  5.0  5.0   \n",
      "310976         192  1262170  5.0  5.0   \n",
      "310978         559  1331040  5.0  5.0   \n",
      "310983        1036  1350025  1.0  1.0   \n",
      "310986          63   371765  5.0  5.0   \n",
      "\n",
      "                                          details    Iu  Ui  err  \n",
      "0        {'actual_k': 1, 'was_impossible': False}  2808   1  0.0  \n",
      "310933   {'actual_k': 1, 'was_impossible': False}  2804   1  0.0  \n",
      "310951   {'actual_k': 3, 'was_impossible': False}  7915   3  0.0  \n",
      "310952  {'actual_k': 14, 'was_impossible': False}  2797  14  0.0  \n",
      "310972   {'actual_k': 1, 'was_impossible': False}  1515   1  0.0  \n",
      "310973   {'actual_k': 1, 'was_impossible': False}  2409   1  0.0  \n",
      "310976   {'actual_k': 1, 'was_impossible': False}  2792   1  0.0  \n",
      "310978   {'actual_k': 1, 'was_impossible': False}  1769   1  0.0  \n",
      "310983   {'actual_k': 1, 'was_impossible': False}  1278   1  0.0  \n",
      "310986   {'actual_k': 6, 'was_impossible': False}  5065   6  0.0  \n"
     ]
    }
   ],
   "source": [
    "# Find best predictions\n",
    "best_predictions = df1.sort_values(by='err')[:10]\n",
    "\n",
    "print('Best 10 predictions:')\n",
    "print(best_predictions)"
   ]
  },
  {
   "cell_type": "code",
   "execution_count": null,
   "id": "1125d73c",
   "metadata": {
    "id": "3cc6b145",
    "outputId": "5b258cee-6db1-4021-b263-98263bbc6ab9"
   },
   "outputs": [
    {
     "name": "stdout",
     "output_type": "stream",
     "text": [
      "Worst 10 predictions:\n",
      "        reviewerID   itemID  rui  est  \\\n",
      "354495         242     5845  1.0  5.0   \n",
      "177973         127  1727714  5.0  1.0   \n",
      "256990         576   524049  5.0  1.0   \n",
      "490072         638    31093  1.0  5.0   \n",
      "52555          108  1692340  1.0  5.0   \n",
      "264925         566  1473905  5.0  1.0   \n",
      "559845         936  1287067  1.0  5.0   \n",
      "328255         344   423858  5.0  1.0   \n",
      "182097         421    48088  1.0  5.0   \n",
      "205794          43   885292  1.0  5.0   \n",
      "\n",
      "                                         details    Iu  Ui  err  \n",
      "354495  {'actual_k': 6, 'was_impossible': False}  2540   6  4.0  \n",
      "177973  {'actual_k': 1, 'was_impossible': False}  3346   1  4.0  \n",
      "256990  {'actual_k': 2, 'was_impossible': False}  1714   3  4.0  \n",
      "490072  {'actual_k': 1, 'was_impossible': False}  1531   2  4.0  \n",
      "52555   {'actual_k': 1, 'was_impossible': False}  3602   1  4.0  \n",
      "264925  {'actual_k': 1, 'was_impossible': False}  1728   3  4.0  \n",
      "559845  {'actual_k': 1, 'was_impossible': False}  1362   1  4.0  \n",
      "328255  {'actual_k': 3, 'was_impossible': False}  2211   3  4.0  \n",
      "182097  {'actual_k': 1, 'was_impossible': False}  1991   2  4.0  \n",
      "205794  {'actual_k': 2, 'was_impossible': False}  5607   2  4.0  \n"
     ]
    }
   ],
   "source": [
    "# Find worst predictions\n",
    "worst_predictions = df1.sort_values(by='err')[-10:]\n",
    "\n",
    "print('Worst 10 predictions:')\n",
    "print(worst_predictions)\n",
    "\n",
    "del predictions, df1, best_predictions, worst_predictions"
   ]
  },
  {
   "cell_type": "markdown",
   "id": "13009783",
   "metadata": {
    "id": "01f4bce4"
   },
   "source": [
    "## KNNBaseline HPO using Grid Search"
   ]
  },
  {
   "cell_type": "code",
   "execution_count": null,
   "id": "d7fa9c6c",
   "metadata": {
    "id": "fe7ca75e",
    "outputId": "3b91e4b9-7ea5-435b-ac7d-9f607533708c"
   },
   "outputs": [
    {
     "name": "stdout",
     "output_type": "stream",
     "text": [
      "KNNBaseline HPO using Grid Search Minimized:\n",
      "\n",
      "\n",
      "Grid search parameters:\n"
     ]
    },
    {
     "data": {
      "text/plain": [
       "{'bsl_options': {'method': ['als', 'sgd']},\n",
       " 'k': [40, 45, 50],\n",
       " 'min_k': [30, 35],\n",
       " 'random_state': [42],\n",
       " 'sim_options': {'name': ['pearson_baseline'],\n",
       "  'min_support': [5, 10],\n",
       "  'shrinkage': [0, 100]}}"
      ]
     },
     "execution_count": 12,
     "metadata": {},
     "output_type": "execute_result"
    }
   ],
   "source": [
    "# HPO using grid search\n",
    "print('KNNBaseline HPO using Grid Search Minimized:')\n",
    "print('\\n')\n",
    "\n",
    "# Define parameters for grid search\n",
    "param_grid = {'bsl_options': {'method': ['als', 'sgd']}, \n",
    "              'k': [40, 45, 50], \n",
    "              'min_k': [30, 35],\n",
    "              'random_state': [seed_value],\n",
    "              'sim_options': {'name': ['pearson_baseline'],\n",
    "                              'min_support': [5, 10],\n",
    "                              'shrinkage': [0, 100]}\n",
    "              }\n",
    "\n",
    "# Print nested dictionary line by line\n",
    "print('Grid search parameters:')\n",
    "param_grid          "
   ]
  },
  {
   "cell_type": "code",
   "execution_count": null,
   "id": "15330c79",
   "metadata": {
    "id": "8394e537",
    "outputId": "229079a5-5b7d-4a66-99fb-bd036aa6f858",
    "scrolled": true
   },
   "outputs": [
    {
     "name": "stdout",
     "output_type": "stream",
     "text": [
      "Start time for iterating grid search parameters..\n"
     ]
    },
    {
     "name": "stderr",
     "output_type": "stream",
     "text": [
      "[Parallel(n_jobs=-1)]: Using backend LokyBackend with 16 concurrent workers.\n",
      "[Parallel(n_jobs=-1)]: Done  40 tasks      | elapsed:  3.0min\n"
     ]
    },
    {
     "name": "stdout",
     "output_type": "stream",
     "text": [
      "Finished iterating grid search parameters: 607.8373460769653\n",
      "\n",
      "\n",
      "Model with lowest RMSE:\n",
      "1.011069858119585\n",
      "\n",
      "\n",
      "Parameters with the lowest RMSE:\n",
      "{'bsl_options': {'method': 'sgd'}, 'k': 50, 'min_k': 30, 'random_state': 42, 'sim_options': {'name': 'pearson_baseline', 'min_support': 10, 'shrinkage': 0, 'user_based': True}}\n"
     ]
    },
    {
     "name": "stderr",
     "output_type": "stream",
     "text": [
      "[Parallel(n_jobs=-1)]: Done 144 out of 144 | elapsed:  9.9min finished\n"
     ]
    }
   ],
   "source": [
    "# Run grid search\n",
    "gs = GridSearchCV(KNNBaseline, param_grid, measures=['rmse', 'mae'], cv=3,\n",
    "                  joblib_verbose=-1, n_jobs=-1)\n",
    "print('Start time for iterating grid search parameters..')\n",
    "search_time_start = time.time()\n",
    "gs.fit(data)\n",
    "print('Finished iterating grid search parameters:',\n",
    "      time.time() - search_time_start)\n",
    "print('\\n')\n",
    "print('Model with lowest RMSE:')\n",
    "print(gs.best_score['rmse'])\n",
    "print('\\n')\n",
    "# Parameters with the lowest RMSE \n",
    "print('Parameters with the lowest RMSE:')\n",
    "print(gs.best_params['rmse'])"
   ]
  },
  {
   "cell_type": "code",
   "execution_count": null,
   "id": "2dbd8551",
   "metadata": {
    "id": "211190d4",
    "outputId": "81f510d7-08ea-43bb-c9b6-82266a2c8a24",
    "scrolled": true
   },
   "outputs": [
    {
     "name": "stdout",
     "output_type": "stream",
     "text": [
      "Estimating biases using als...\n",
      "Computing the msd similarity matrix...\n",
      "Done computing similarity matrix.\n",
      "RMSE from fit best parameters on train predict on test:\n",
      "RMSE: 0.8855\n",
      "0.8855366849115467\n",
      "\n",
      "\n",
      "KNNBaseline GridSearch HPO Cross Validation Results:\n",
      "    split0_test_rmse  split1_test_rmse  split2_test_rmse  mean_test_rmse  \\\n",
      "42          1.011580          1.012132          1.009497        1.011070   \n",
      "40          1.011580          1.012132          1.009497        1.011070   \n",
      "41          1.011581          1.012132          1.009498        1.011070   \n",
      "43          1.011581          1.012133          1.009498        1.011070   \n",
      "34          1.011583          1.012133          1.009500        1.011072   \n",
      "\n",
      "    std_test_rmse  rank_test_rmse  split0_test_mae  split1_test_mae  \\\n",
      "42       0.001135               1         0.747531         0.747711   \n",
      "40       0.001135               2         0.747532         0.747711   \n",
      "41       0.001135               3         0.747532         0.747711   \n",
      "43       0.001135               4         0.747532         0.747712   \n",
      "34       0.001134               5         0.747533         0.747712   \n",
      "\n",
      "    split2_test_mae  mean_test_mae  std_test_mae  rank_test_mae  \\\n",
      "42         0.746519       0.747254      0.000525              1   \n",
      "40         0.746520       0.747254      0.000524              2   \n",
      "41         0.746520       0.747254      0.000524              3   \n",
      "43         0.746520       0.747254      0.000525              4   \n",
      "34         0.746521       0.747255      0.000524              5   \n",
      "\n",
      "    mean_fit_time  std_fit_time  mean_test_time  std_test_time  \\\n",
      "42       9.993515      0.055822       15.170519       0.066516   \n",
      "40      10.526954      0.213148       14.910309       0.382848   \n",
      "41      10.170191      0.075948       15.086762       0.343553   \n",
      "43      10.328798      0.157185       15.313640       0.242080   \n",
      "34      10.300277      0.126311       15.871488       0.210613   \n",
      "\n",
      "                                               params  param_bsl_options  \\\n",
      "42  {'bsl_options': {'method': 'sgd'}, 'k': 50, 'm...  {'method': 'sgd'}   \n",
      "40  {'bsl_options': {'method': 'sgd'}, 'k': 50, 'm...  {'method': 'sgd'}   \n",
      "41  {'bsl_options': {'method': 'sgd'}, 'k': 50, 'm...  {'method': 'sgd'}   \n",
      "43  {'bsl_options': {'method': 'sgd'}, 'k': 50, 'm...  {'method': 'sgd'}   \n",
      "34  {'bsl_options': {'method': 'sgd'}, 'k': 45, 'm...  {'method': 'sgd'}   \n",
      "\n",
      "    param_k  param_min_k  param_random_state  \\\n",
      "42       50           30                  42   \n",
      "40       50           30                  42   \n",
      "41       50           30                  42   \n",
      "43       50           30                  42   \n",
      "34       45           30                  42   \n",
      "\n",
      "                                    param_sim_options  \n",
      "42  {'name': 'pearson_baseline', 'min_support': 10...  \n",
      "40  {'name': 'pearson_baseline', 'min_support': 5,...  \n",
      "41  {'name': 'pearson_baseline', 'min_support': 5,...  \n",
      "43  {'name': 'pearson_baseline', 'min_support': 10...  \n",
      "34  {'name': 'pearson_baseline', 'min_support': 10...  \n"
     ]
    }
   ],
   "source": [
    "# Fit and predict on best model with the lowest rmse\n",
    "predictions = algo.fit(train).test(test)\n",
    "print('RMSE from fit best parameters on train predict on test:')\n",
    "print(accuracy.rmse(predictions))\n",
    "print('\\n')\n",
    "\n",
    "# Save results to df\n",
    "results_df = pd.DataFrame.from_dict(gs.cv_results)\n",
    "results_df = results_df.sort_values('mean_test_rmse', ascending=True)\n",
    "print('KNNBaseline GridSearch HPO Cross Validation Results:')\n",
    "print(results_df.head())\n",
    "results_df.to_csv('KNNBaseline_gridSearch_cvResults_minimized.csv', index=False)\n",
    "\n",
    "del results_df"
   ]
  },
  {
   "cell_type": "code",
   "execution_count": null,
   "id": "d5490111",
   "metadata": {
    "id": "19f800ff",
    "outputId": "9619550f-2052-4138-cfd9-32340eaf30da"
   },
   "outputs": [
    {
     "name": "stdout",
     "output_type": "stream",
     "text": [
      "Estimating biases using sgd...\n",
      "Computing the pearson_baseline similarity matrix...\n",
      "Done computing similarity matrix.\n",
      "RMSE from fit best parameters on train predict on test:\n",
      "RMSE: 0.9999\n",
      "0.9998522259616496\n",
      "\n",
      "\n"
     ]
    }
   ],
   "source": [
    "# Fit model with the lowest rmse\n",
    "algo = gs.best_estimator['rmse']\n",
    "\n",
    "# Fit and predict on best SVD model\n",
    "predictions = algo.fit(train).test(test)\n",
    "print('RMSE from fit best parameters on train predict on test:')\n",
    "print(accuracy.rmse(predictions))\n",
    "print('\\n')\n",
    "\n",
    "# Save predictions and algorithm\n",
    "dump.dump('./KNNBaseline_bestGrid_Model_file', predictions, algo)\n",
    "# predictions, algo = dump.load('./KNNBaseline_bestGrid_Model_file')\n",
    "\n",
    "# Make df of prediction results    \n",
    "df1 = pd.DataFrame(predictions, columns=['reviewerID', 'itemID', 'rui', 'est',\n",
    "                                         'details'])\n",
    "\n",
    "# Apply functions\n",
    "df1['Iu'] = df1.reviewerID.apply(get_Ir)\n",
    "df1['Ui'] = df1.itemID.apply(get_Ri)\n",
    "df1['err'] = abs(df1.est - df1.rui)\n",
    "\n",
    "# Save prediction results    \n",
    "df1.to_csv('predictions_KNNBaseline_gridSearch_minimized.csv')"
   ]
  },
  {
   "cell_type": "code",
   "execution_count": null,
   "id": "9d4af48f",
   "metadata": {
    "id": "3c895bd8",
    "outputId": "f0283bd5-e528-4c5a-da94-817210374912"
   },
   "outputs": [
    {
     "name": "stdout",
     "output_type": "stream",
     "text": [
      "Best 10 predictions:\n",
      "        reviewerID  itemID  rui  est  \\\n",
      "594691         182   17152  5.0  5.0   \n",
      "568813         695    3031  1.0  1.0   \n",
      "567495         182   16843  5.0  5.0   \n",
      "171839         187   14333  5.0  5.0   \n",
      "587673         121    9306  5.0  5.0   \n",
      "314436         182    8531  5.0  5.0   \n",
      "431599         699   20342  5.0  5.0   \n",
      "322575         690    4686  5.0  5.0   \n",
      "222042         311    8067  5.0  5.0   \n",
      "588936         690    3584  5.0  5.0   \n",
      "\n",
      "                                          details    Iu  Ui  err  \n",
      "594691  {'actual_k': 32, 'was_impossible': False}  2800  32  0.0  \n",
      "568813  {'actual_k': 33, 'was_impossible': False}  1537  37  0.0  \n",
      "567495  {'actual_k': 32, 'was_impossible': False}  2800  32  0.0  \n",
      "171839  {'actual_k': 33, 'was_impossible': False}  2746  35  0.0  \n",
      "587673   {'actual_k': 1, 'was_impossible': False}  3461  16  0.0  \n",
      "314436  {'actual_k': 32, 'was_impossible': False}  2800  32  0.0  \n",
      "431599   {'actual_k': 1, 'was_impossible': False}  1551  22  0.0  \n",
      "322575  {'actual_k': 34, 'was_impossible': False}  1519  35  0.0  \n",
      "222042  {'actual_k': 32, 'was_impossible': False}  2283  33  0.0  \n",
      "588936  {'actual_k': 32, 'was_impossible': False}  1519  33  0.0  \n"
     ]
    }
   ],
   "source": [
    "# Find best predictions\n",
    "best_predictions = df1.sort_values(by='err')[:10]\n",
    "\n",
    "print('Best 10 predictions:')\n",
    "print(best_predictions)"
   ]
  },
  {
   "cell_type": "code",
   "execution_count": null,
   "id": "1835f564",
   "metadata": {
    "id": "cce36636",
    "outputId": "f28e63ee-872b-43e9-9e83-577be1bfcc9a"
   },
   "outputs": [
    {
     "name": "stdout",
     "output_type": "stream",
     "text": [
      "Worst 10 predictions:\n",
      "        reviewerID  itemID  rui       est  \\\n",
      "335092         228   18242  1.0  4.893678   \n",
      "144926          65   10940  1.0  4.893753   \n",
      "386679         273   30896  1.0  4.895199   \n",
      "470195         247    1636  1.0  4.906812   \n",
      "508612         278  355983  1.0  4.938696   \n",
      "360091         815   51958  1.0  4.959069   \n",
      "401014        1084   23461  1.0  4.973029   \n",
      "65206          172  290086  1.0  5.000000   \n",
      "100280         992   18024  1.0  5.000000   \n",
      "41341          322   28375  1.0  5.000000   \n",
      "\n",
      "                                         details    Iu  Ui       err  \n",
      "335092  {'actual_k': 0, 'was_impossible': False}  2615   5  3.893678  \n",
      "144926  {'actual_k': 0, 'was_impossible': False}  4919  23  3.893753  \n",
      "386679  {'actual_k': 0, 'was_impossible': False}  2363  11  3.895199  \n",
      "470195  {'actual_k': 1, 'was_impossible': False}  2536  14  3.906812  \n",
      "508612  {'actual_k': 1, 'was_impossible': False}  2389   8  3.938696  \n",
      "360091  {'actual_k': 0, 'was_impossible': False}  1427   2  3.959069  \n",
      "401014  {'actual_k': 0, 'was_impossible': False}  1213   8  3.973029  \n",
      "65206   {'actual_k': 0, 'was_impossible': False}  2819   4  4.000000  \n",
      "100280  {'actual_k': 0, 'was_impossible': False}  1286  25  4.000000  \n",
      "41341   {'actual_k': 0, 'was_impossible': False}  2266  23  4.000000  \n"
     ]
    }
   ],
   "source": [
    "# Find worst predictions\n",
    "worst_predictions = df1.sort_values(by='err')[-10:]\n",
    "\n",
    "print('Worst 10 predictions:')\n",
    "print(worst_predictions)\n",
    "\n",
    "del predictions, df1, best_predictions, worst_predictions"
   ]
  },
  {
   "cell_type": "markdown",
   "id": "a2621ed0",
   "metadata": {
    "id": "2c081938"
   },
   "source": [
    "## SVD with third lowest rmse"
   ]
  },
  {
   "cell_type": "code",
   "execution_count": null,
   "id": "c8fe6dee",
   "metadata": {
    "id": "37b263bd",
    "outputId": "a27fba21-5515-4bc3-905e-577cbb9a7ef9"
   },
   "outputs": [
    {
     "name": "stdout",
     "output_type": "stream",
     "text": [
      "Train/predict using SVD default parameters for 3 epochs:\n",
      "\n",
      "\n",
      "Time for iterating through SVD default parameters..\n",
      "Finished iterating through SVD default parameters: 60.38068866729736\n",
      "\n",
      "\n",
      "Cross validation results:\n",
      "test_rmse  :  [1.07224262 1.07074391 1.0702068 ]\n",
      "test_mae  :  [0.81337178 0.811829   0.81112873]\n",
      "fit_time  :  (19.490893840789795, 18.908312559127808, 19.21304702758789)\n",
      "test_time  :  (6.697888374328613, 6.923274278640747, 6.702215909957886)\n",
      "\n",
      "\n",
      "RMSE from fit best parameters on train predict on test:\n",
      "RMSE: 1.0521\n",
      "1.0520844922805106\n"
     ]
    }
   ],
   "source": [
    "print('Train/predict using SVD default parameters for 3 epochs:')\n",
    "print('\\n')\n",
    "\n",
    "print('Time for iterating through SVD default parameters..')\n",
    "search_time_start = time.time()\n",
    "algo = SVD(n_epochs=3, random_state=seed_value)\n",
    "cv = cross_validate(algo, data, measures=['RMSE', 'MAE'], cv=3, verbose=False, \n",
    "                    n_jobs=-1)\n",
    "print('Finished iterating through SVD default parameters:',\n",
    "      time.time() - search_time_start)\n",
    "print('\\n')\n",
    "\n",
    "print('Cross validation results:')\n",
    "# Iterate over key/value pairs in cv results dict \n",
    "for key, value in cv.items():\n",
    "    print(key, ' : ', value)\n",
    "print('\\n')\n",
    "\n",
    "# Fit and predict on best SVD model\n",
    "predictions = algo.fit(train).test(test)\n",
    "print('RMSE from fit best parameters on train predict on test:')\n",
    "print(accuracy.rmse(predictions))\n",
    "\n",
    "# Save predictions and algorithm\n",
    "dump.dump('./SVD_3epochs_DefaultParamModel_file', predictions, algo)\n",
    "# predictions, algo = dump.load('./SVD_3epochs_DefaultParamModel_file')\n",
    "\n",
    "# Make df of prediction results    \n",
    "df1 = pd.DataFrame(predictions, columns=['reviewerID', 'itemID', 'rui', 'est',\n",
    "                                         'details'])\n",
    "\n",
    "# Apply functions\n",
    "df1['Iu'] = df1.reviewerID.apply(get_Ir)\n",
    "df1['Ui'] = df1.itemID.apply(get_Ri)\n",
    "df1['err'] = abs(df1.est - df1.rui)\n",
    "\n",
    "# Save prediction results    \n",
    "df1.to_csv('predictions_SVD_DefaultParamModel.csv')"
   ]
  },
  {
   "cell_type": "code",
   "execution_count": null,
   "id": "dc8c1283",
   "metadata": {
    "id": "6705228f",
    "outputId": "cf7dd431-c2dd-4c39-e00b-8bac314b0a69"
   },
   "outputs": [
    {
     "name": "stdout",
     "output_type": "stream",
     "text": [
      "Best 10 predictions:\n",
      "        reviewerID  itemID  rui  est                    details    Iu  Ui  err\n",
      "182456           6   92811  5.0  5.0  {'was_impossible': False}  8174  17  0.0\n",
      "356382          10   55751  5.0  5.0  {'was_impossible': False}  8084  19  0.0\n",
      "196237          61   62184  5.0  5.0  {'was_impossible': False}  5037  20  0.0\n",
      "505090           4   29447  5.0  5.0  {'was_impossible': False}  8266  14  0.0\n",
      "356542           4  174687  5.0  5.0  {'was_impossible': False}  8266  13  0.0\n",
      "70773            8   65607  5.0  5.0  {'was_impossible': False}  8143  14  0.0\n",
      "10464           94   49731  5.0  5.0  {'was_impossible': False}  3950  21  0.0\n",
      "70730            6   47724  5.0  5.0  {'was_impossible': False}  8174  24  0.0\n",
      "356830         184   14825  5.0  5.0  {'was_impossible': False}  2766  35  0.0\n",
      "356839          39   67864  5.0  5.0  {'was_impossible': False}  5786  18  0.0\n"
     ]
    }
   ],
   "source": [
    "# Find best predictions\n",
    "best_predictions = df1.sort_values(by='err')[:10]\n",
    "\n",
    "print('Best 10 predictions:')\n",
    "print(best_predictions)"
   ]
  },
  {
   "cell_type": "code",
   "execution_count": null,
   "id": "d32a9794",
   "metadata": {
    "id": "be415bb7",
    "outputId": "76893922-f6e2-448b-b63d-ded390394d03"
   },
   "outputs": [
    {
     "name": "stdout",
     "output_type": "stream",
     "text": [
      "Worst 10 predictions:\n",
      "        reviewerID    itemID  rui       est                    details    Iu  \\\n",
      "574212        1054     77926  1.0  4.808597  {'was_impossible': False}  1279   \n",
      "2731            53  12238590  1.0  4.822271  {'was_impossible': False}  5217   \n",
      "182869          53  12238679  1.0  4.822271  {'was_impossible': False}  5217   \n",
      "287045          53   4228354  1.0  4.822271  {'was_impossible': False}  5217   \n",
      "610915         815     51958  1.0  4.836683  {'was_impossible': False}  1410   \n",
      "144436         318   5560304  1.0  4.842536  {'was_impossible': False}  2282   \n",
      "568727         318   5585473  1.0  4.842536  {'was_impossible': False}  2282   \n",
      "206325         318   1803591  1.0  4.842536  {'was_impossible': False}  2282   \n",
      "367809         318   5577052  1.0  4.842536  {'was_impossible': False}  2282   \n",
      "177358         224   3441477  1.0  4.847012  {'was_impossible': False}  2600   \n",
      "\n",
      "        Ui       err  \n",
      "574212   1  3.808597  \n",
      "2731     0  3.822271  \n",
      "182869   0  3.822271  \n",
      "287045   0  3.822271  \n",
      "610915   2  3.836683  \n",
      "144436   0  3.842536  \n",
      "568727   0  3.842536  \n",
      "206325   0  3.842536  \n",
      "367809   0  3.842536  \n",
      "177358   1  3.847012  \n"
     ]
    }
   ],
   "source": [
    "# Find worst predictions\n",
    "worst_predictions = df1.sort_values(by='err')[-10:]\n",
    "\n",
    "print('Worst 10 predictions:')\n",
    "print(worst_predictions)\n",
    "\n",
    "del predictions, df1, best_predictions, worst_predictions"
   ]
  },
  {
   "cell_type": "markdown",
   "id": "0696f6e4",
   "metadata": {
    "id": "ff357689"
   },
   "source": [
    "## SVD HPO using Grid Search"
   ]
  },
  {
   "cell_type": "code",
   "execution_count": null,
   "id": "36e98ee2",
   "metadata": {
    "id": "e4fae1b3",
    "outputId": "76efe3bb-ab7c-41aa-96b2-4128cb014325"
   },
   "outputs": [
    {
     "name": "stdout",
     "output_type": "stream",
     "text": [
      "SVD HPO Grid search parameters:\n"
     ]
    },
    {
     "data": {
      "text/plain": [
       "{'n_epochs': [30, 35, 40, 45, 50, 55, 60, 65, 70],\n",
       " 'n_factors': [20, 25, 30, 35, 40, 45, 50],\n",
       " 'lr_all': [0.002, 0.003, 0.004, 0.005, 0.006, 0.007],\n",
       " 'reg_all': [0.0001, 0.001, 0.01, 0.02, 0.03, 0.04],\n",
       " 'random_state': [42]}"
      ]
     },
     "execution_count": 86,
     "metadata": {},
     "output_type": "execute_result"
    }
   ],
   "source": [
    "# Define parameters for grid search       \n",
    "param_grid = {'n_epochs': [30, 35, 40, 45, 50, 55, 60, 65, 70], \n",
    "              'n_factors': [20, 25, 30, 35, 40 ,45 , 50], \n",
    "              'lr_all': [0.002, 0.003, 0.004, 0.005, 0.006, 0.007], \n",
    "              'reg_all': [0.0001, 0.001, 0.01, 0.02, 0.03, 0.04],\n",
    "              'random_state': [seed_value]\n",
    "              }\n",
    "\n",
    "# Print nested dictionary line by line\n",
    "print('SVD HPO Grid search parameters:')\n",
    "param_grid"
   ]
  },
  {
   "cell_type": "code",
   "execution_count": null,
   "id": "d33c96cf",
   "metadata": {
    "id": "6b135e81",
    "outputId": "b95f0554-f712-43ee-c6f5-7dc64b0ee245"
   },
   "outputs": [
    {
     "name": "stdout",
     "output_type": "stream",
     "text": [
      "Time for iterating grid search parameters..\n"
     ]
    },
    {
     "name": "stderr",
     "output_type": "stream",
     "text": [
      "[Parallel(n_jobs=-1)]: Using backend LokyBackend with 16 concurrent workers.\n",
      "[Parallel(n_jobs=-1)]: Done  40 tasks      | elapsed:  7.8min\n",
      "[Parallel(n_jobs=-1)]: Done 256 tasks      | elapsed: 44.0min\n",
      "[Parallel(n_jobs=-1)]: Done 616 tasks      | elapsed: 117.4min\n",
      "[Parallel(n_jobs=-1)]: Done 1120 tasks      | elapsed: 218.4min\n",
      "[Parallel(n_jobs=-1)]: Done 1768 tasks      | elapsed: 364.5min\n",
      "[Parallel(n_jobs=-1)]: Done 2560 tasks      | elapsed: 561.4min\n",
      "[Parallel(n_jobs=-1)]: Done 3496 tasks      | elapsed: 825.0min\n",
      "[Parallel(n_jobs=-1)]: Done 4576 tasks      | elapsed: 1175.2min\n",
      "[Parallel(n_jobs=-1)]: Done 5800 tasks      | elapsed: 1606.4min\n"
     ]
    },
    {
     "name": "stdout",
     "output_type": "stream",
     "text": [
      "Finished iterating grid search parameters: 120666.43906760216\n",
      "\n",
      "\n",
      "Lowest RMSE from Grid Search:\n",
      "0.8751145898635144\n",
      "\n",
      "\n",
      "Parameters of Model with lowest RMSE from Grid Search:\n",
      "{'n_epochs': 70, 'n_factors': 50, 'lr_all': 0.007, 'reg_all': 0.02, 'random_state': 42}\n"
     ]
    },
    {
     "name": "stderr",
     "output_type": "stream",
     "text": [
      "[Parallel(n_jobs=-1)]: Done 6804 out of 6804 | elapsed: 2010.8min finished\n"
     ]
    }
   ],
   "source": [
    "# Run grid search\n",
    "gs = GridSearchCV(SVD, param_grid, measures=['rmse', 'mae'], cv=3,\n",
    "                  joblib_verbose=-1, n_jobs=-1)\n",
    "print('Time for iterating grid search parameters..')\n",
    "search_time_start = time.time()\n",
    "gs.fit(data)\n",
    "print('Finished iterating grid search parameters:',\n",
    "      time.time() - search_time_start)\n",
    "print('\\n')\n",
    "\n",
    "# Lowest RMSE score\n",
    "print('Lowest RMSE from Grid Search:')\n",
    "print(gs.best_score['rmse'])\n",
    "print('\\n')\n",
    "\n",
    "# Parameters with the lowest RMSE \n",
    "print('Parameters of Model with lowest RMSE from Grid Search:')\n",
    "print(gs.best_params['rmse'])"
   ]
  },
  {
   "cell_type": "code",
   "execution_count": null,
   "id": "61911101",
   "metadata": {
    "id": "338e64d6",
    "outputId": "4570f40f-6355-49c9-dabc-64e223fe8246",
    "scrolled": true
   },
   "outputs": [
    {
     "name": "stdout",
     "output_type": "stream",
     "text": [
      "SVD GridSearch HPO Cross Validation Results:\n",
      "      split0_test_rmse  split1_test_rmse  split2_test_rmse  mean_test_rmse  \\\n",
      "2265          0.875581          0.875944          0.873819        0.875115   \n",
      "2264          0.875565          0.876027          0.873893        0.875162   \n",
      "2229          0.875793          0.876274          0.873673        0.875247   \n",
      "2228          0.875805          0.876348          0.873693        0.875282   \n",
      "2193          0.876021          0.876184          0.873846        0.875350   \n",
      "\n",
      "      std_test_rmse  rank_test_rmse  split0_test_mae  split1_test_mae  \\\n",
      "2265       0.000928               1         0.549068         0.549599   \n",
      "2264       0.000917               2         0.540922         0.541435   \n",
      "2229       0.001130               3         0.549002         0.549727   \n",
      "2228       0.001145               4         0.540729         0.541484   \n",
      "2193       0.001066               5         0.549033         0.549468   \n",
      "\n",
      "      split2_test_mae  mean_test_mae  std_test_mae  rank_test_mae  \\\n",
      "2265         0.548904       0.549190      0.000296            633   \n",
      "2264         0.540665       0.541007      0.000320            427   \n",
      "2229         0.548572       0.549100      0.000477            631   \n",
      "2228         0.540173       0.540795      0.000538            418   \n",
      "2193         0.548435       0.548979      0.000423            629   \n",
      "\n",
      "      mean_fit_time  std_fit_time  mean_test_time  std_test_time  \\\n",
      "2265     389.968057     14.276625        7.438854       0.336841   \n",
      "2264     415.915523      2.558622       10.739702       0.352589   \n",
      "2229     406.362047      1.625317       11.629610       0.504850   \n",
      "2228     407.601720      1.030352       11.305535       0.325158   \n",
      "2193     383.823666      1.049237       11.729462       0.285307   \n",
      "\n",
      "                                                 params  param_n_epochs  \\\n",
      "2265  {'n_epochs': 70, 'n_factors': 50, 'lr_all': 0....              70   \n",
      "2264  {'n_epochs': 70, 'n_factors': 50, 'lr_all': 0....              70   \n",
      "2229  {'n_epochs': 70, 'n_factors': 45, 'lr_all': 0....              70   \n",
      "2228  {'n_epochs': 70, 'n_factors': 45, 'lr_all': 0....              70   \n",
      "2193  {'n_epochs': 70, 'n_factors': 40, 'lr_all': 0....              70   \n",
      "\n",
      "      param_n_factors  param_lr_all  param_reg_all  param_random_state  \n",
      "2265               50         0.007           0.02                  42  \n",
      "2264               50         0.007           0.01                  42  \n",
      "2229               45         0.007           0.02                  42  \n",
      "2228               45         0.007           0.01                  42  \n",
      "2193               40         0.007           0.02                  42  \n",
      "\n",
      "\n"
     ]
    }
   ],
   "source": [
    "# Save results to df\n",
    "results_df = pd.DataFrame.from_dict(gs.cv_results)\n",
    "results_df = results_df.sort_values('mean_test_rmse', ascending=True)\n",
    "print('SVD GridSearch HPO Cross Validation Results:')\n",
    "print(results_df.head())\n",
    "print('\\n')\n",
    "results_df.to_csv('SVD_gridSearch_cvResults.csv', index=False)\n",
    "\n",
    "del results_df"
   ]
  },
  {
   "cell_type": "code",
   "execution_count": null,
   "id": "1bc5ea4b",
   "metadata": {
    "id": "68188737",
    "outputId": "668476e1-b3f5-4720-c915-5732759e4119"
   },
   "outputs": [
    {
     "name": "stdout",
     "output_type": "stream",
     "text": [
      "RMSE from fit best parameters on train predict on test:\n",
      "RMSE: 0.8509\n",
      "0.8509006630864451\n",
      "\n",
      "\n"
     ]
    }
   ],
   "source": [
    "# Fit model with the lowest rmse\n",
    "algo = gs.best_estimator['rmse']\n",
    "\n",
    "# Fit and predict on best SVD model\n",
    "predictions = algo.fit(train).test(test)\n",
    "print('RMSE from fit best parameters on train predict on test:')\n",
    "print(accuracy.rmse(predictions))\n",
    "print('\\n')\n",
    "\n",
    "# Save predictions and algorithm\n",
    "dump.dump('./SVD_bestGrid_Model_file', predictions, algo)\n",
    "# predictions, algo = dump.load('./SVD_bestGrid_Model_file')\n",
    "\n",
    "# Make df of prediction results    \n",
    "df1 = pd.DataFrame(predictions, columns=['reviewerID', 'itemID', 'rui', 'est',\n",
    "                                         'details'])\n",
    "\n",
    "# Apply functions\n",
    "df1['Iu'] = df1.reviewerID.apply(get_Ir)\n",
    "df1['Ui'] = df1.itemID.apply(get_Ri)\n",
    "df1['err'] = abs(df1.est - df1.rui)\n",
    "\n",
    "# Save prediction results    \n",
    "df1.to_csv('predictions_SVD_gridSearch.csv')"
   ]
  },
  {
   "cell_type": "code",
   "execution_count": null,
   "id": "3265f4f0",
   "metadata": {
    "id": "e2286ff0",
    "outputId": "e997a9cb-2936-4e22-9418-ec8d6b05ef33"
   },
   "outputs": [
    {
     "name": "stdout",
     "output_type": "stream",
     "text": [
      "Best 10 predictions:\n",
      "        reviewerID   itemID  rui  est                    details    Iu  Ui  \\\n",
      "531122         135  2690287  5.0  5.0  {'was_impossible': False}  3216   1   \n",
      "405632         455   574393  5.0  5.0  {'was_impossible': False}  1954   2   \n",
      "282541          27    53228  1.0  1.0  {'was_impossible': False}  6638  22   \n",
      "187281          31    47707  5.0  5.0  {'was_impossible': False}  6482  22   \n",
      "405650         178    37615  5.0  5.0  {'was_impossible': False}  2784  25   \n",
      "235759         455  3117342  5.0  5.0  {'was_impossible': False}  1954   1   \n",
      "59156           47    47468  5.0  5.0  {'was_impossible': False}  5464  19   \n",
      "228886          31    64068  5.0  5.0  {'was_impossible': False}  6482  21   \n",
      "603482         217    68855  5.0  5.0  {'was_impossible': False}  2643   5   \n",
      "212835          31    64499  5.0  5.0  {'was_impossible': False}  6482  20   \n",
      "\n",
      "        err  \n",
      "531122  0.0  \n",
      "405632  0.0  \n",
      "282541  0.0  \n",
      "187281  0.0  \n",
      "405650  0.0  \n",
      "235759  0.0  \n",
      "59156   0.0  \n",
      "228886  0.0  \n",
      "603482  0.0  \n",
      "212835  0.0  \n"
     ]
    }
   ],
   "source": [
    "# Find best predictions\n",
    "best_predictions = df1.sort_values(by='err')[:10]\n",
    "\n",
    "print('Best 10 predictions:')\n",
    "print(best_predictions)"
   ]
  },
  {
   "cell_type": "code",
   "execution_count": null,
   "id": "6ad2c344",
   "metadata": {
    "id": "4d96a328",
    "outputId": "0217231a-5d0b-43b0-eaed-a0efa026fa47"
   },
   "outputs": [
    {
     "name": "stdout",
     "output_type": "stream",
     "text": [
      "Worst 10 predictions:\n",
      "        reviewerID   itemID  rui  est                    details    Iu  Ui  \\\n",
      "197725         890   129653  1.0  5.0  {'was_impossible': False}  1375   5   \n",
      "532082         225     4678  1.0  5.0  {'was_impossible': False}  2594  24   \n",
      "139164         802    76288  1.0  5.0  {'was_impossible': False}  1468   5   \n",
      "511453          25   690900  1.0  5.0  {'was_impossible': False}  6848   3   \n",
      "365581         273  1425906  1.0  5.0  {'was_impossible': False}  2382   1   \n",
      "501522         599  1183676  1.0  5.0  {'was_impossible': False}  1665   1   \n",
      "315136         458   190428  1.0  5.0  {'was_impossible': False}  1983   1   \n",
      "621093         493    97874  1.0  5.0  {'was_impossible': False}  1827   5   \n",
      "78050          628   766692  1.0  5.0  {'was_impossible': False}  1583   1   \n",
      "255399         322   414659  1.0  5.0  {'was_impossible': False}  2277   1   \n",
      "\n",
      "        err  \n",
      "197725  4.0  \n",
      "532082  4.0  \n",
      "139164  4.0  \n",
      "511453  4.0  \n",
      "365581  4.0  \n",
      "501522  4.0  \n",
      "315136  4.0  \n",
      "621093  4.0  \n",
      "78050   4.0  \n",
      "255399  4.0  \n"
     ]
    }
   ],
   "source": [
    "# Find worst predictions\n",
    "worst_predictions = df1.sort_values(by='err')[-10:]\n",
    "\n",
    "print('Worst 10 predictions:')\n",
    "print(worst_predictions)\n",
    "\n",
    "del data, train, test, predictions, df1, best_predictions, worst_predictions"
   ]
  },
  {
   "cell_type": "markdown",
   "id": "717a6049",
   "metadata": {
    "id": "a5f19e93"
   },
   "source": [
    "## RecSys Methods without Surprise\n",
    "### Create the rating matrix with items and reviewers"
   ]
  },
  {
   "cell_type": "code",
   "execution_count": null,
   "id": "625a90ab",
   "metadata": {
    "id": "3f155cc0",
    "outputId": "0ad5dc58-65d1-40d0-e99f-e897be955b68"
   },
   "outputs": [
    {
     "name": "stdout",
     "output_type": "stream",
     "text": [
      "Ratings matrix information:\n",
      "<class 'pandas.core.frame.DataFrame'>\n",
      "Int64Index: 1138 entries, 0 to 1137\n",
      "Columns: 1757869 entries, 0 to 12479886\n",
      "dtypes: float64(1757869)\n",
      "memory usage: 14.9 GB\n",
      "None\n",
      "\n",
      "\n",
      "Dimensions of rating matrix: (1138, 1757869)\n",
      "\n",
      "\n",
      "Number of non zero ratings: 3109309\n",
      "Number of possible ratings: 2000454922\n",
      "\n",
      "\n",
      "Density of rating matrix: 0.155%\n"
     ]
    }
   ],
   "source": [
    "ratingsMat = pd.pivot_table(df, index=['reviewer_id'], columns = 'item_id', \n",
    "                            values = 'rating').fillna(0)\n",
    "\n",
    "print('Ratings matrix information:')\n",
    "print(ratingsMat.info())\n",
    "print('\\n')\n",
    "print('Dimensions of rating matrix:', ratingsMat.shape)\n",
    "print('\\n')\n",
    "\n",
    "rating_nonZero = np.count_nonzero(ratingsMat)\n",
    "print('Number of non zero ratings:', rating_nonZero)\n",
    "\n",
    "rating_possible = ratingsMat.shape[0] * ratingsMat.shape[1]\n",
    "print('Number of possible ratings:', rating_possible)\n",
    "print('\\n')\n",
    "\n",
    "density = (rating_nonZero/rating_possible) *100\n",
    "print ('Density of rating matrix: {:4.3f}%'.format(density))"
   ]
  },
  {
   "cell_type": "code",
   "execution_count": null,
   "id": "5e53fe6a",
   "metadata": {
    "id": "ebfbdd6d",
    "outputId": "60472ef3-72f0-43ae-cfb8-6de8d15b1203"
   },
   "outputs": [
    {
     "name": "stdout",
     "output_type": "stream",
     "text": [
      "Dimensions of train set:  (2490914, 3)\n",
      "Dimensions of test set:  (622729, 3)\n",
      "\n",
      "\n",
      "Count of different ratings in train set:\n",
      "5.0    1590666\n",
      "4.0     441962\n",
      "3.0     201629\n",
      "1.0     137217\n",
      "2.0     119440\n",
      "\n",
      "\n",
      "Count of different ratings in test set:\n",
      "5.0    397282\n",
      "4.0    110577\n",
      "3.0     50575\n",
      "1.0     34353\n",
      "2.0     29942\n"
     ]
    }
   ],
   "source": [
    "# Use train_test_split from sklearn.model_selection\n",
    "from sklearn.model_selection import train_test_split\n",
    "\n",
    "# Create train/test sets for modeling\n",
    "train, test = train_test_split(df, test_size = 0.2, random_state=seed_value)\n",
    "\n",
    "print('Dimensions of train set:', train.shape)\n",
    "print('Dimensions of test set:', test.shape)\n",
    "print('\\n')\n",
    "print('Count of different ratings in train set:')\n",
    "print(train.rating.value_counts().to_string())\n",
    "print('\\n')\n",
    "print('Count of different ratings in test set:')\n",
    "print(test.rating.value_counts().to_string())"
   ]
  },
  {
   "cell_type": "markdown",
   "id": "df9646e7",
   "metadata": {
    "id": "01ef3db1"
   },
   "source": [
    "## Create SVD Based Recommendation System using SciPy"
   ]
  },
  {
   "cell_type": "code",
   "execution_count": null,
   "id": "96a3498a",
   "metadata": {
    "id": "cbfcbc79"
   },
   "outputs": [],
   "source": [
    "# Define reviewer index \n",
    "ratingsMat['reviewer_index'] = np.arange(0, ratingsMat.shape[0], 1)\n",
    "ratingsMat.set_index(['reviewer_index'], inplace=True)\n",
    "\n",
    "# Define parameters\n",
    "U, sigma, Vt = svds(ratingsMat, k = 6)\n",
    "\n",
    "# Construct a diagonal matrix in SVD\n",
    "sigma = np.diag(sigma)\n",
    "\n",
    "# Predicted rating\n",
    "reviewers_predRating = np.dot(np.dot(U, sigma), Vt) \n",
    "\n",
    "ratingPred = pd.DataFrame(reviewers_predRating, columns = ratingsMat.columns)"
   ]
  },
  {
   "cell_type": "code",
   "execution_count": null,
   "id": "8dd91b0e",
   "metadata": {
    "id": "91d05c40"
   },
   "outputs": [],
   "source": [
    "# Recommend the items with the highest predicted rating\n",
    "def recommend_items(reviewerID, ratingsMat, ratingPred, num_recommendations):\n",
    "    reviewer_idx = reviewerID-1\n",
    "    \n",
    "    # Get and sort the reviewer's rating\n",
    "    sorted_reviewer_rating = ratingsMat.iloc[reviewer_idx].sort_values(ascending=False)\n",
    "    sorted_reviewer_predictions = ratingPred.iloc[reviewer_idx].sort_values(ascending=False)\n",
    "\n",
    "    # Concatenate rating with predicted rating\n",
    "    tmp = pd.concat([sorted_reviewer_rating, sorted_reviewer_predictions], \n",
    "                     axis=1)\n",
    "    tmp.index.name = 'Recommended Items'\n",
    "    tmp.columns = ['reviewer_rating', 'reviewer_predictions']\n",
    "    tmp = tmp.loc[tmp.reviewer_rating == 0]\n",
    "    tmp = tmp.sort_values('reviewer_predictions', ascending=False)\n",
    "    \n",
    "    print('\\nBelow are the recommended items for reviewer(reviewer_id = {}):\\n'.format(reviewerID))\n",
    "    print(tmp.head(num_recommendations))"
   ]
  },
  {
   "cell_type": "code",
   "execution_count": null,
   "id": "91d6ab4c",
   "metadata": {
    "id": "d565b110",
    "outputId": "144dbb19-958e-4b04-beab-428bf3567c52",
    "scrolled": true
   },
   "outputs": [
    {
     "name": "stdout",
     "output_type": "stream",
     "text": [
      "\n",
      "Below are the recommended items for reviewer(reviewer_id = 1):\n",
      "\n",
      "                   reviewer_rating  reviewer_predictions\n",
      "Recommended Items                                       \n",
      "240543                         0.0              5.056791\n",
      "8072                           0.0              5.054071\n",
      "170198                         0.0              5.053674\n",
      "170199                         0.0              5.053278\n",
      "8036                           0.0              5.053161\n",
      "24462                          0.0              5.052726\n",
      "674966                         0.0              5.052351\n",
      "499498                         0.0              5.052351\n",
      "675194                         0.0              5.052351\n",
      "280915                         0.0              5.052351\n",
      "\n",
      "Below are the recommended items for reviewer(reviewer_id = 2):\n",
      "\n",
      "                   reviewer_rating  reviewer_predictions\n",
      "Recommended Items                                       \n",
      "89917                          0.0              3.440140\n",
      "217073                         0.0              3.433532\n",
      "581491                         0.0              3.393541\n",
      "419535                         0.0              3.380940\n",
      "1405644                        0.0              3.356440\n",
      "122297                         0.0              3.346772\n",
      "913173                         0.0              3.329628\n",
      "1014392                        0.0              3.327909\n",
      "854865                         0.0              3.327607\n",
      "422506                         0.0              3.326389\n",
      "\n",
      "Below are the recommended items for reviewer(reviewer_id = 3):\n",
      "\n",
      "                   reviewer_rating  reviewer_predictions\n",
      "Recommended Items                                       \n",
      "896497                         0.0              3.482870\n",
      "26073                          0.0              3.353490\n",
      "26083                          0.0              3.336546\n",
      "578390                         0.0              3.324310\n",
      "218524                         0.0              3.324298\n",
      "34082                          0.0              3.323965\n",
      "1016884                        0.0              3.323468\n",
      "50465                          0.0              2.672147\n",
      "197937                         0.0              1.897796\n",
      "108804                         0.0              1.830260\n"
     ]
    }
   ],
   "source": [
    "reviewerID = 1\n",
    "num_recommendations = 10\n",
    "recommend_items(reviewerID, ratingsMat, ratingPred, num_recommendations)\n",
    "\n",
    "reviewerID = 2\n",
    "num_recommendations = 10\n",
    "recommend_items(reviewerID, ratingsMat, ratingPred, num_recommendations)\n",
    "\n",
    "reviewerID = 3\n",
    "num_recommendations = 10\n",
    "recommend_items(reviewerID, ratingsMat, ratingPred, num_recommendations)"
   ]
  },
  {
   "cell_type": "code",
   "execution_count": null,
   "id": "ca8415c0",
   "metadata": {
    "id": "2fc1759c",
    "outputId": "63f188fb-3d36-4ea8-8f12-bfbfb22e8a8e"
   },
   "outputs": [
    {
     "name": "stdout",
     "output_type": "stream",
     "text": [
      "RMSE of SciPy SVD Model = 0.0069640134\n"
     ]
    }
   ],
   "source": [
    "# Evaluate the SciPy SVD Collaborative recommender model\n",
    "rmse_df = pd.concat([ratingsMat.mean(), ratingPred.mean()], axis=1)\n",
    "rmse_df.columns = ['Avg_actual_rating', 'Avg_predicted_rating']\n",
    "rmse_df['item_index'] = np.arange(0, rmse_df.shape[0], 1)\n",
    "\n",
    "RMSE = round((((rmse_df.Avg_actual_rating - rmse_df.Avg_predicted_rating)**2).mean()**0.5), 10)\n",
    "print('\\nRMSE of SciPy SVD Model = {} \\n'.format(RMSE))"
   ]
  },
  {
   "cell_type": "markdown",
   "id": "5512bc7d",
   "metadata": {
    "id": "cd8d8ba7"
   },
   "source": [
    "## Popularity Model"
   ]
  },
  {
   "cell_type": "code",
   "execution_count": null,
   "id": "b376b89f",
   "metadata": {
    "id": "0d92a86f"
   },
   "outputs": [],
   "source": [
    "# Count of each reviewer for each unique item as recommendation score \n",
    "train_grouped = train.groupby('item_id').agg({'reviewer_id': 'count'}).reset_index()\n",
    "train_grouped.rename(columns = {'reviewer_id': 'rating'}, inplace=True)\n",
    "\n",
    "# Sort the products on recommendation score \n",
    "train_sort = train_grouped.sort_values(['rating', 'item_id'], \n",
    "                                       ascending = [0,1]) \n",
    "      \n",
    "# Generate a recommendation rank based by scoring \n",
    "train_sort['rank'] = train_sort['rating'].rank(ascending=0, method='first') "
   ]
  },
  {
   "cell_type": "code",
   "execution_count": null,
   "id": "061a5104",
   "metadata": {
    "id": "f98dc423",
    "outputId": "de2ed9c0-0760-4f50-9572-6d6b835673d7"
   },
   "outputs": [
    {
     "name": "stdout",
     "output_type": "stream",
     "text": [
      "\n",
      "Top 5 recommendations \n",
      "      item_id  rating  rank\n",
      "806       914      70   1.0\n",
      "1511     1770      63   2.0\n",
      "1412     1654      61   3.0\n",
      "1467     1723      58   4.0\n",
      "2148     2564      54   5.0\n",
      "\n",
      "\n"
     ]
    }
   ],
   "source": [
    "# Get the top 5 recommendations \n",
    "popularity_recommendations = train_sort.head() \n",
    "print('\\nTop 5 recommendations ')\n",
    "print(popularity_recommendations)"
   ]
  },
  {
   "cell_type": "code",
   "execution_count": null,
   "id": "e5a8e73e",
   "metadata": {
    "id": "f9c66f5f",
    "outputId": "56346948-9b45-4837-e5d1-002d24bbe029"
   },
   "outputs": [
    {
     "name": "stdout",
     "output_type": "stream",
     "text": [
      "The list of recommendations for the reviewer_id: 1\n",
      "\n",
      "      reviewer_id  item_id  rating  rank\n",
      "806             1      914      70   1.0\n",
      "1511            1     1770      63   2.0\n",
      "1412            1     1654      61   3.0\n",
      "1467            1     1723      58   4.0\n",
      "2148            1     2564      54   5.0\n",
      "The list of recommendations for the reviewer_id: 100\n",
      "\n",
      "      reviewer_id  item_id  rating  rank\n",
      "806           100      914      70   1.0\n",
      "1511          100     1770      63   2.0\n",
      "1412          100     1654      61   3.0\n",
      "1467          100     1723      58   4.0\n",
      "2148          100     2564      54   5.0\n",
      "The list of recommendations for the reviewer_id: 200\n",
      "\n",
      "      reviewer_id  item_id  rating  rank\n",
      "806           200      914      70   1.0\n",
      "1511          200     1770      63   2.0\n",
      "1412          200     1654      61   3.0\n",
      "1467          200     1723      58   4.0\n",
      "2148          200     2564      54   5.0\n"
     ]
    }
   ],
   "source": [
    "# Use popularity based recommender model to make predictions\n",
    "def recommend(reviewer_id):     \n",
    "    reviewer_recommendations = popularity_recommendations \n",
    "          \n",
    "    # Add reviewer_id column for which the recommendations are being generated \n",
    "    reviewer_recommendations['reviewer_id'] = reviewer_id \n",
    "      \n",
    "    # Bring reviewer_id column to the first column\n",
    "    cols = reviewer_recommendations.columns.tolist() \n",
    "    cols = cols[-1:] + cols[:-1] \n",
    "    reviewer_recommendations = reviewer_recommendations[cols] \n",
    "          \n",
    "    return reviewer_recommendations \n",
    "\n",
    "find_recom = [1,100,200]   \n",
    "for i in find_recom:\n",
    "    print('The list of recommendations for the reviewer_id: %d\\n' %(i))\n",
    "    print(recommend(i))    "
   ]
  }
 ],
 "metadata": {
  "colab": {
   "name": "RecSys_Models.ipynb",
   "provenance": []
  },
  "kernelspec": {
   "display_name": "Python 3 (ipykernel)",
   "language": "python",
   "name": "python3"
  },
  "language_info": {
   "codemirror_mode": {
    "name": "ipython",
    "version": 3
   },
   "file_extension": ".py",
   "mimetype": "text/x-python",
   "name": "python",
   "nbconvert_exporter": "python",
   "pygments_lexer": "ipython3",
   "version": "3.8.5"
  }
 },
 "nbformat": 4,
 "nbformat_minor": 5
}
