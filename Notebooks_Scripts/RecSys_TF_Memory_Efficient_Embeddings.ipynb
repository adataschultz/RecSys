{
  "cells": [
    {
      "cell_type": "markdown",
      "source": [
        "# Collaborative Filtering Model using Tensorflow"
      ],
      "metadata": {
        "id": "szUypTPAaOvd"
      }
    },
    {
      "cell_type": "code",
      "execution_count": null,
      "metadata": {
        "colab": {
          "base_uri": "https://localhost:8080/"
        },
        "id": "pPD1AoKmuksU",
        "outputId": "73a94dc9-798c-43a9-c99e-dcf5e1a6b2c4"
      },
      "outputs": [
        {
          "output_type": "stream",
          "name": "stdout",
          "text": [
            "Mounted at /content/drive\n"
          ]
        }
      ],
      "source": [
        "from google.colab import drive \n",
        "drive.mount('/content/drive')"
      ]
    },
    {
      "cell_type": "code",
      "execution_count": null,
      "metadata": {
        "gradient": {
          "editing": true,
          "id": "ca5c6b44-baf6-48c3-8e1e-5c45cf696060",
          "kernelId": "5f2000ec-84ad-4d58-856e-fac9177e6a1d"
        },
        "id": "SJsjiI7GlIeX",
        "colab": {
          "base_uri": "https://localhost:8080/"
        },
        "outputId": "34886079-d42b-4729-9ca5-ab7b5c737405"
      },
      "outputs": [
        {
          "output_type": "stream",
          "name": "stdout",
          "text": [
            "CUDA and NVIDIA GPU Information\n",
            "nvcc: NVIDIA (R) Cuda compiler driver\n",
            "Copyright (c) 2005-2021 NVIDIA Corporation\n",
            "Built on Sun_Feb_14_21:12:58_PST_2021\n",
            "Cuda compilation tools, release 11.2, V11.2.152\n",
            "Build cuda_11.2.r11.2/compiler.29618528_0\n",
            "Tue Jan 10 15:15:33 2023       \n",
            "+-----------------------------------------------------------------------------+\n",
            "| NVIDIA-SMI 460.32.03    Driver Version: 460.32.03    CUDA Version: 11.2     |\n",
            "|-------------------------------+----------------------+----------------------+\n",
            "| GPU  Name        Persistence-M| Bus-Id        Disp.A | Volatile Uncorr. ECC |\n",
            "| Fan  Temp  Perf  Pwr:Usage/Cap|         Memory-Usage | GPU-Util  Compute M. |\n",
            "|                               |                      |               MIG M. |\n",
            "|===============================+======================+======================|\n",
            "|   0  Tesla T4            Off  | 00000000:00:04.0 Off |                    0 |\n",
            "| N/A   67C    P0    31W /  70W |    992MiB / 15109MiB |      0%      Default |\n",
            "|                               |                      |                  N/A |\n",
            "+-------------------------------+----------------------+----------------------+\n",
            "                                                                               \n",
            "+-----------------------------------------------------------------------------+\n",
            "| Processes:                                                                  |\n",
            "|  GPU   GI   CI        PID   Type   Process name                  GPU Memory |\n",
            "|        ID   ID                                                   Usage      |\n",
            "|=============================================================================|\n",
            "+-----------------------------------------------------------------------------+\n",
            "\n",
            "\n",
            "TensorFlow version: 2.9.2\n",
            "Eager execution is: True\n",
            "Keras version: 2.9.0\n",
            "Num GPUs Available:  1\n",
            "\n",
            "\n"
          ]
        }
      ],
      "source": [
        "# Install and import packages\n",
        "import os\n",
        "import random\n",
        "import warnings\n",
        "import numpy as np\n",
        "import pandas as pd\n",
        "import math\n",
        "import sklearn\n",
        "from sklearn.utils import shuffle\n",
        "from sklearn.model_selection import train_test_split\n",
        "import datetime\n",
        "import tensorflow as tf\n",
        "from tensorflow.python.lib.io import file_io\n",
        "from tensorboard.plugins.hparams import api as hp\n",
        "from tensorflow import keras\n",
        "from tensorflow.keras import layers\n",
        "from tensorflow.keras.callbacks import EarlyStopping, ModelCheckpoint\n",
        "import matplotlib.pyplot as plt\n",
        "import seaborn as sns\n",
        "warnings.filterwarnings('ignore')\n",
        "my_dpi = 96\n",
        "print('CUDA and NVIDIA GPU Information')\n",
        "!/usr/local/cuda/bin/nvcc --version\n",
        "!nvidia-smi\n",
        "print('\\n')\n",
        "print('TensorFlow version: {}'.format(tf.__version__))\n",
        "print('Eager execution is: {}'.format(tf.executing_eagerly()))\n",
        "print('Keras version: {}'.format(tf.keras.__version__))\n",
        "print('Num GPUs Available: ', len(tf.config.list_physical_devices('GPU')))\n",
        "print('\\n')"
      ]
    },
    {
      "cell_type": "code",
      "execution_count": null,
      "metadata": {
        "gradient": {
          "editing": false,
          "id": "d65dc560-878e-4cb4-919d-7f6ff051ec95",
          "kernelId": "5f2000ec-84ad-4d58-856e-fac9177e6a1d"
        },
        "id": "Rq4OU14dx8-q"
      },
      "outputs": [],
      "source": [
        "# Reproducibility in TF \n",
        "def init_seeds(seed=42):\n",
        "    np.random.seed(seed)\n",
        "    random.seed(seed)\n",
        "    session_conf = tf.compat.v1.ConfigProto()\n",
        "    session_conf = tf.compat.v1.ConfigProto(intra_op_parallelism_threads=1,\n",
        "                                            inter_op_parallelism_threads=1)\n",
        "    os.environ['AmazonReviews_RecSysDL'] = str(seed)\n",
        "    os.environ['TF_CUDNN_DETERMINISTIC'] = 'True'\n",
        "    os.environ['TF_DETERMINISTIC_OPS'] = 'True'\n",
        "    tf.random.set_seed(seed)\n",
        "    sess = tf.compat.v1.Session(graph=tf.compat.v1.get_default_graph(),\n",
        "                                config=session_conf)\n",
        "    tf.compat.v1.keras.backend.set_session(sess)\n",
        "    return sess"
      ]
    },
    {
      "cell_type": "code",
      "execution_count": null,
      "metadata": {
        "gradient": {
          "editing": false,
          "id": "182aed0d-4434-4fe3-8c06-e9f7c280230e",
          "kernelId": "5f2000ec-84ad-4d58-856e-fac9177e6a1d"
        },
        "id": "fjzKoSqW-5kS",
        "colab": {
          "base_uri": "https://localhost:8080/"
        },
        "outputId": "8f1c1c61-35be-4bb9-e8fd-0413627ad94f"
      },
      "outputs": [
        {
          "output_type": "execute_result",
          "data": {
            "text/plain": [
              "<tensorflow.python.client.session.Session at 0x7f6816207580>"
            ]
          },
          "metadata": {},
          "execution_count": 4
        }
      ],
      "source": [
        "init_seeds(seed=42)"
      ]
    },
    {
      "cell_type": "code",
      "execution_count": null,
      "metadata": {
        "id": "jOReN1GxuoCI",
        "colab": {
          "base_uri": "https://localhost:8080/"
        },
        "outputId": "d1e19d16-3c1b-4254-d168-9a78999e1818"
      },
      "outputs": [
        {
          "output_type": "stream",
          "name": "stdout",
          "text": [
            "/content/drive/MyDrive/AmazonReviews/Data\n"
          ]
        }
      ],
      "source": [
        "%cd /content/drive/MyDrive/AmazonReviews/Data/"
      ]
    },
    {
      "cell_type": "code",
      "source": [
        "# Read data\n",
        "df = pd.read_csv('Movies_and_TV.csv', header=None, skiprows=[0],\n",
        "                 low_memory=False)\n",
        "df = df.drop_duplicates()\n",
        "\n",
        "# Name columns\n",
        "df.columns = ['item', 'reviewerID', 'rating', 'timestamp']\n",
        "\n",
        "print('Sample observations:')\n",
        "df.head()"
      ],
      "metadata": {
        "colab": {
          "base_uri": "https://localhost:8080/",
          "height": 224
        },
        "outputId": "d41783e3-a1c6-4905-82fc-7cc074346269",
        "id": "RctKKmRfHMQY"
      },
      "execution_count": null,
      "outputs": [
        {
          "output_type": "stream",
          "name": "stdout",
          "text": [
            "Sample observations:\n"
          ]
        },
        {
          "output_type": "execute_result",
          "data": {
            "text/plain": [
              "         item      reviewerID  rating   timestamp\n",
              "0  0001527665  A2VHSG6TZHU1OB     5.0  1361145600\n",
              "1  0001527665  A23EJWOW1TLENE     5.0  1358380800\n",
              "2  0001527665  A1KM9FNEJ8Q171     5.0  1357776000\n",
              "3  0001527665  A38LY2SSHVHRYB     4.0  1356480000\n",
              "4  0001527665   AHTYUW2H1276L     5.0  1353024000"
            ],
            "text/html": [
              "\n",
              "  <div id=\"df-c080e795-87e9-45f6-830b-c95365ca9eb5\">\n",
              "    <div class=\"colab-df-container\">\n",
              "      <div>\n",
              "<style scoped>\n",
              "    .dataframe tbody tr th:only-of-type {\n",
              "        vertical-align: middle;\n",
              "    }\n",
              "\n",
              "    .dataframe tbody tr th {\n",
              "        vertical-align: top;\n",
              "    }\n",
              "\n",
              "    .dataframe thead th {\n",
              "        text-align: right;\n",
              "    }\n",
              "</style>\n",
              "<table border=\"1\" class=\"dataframe\">\n",
              "  <thead>\n",
              "    <tr style=\"text-align: right;\">\n",
              "      <th></th>\n",
              "      <th>item</th>\n",
              "      <th>reviewerID</th>\n",
              "      <th>rating</th>\n",
              "      <th>timestamp</th>\n",
              "    </tr>\n",
              "  </thead>\n",
              "  <tbody>\n",
              "    <tr>\n",
              "      <th>0</th>\n",
              "      <td>0001527665</td>\n",
              "      <td>A2VHSG6TZHU1OB</td>\n",
              "      <td>5.0</td>\n",
              "      <td>1361145600</td>\n",
              "    </tr>\n",
              "    <tr>\n",
              "      <th>1</th>\n",
              "      <td>0001527665</td>\n",
              "      <td>A23EJWOW1TLENE</td>\n",
              "      <td>5.0</td>\n",
              "      <td>1358380800</td>\n",
              "    </tr>\n",
              "    <tr>\n",
              "      <th>2</th>\n",
              "      <td>0001527665</td>\n",
              "      <td>A1KM9FNEJ8Q171</td>\n",
              "      <td>5.0</td>\n",
              "      <td>1357776000</td>\n",
              "    </tr>\n",
              "    <tr>\n",
              "      <th>3</th>\n",
              "      <td>0001527665</td>\n",
              "      <td>A38LY2SSHVHRYB</td>\n",
              "      <td>4.0</td>\n",
              "      <td>1356480000</td>\n",
              "    </tr>\n",
              "    <tr>\n",
              "      <th>4</th>\n",
              "      <td>0001527665</td>\n",
              "      <td>AHTYUW2H1276L</td>\n",
              "      <td>5.0</td>\n",
              "      <td>1353024000</td>\n",
              "    </tr>\n",
              "  </tbody>\n",
              "</table>\n",
              "</div>\n",
              "      <button class=\"colab-df-convert\" onclick=\"convertToInteractive('df-c080e795-87e9-45f6-830b-c95365ca9eb5')\"\n",
              "              title=\"Convert this dataframe to an interactive table.\"\n",
              "              style=\"display:none;\">\n",
              "        \n",
              "  <svg xmlns=\"http://www.w3.org/2000/svg\" height=\"24px\"viewBox=\"0 0 24 24\"\n",
              "       width=\"24px\">\n",
              "    <path d=\"M0 0h24v24H0V0z\" fill=\"none\"/>\n",
              "    <path d=\"M18.56 5.44l.94 2.06.94-2.06 2.06-.94-2.06-.94-.94-2.06-.94 2.06-2.06.94zm-11 1L8.5 8.5l.94-2.06 2.06-.94-2.06-.94L8.5 2.5l-.94 2.06-2.06.94zm10 10l.94 2.06.94-2.06 2.06-.94-2.06-.94-.94-2.06-.94 2.06-2.06.94z\"/><path d=\"M17.41 7.96l-1.37-1.37c-.4-.4-.92-.59-1.43-.59-.52 0-1.04.2-1.43.59L10.3 9.45l-7.72 7.72c-.78.78-.78 2.05 0 2.83L4 21.41c.39.39.9.59 1.41.59.51 0 1.02-.2 1.41-.59l7.78-7.78 2.81-2.81c.8-.78.8-2.07 0-2.86zM5.41 20L4 18.59l7.72-7.72 1.47 1.35L5.41 20z\"/>\n",
              "  </svg>\n",
              "      </button>\n",
              "      \n",
              "  <style>\n",
              "    .colab-df-container {\n",
              "      display:flex;\n",
              "      flex-wrap:wrap;\n",
              "      gap: 12px;\n",
              "    }\n",
              "\n",
              "    .colab-df-convert {\n",
              "      background-color: #E8F0FE;\n",
              "      border: none;\n",
              "      border-radius: 50%;\n",
              "      cursor: pointer;\n",
              "      display: none;\n",
              "      fill: #1967D2;\n",
              "      height: 32px;\n",
              "      padding: 0 0 0 0;\n",
              "      width: 32px;\n",
              "    }\n",
              "\n",
              "    .colab-df-convert:hover {\n",
              "      background-color: #E2EBFA;\n",
              "      box-shadow: 0px 1px 2px rgba(60, 64, 67, 0.3), 0px 1px 3px 1px rgba(60, 64, 67, 0.15);\n",
              "      fill: #174EA6;\n",
              "    }\n",
              "\n",
              "    [theme=dark] .colab-df-convert {\n",
              "      background-color: #3B4455;\n",
              "      fill: #D2E3FC;\n",
              "    }\n",
              "\n",
              "    [theme=dark] .colab-df-convert:hover {\n",
              "      background-color: #434B5C;\n",
              "      box-shadow: 0px 1px 3px 1px rgba(0, 0, 0, 0.15);\n",
              "      filter: drop-shadow(0px 1px 2px rgba(0, 0, 0, 0.3));\n",
              "      fill: #FFFFFF;\n",
              "    }\n",
              "  </style>\n",
              "\n",
              "      <script>\n",
              "        const buttonEl =\n",
              "          document.querySelector('#df-c080e795-87e9-45f6-830b-c95365ca9eb5 button.colab-df-convert');\n",
              "        buttonEl.style.display =\n",
              "          google.colab.kernel.accessAllowed ? 'block' : 'none';\n",
              "\n",
              "        async function convertToInteractive(key) {\n",
              "          const element = document.querySelector('#df-c080e795-87e9-45f6-830b-c95365ca9eb5');\n",
              "          const dataTable =\n",
              "            await google.colab.kernel.invokeFunction('convertToInteractive',\n",
              "                                                     [key], {});\n",
              "          if (!dataTable) return;\n",
              "\n",
              "          const docLinkHtml = 'Like what you see? Visit the ' +\n",
              "            '<a target=\"_blank\" href=https://colab.research.google.com/notebooks/data_table.ipynb>data table notebook</a>'\n",
              "            + ' to learn more about interactive tables.';\n",
              "          element.innerHTML = '';\n",
              "          dataTable['output_type'] = 'display_data';\n",
              "          await google.colab.output.renderOutput(dataTable, element);\n",
              "          const docLink = document.createElement('div');\n",
              "          docLink.innerHTML = docLinkHtml;\n",
              "          element.appendChild(docLink);\n",
              "        }\n",
              "      </script>\n",
              "    </div>\n",
              "  </div>\n",
              "  "
            ]
          },
          "metadata": {},
          "execution_count": 8
        }
      ]
    },
    {
      "cell_type": "code",
      "source": [
        "# Data summary\n",
        "def data_summary(df):\n",
        "    print('Number of Rows: {}, Columns: {}'.format(df.shape[0], df.shape[1]))\n",
        "    a = pd.DataFrame()\n",
        "    a['Number of Unique Values'] = df.nunique()\n",
        "    a['Number of Missing Values'] = df.isnull().sum()\n",
        "    a['Data type of variable'] = df.dtypes\n",
        "    print(a)\n",
        "\n",
        "print('\\nData Summary')     \n",
        "print(data_summary(df))\n",
        "\n",
        "df = df.drop(['timestamp'], axis=1)"
      ],
      "metadata": {
        "colab": {
          "base_uri": "https://localhost:8080/"
        },
        "outputId": "c9f96727-3c7f-4c50-86ea-5a0b4dd663b6",
        "id": "de330vTqHMQZ"
      },
      "execution_count": null,
      "outputs": [
        {
          "output_type": "stream",
          "name": "stdout",
          "text": [
            "\n",
            "Data Summary\n",
            "Number of Rows: 8522125, Columns: 4\n",
            "            Number of Unique Values  Number of Missing Values  \\\n",
            "item                         182032                         0   \n",
            "reviewerID                  3826085                         0   \n",
            "rating                            5                         0   \n",
            "timestamp                      7476                         0   \n",
            "\n",
            "           Data type of variable  \n",
            "item                      object  \n",
            "reviewerID                object  \n",
            "rating                   float64  \n",
            "timestamp                  int64  \n",
            "None\n"
          ]
        }
      ]
    },
    {
      "cell_type": "markdown",
      "metadata": {
        "id": "26f8fd1d"
      },
      "source": [
        "<font size=\"4\">The top 10 reviewers with the most number of ratings in the initial set shows that they have over 1,600 reviews.<font>"
      ]
    },
    {
      "cell_type": "code",
      "execution_count": null,
      "metadata": {
        "id": "8dd43870",
        "outputId": "642e9f96-ea22-4001-98bd-bbba20ce4cd1",
        "colab": {
          "base_uri": "https://localhost:8080/"
        }
      },
      "outputs": [
        {
          "output_type": "stream",
          "name": "stdout",
          "text": [
            "Reviewers with highest number of ratings in initial set:\n",
            "reviewerID\n",
            "AV6QDP8Q0ONK4     4101\n",
            "A1GGOC9PVDXW7Z    2114\n",
            "ABO2ZI2Y5DQ9T     2073\n",
            "A328S9RN3U5M68    2059\n",
            "A3MV1KKHX51FYT    1989\n",
            "A2EDZH51XHFA9B    1842\n",
            "A3LZGLA88K0LA0    1814\n",
            "A16CZRQL23NOIW    1808\n",
            "AIMR915K4YCN      1719\n",
            "A2NJO6YE954DBH    1699\n",
            "dtype: int64\n"
          ]
        }
      ],
      "source": [
        "reviewers_top10 = df.groupby('reviewerID').size().sort_values(ascending=False)[:10]\n",
        "print('Reviewers with highest number of ratings in initial set:')\n",
        "print(reviewers_top10)"
      ]
    },
    {
      "cell_type": "markdown",
      "metadata": {
        "id": "533ca815-bfcd-42b4-a9c4-dfb90d91b8c6"
      },
      "source": [
        "<font size=\"4\">The top 10 items in the initial set shows the highest item has 24,554 ratings while the 10th highest items has 14,174 ratings. <font>"
      ]
    },
    {
      "cell_type": "code",
      "execution_count": null,
      "metadata": {
        "id": "b401047a",
        "outputId": "5cde97da-5720-46f0-b24c-01ac6aebdfea",
        "colab": {
          "base_uri": "https://localhost:8080/"
        }
      },
      "outputs": [
        {
          "output_type": "stream",
          "name": "stdout",
          "text": [
            "Items with highest number of ratings in initial set:\n",
            "item\n",
            "B00YSG2ZPA    24554\n",
            "B00006CXSS    24485\n",
            "B00AQVMZKQ    21015\n",
            "B01BHTSIOC    20889\n",
            "B00NAQ3EOK    16857\n",
            "6305837325    16671\n",
            "B00WNBABVC    15205\n",
            "B017S3OP7A    14795\n",
            "B009934S5M    14481\n",
            "B00FL31UF0    14174\n",
            "dtype: int64\n"
          ]
        }
      ],
      "source": [
        "items_top10 = df.groupby('item').size().sort_values(ascending=False)[:10]\n",
        "print('Items with highest number of ratings in initial set:')\n",
        "print(items_top10)"
      ]
    },
    {
      "cell_type": "markdown",
      "metadata": {
        "id": "a5eff9c2-65cd-4578-9eaf-ed24b35bee4a"
      },
      "source": [
        "<font size=\"4\">Since the data is sparse, a new integer id is created for `item` rather the initial string variable. <font>"
      ]
    },
    {
      "cell_type": "code",
      "execution_count": null,
      "metadata": {
        "id": "7b392542"
      },
      "outputs": [],
      "source": [
        "value_counts = df['item'].value_counts(dropna=True, sort=True)\n",
        "df1 = pd.DataFrame(value_counts)\n",
        "df1 = df1.reset_index()\n",
        "df1.columns = ['item_unique', 'counts'] \n",
        "df1 = df1.reset_index()\n",
        "df1.rename(columns={'index': 'item_id'}, inplace=True)\n",
        "df1 = df1.drop(['counts'], axis=1)\n",
        "df = pd.merge(df, df1, how='left', left_on=['item'],\n",
        "              right_on=['item_unique'])\n",
        "df = df.drop_duplicates()\n",
        "df = df.drop(['item_unique'], axis=1)\n",
        "\n",
        "del value_counts, df1"
      ]
    },
    {
      "cell_type": "markdown",
      "metadata": {
        "id": "36c3af13-5575-4dd6-9928-9bef55fc8f50"
      },
      "source": [
        "<font size=\"4\">The same process is used for `reviewerID`. A key is created for merging the new integer variables that later be used to join the original data. For this set, the unnecessary keys are then dropped.<font>"
      ]
    },
    {
      "cell_type": "code",
      "source": [
        "value_counts = df['reviewerID'].value_counts(dropna=True, sort=True)\n",
        "df1 = pd.DataFrame(value_counts)\n",
        "df1 = df1.reset_index()\n",
        "df1.columns = ['id_unique', 'counts'] \n",
        "df1 = df1.reset_index()\n",
        "df1.rename(columns={'index': 'reviewer_id'}, inplace=True)\n",
        "df1 = df1.drop(['counts'], axis=1)\n",
        "df = pd.merge(df, df1, how='left', left_on=['reviewerID'],\n",
        "              right_on=['id_unique'])\n",
        "df = df.drop_duplicates()\n",
        "df = df.drop(['id_unique'], axis=1)\n",
        "\n",
        "del value_counts, df1\n",
        "\n",
        "df = df.drop(['item', 'reviewerID'], axis=1)"
      ],
      "metadata": {
        "id": "yxJEn8_XfONL"
      },
      "execution_count": null,
      "outputs": []
    },
    {
      "cell_type": "markdown",
      "metadata": {
        "id": "72142aec-92c5-45e1-b40d-d2afba7b24f6"
      },
      "source": [
        "<font size=\"4\">The data is then filtered to reviewers who have greater than or equal to 25 reviews due to sparsity. This results in a set containing 1,113,396 ratings with 19,639 unique reviewers and 103,687 unique items. The majority of items are rated 5 star.<font>"
      ]
    },
    {
      "cell_type": "code",
      "execution_count": null,
      "metadata": {
        "id": "3f8653cf",
        "outputId": "00b44ef4-61f8-4981-facd-089d7c052522",
        "colab": {
          "base_uri": "https://localhost:8080/"
        }
      },
      "outputs": [
        {
          "output_type": "stream",
          "name": "stdout",
          "text": [
            "- Number of ratings after filtering:  1113396\n",
            "- Number of unique reviewers:  19639\n",
            "- Number of unique items:  103687\n",
            "\n",
            "\n",
            "- Number of items with 1 rating = 59470\n",
            "- Number of items with 2 rating = 65558\n",
            "- Number of items with 3 rating = 141436\n",
            "- Number of items with 4 rating = 252584\n",
            "- Number of items with 5 rating = 594348\n"
          ]
        }
      ],
      "source": [
        "reviewer_count = df.reviewer_id.value_counts()\n",
        "df = df[df.reviewer_id.isin(reviewer_count[reviewer_count >= 25].index)]\n",
        "df = df.drop_duplicates()\n",
        "\n",
        "del reviewer_count\n",
        "\n",
        "print('- Number of ratings after filtering: ', len(df))\n",
        "print('- Number of unique reviewers: ', df['reviewer_id'].nunique())\n",
        "print('- Number of unique items: ', df['item_id'].nunique())\n",
        "print('\\n')\n",
        "\n",
        "for i in range(1,6):\n",
        "  print('- Number of items with {0} rating = {1}'.format(i, df[df['rating'] == i].shape[0]))"
      ]
    },
    {
      "cell_type": "markdown",
      "metadata": {
        "id": "tYmGZz57P6K_"
      },
      "source": [
        "## Prepare the data\n"
      ]
    },
    {
      "cell_type": "code",
      "source": [
        "df['item_id'] = df['item_id'].apply(lambda x: f'item_{x}')\n",
        "df['reviewer_id'] = df['reviewer_id'].apply(lambda x: f'reviewer_{x}')\n",
        "df['rating'] = df['rating'].apply(lambda x: float(x))\n",
        "\n",
        "print(f'Number of reviewers: {len(df.reviewer_id.unique())}')\n",
        "print(f'Number of items: {len(df.item_id.unique())}')\n",
        "print(f'Number of ratings: {len(df.index)}')"
      ],
      "metadata": {
        "colab": {
          "base_uri": "https://localhost:8080/"
        },
        "id": "4ootbUiYcezg",
        "outputId": "22a34195-d1d8-443e-d3fb-f070147f7a11"
      },
      "execution_count": null,
      "outputs": [
        {
          "output_type": "stream",
          "name": "stdout",
          "text": [
            "Number of reviewers: 19639\n",
            "Number of items: 103687\n",
            "Number of ratings: 1113396\n"
          ]
        }
      ]
    },
    {
      "cell_type": "markdown",
      "metadata": {
        "id": "H8o6tR0eP6LB"
      },
      "source": [
        "## Create train and eval data splits"
      ]
    },
    {
      "cell_type": "code",
      "execution_count": null,
      "metadata": {
        "id": "-ze3d0tkP6LB",
        "colab": {
          "base_uri": "https://localhost:8080/"
        },
        "outputId": "ce4a8aa9-e511-49b6-835e-55e0cdb3d01e"
      },
      "outputs": [
        {
          "output_type": "stream",
          "name": "stdout",
          "text": [
            "Train data split: 890562\n",
            "Eval data split: 222834\n",
            "Train and eval data files are saved.\n"
          ]
        }
      ],
      "source": [
        "random_selection = np.random.rand(len(df.index)) <= 0.80\n",
        "train_data = df[random_selection]\n",
        "eval_data = df[~random_selection]\n",
        "\n",
        "train_data.to_csv('train_filtered.csv', index=False, sep='|', header=False)\n",
        "eval_data.to_csv('eval_filtered.csv', index=False, sep='|', header=False)\n",
        "print(f'Train data split: {len(train_data.index)}')\n",
        "print(f'Eval data split: {len(eval_data.index)}')\n",
        "print('Train and eval data files are saved.')"
      ]
    },
    {
      "cell_type": "markdown",
      "metadata": {
        "id": "5JejW5QkP6LC"
      },
      "source": [
        "## Define dataset metadata and hyperparameters"
      ]
    },
    {
      "cell_type": "code",
      "execution_count": null,
      "metadata": {
        "id": "FSMWR7SqP6LC"
      },
      "outputs": [],
      "source": [
        "csv_header = list(df.columns)\n",
        "reviewer_vocabulary = list(df.reviewer_id.unique())\n",
        "item_vocabulary = list(df.item_id.unique())\n",
        "target_feature_name = 'rating'\n",
        "learning_rate = 0.0001\n",
        "batch_size = 1024\n",
        "num_epochs = 30\n",
        "base_embedding_dim = 64\n",
        "DATADIR = '/content/drive/MyDrive/AmazonReviews/Data/'"
      ]
    },
    {
      "cell_type": "markdown",
      "metadata": {
        "id": "fCTFrzSrP6LD"
      },
      "source": [
        "## Train and evaluate the model\n",
        "Load the data into a dataset with each element of the dataset as a (features, labels) tuple that is a batch of rows. The features dictionary maps feature column names to `Tensors` containing the corresponding feature data, and labels is a `Tensor` containing the batch's label data. The model is compiled with the `optimizer`, `loss` and `metrics`, and the model is trained."
      ]
    },
    {
      "cell_type": "code",
      "execution_count": null,
      "metadata": {
        "id": "T0j1hsS-P6LD"
      },
      "outputs": [],
      "source": [
        "def get_dataset_from_csv(path, batch_size=1024, shuffle=True):\n",
        "\n",
        "  # Load data from csv\n",
        "  csv_file_path = tf.io.gfile.glob(path)\n",
        "  \n",
        "  return tf.data.experimental.make_csv_dataset(\n",
        "      csv_file_path,\n",
        "      batch_size=batch_size,\n",
        "      column_names=csv_header,\n",
        "      label_name=target_feature_name,\n",
        "      num_epochs=1,\n",
        "      header=False,\n",
        "      field_delim='|',\n",
        "      shuffle=shuffle)"
      ]
    },
    {
      "cell_type": "code",
      "source": [
        "def run_experiment(model):\n",
        "\n",
        "    # Read the training & test data\n",
        "    train_dataset = get_dataset_from_csv(os.path.join(DATADIR, \n",
        "                                                      'train_filtered.csv'), \n",
        "                                         batch_size)\n",
        "    eval_dataset = get_dataset_from_csv(os.path.join(DATADIR, \n",
        "                                                     'eval_filtered.csv'),\n",
        "                                        batch_size, shuffle=False)\n",
        "    \n",
        "    # Compile the model\n",
        "    model.compile(optimizer=keras.optimizers.Adam(learning_rate),\n",
        "                  loss=tf.keras.losses.MeanSquaredError(),\n",
        "                  metrics=[keras.metrics.MeanAbsoluteError(name='mae')])\n",
        "\n",
        "    # Fit the model\n",
        "    history = model.fit(train_dataset, epochs=num_epochs, \n",
        "                        validation_data=eval_dataset, \n",
        "                        callbacks=callbacks_list)\n",
        "    return history"
      ],
      "metadata": {
        "id": "Vld26Q6jW11N"
      },
      "execution_count": null,
      "outputs": []
    },
    {
      "cell_type": "markdown",
      "metadata": {
        "id": "RqxIOgjFP6LE"
      },
      "source": [
        "## Baseline Collaborative Filtering Model\n",
        "\n",
        "### Implement embedding encoder"
      ]
    },
    {
      "cell_type": "code",
      "execution_count": null,
      "metadata": {
        "id": "pefPqia2P6LF"
      },
      "outputs": [],
      "source": [
        "def embedding_encoder(vocabulary, embedding_dim, num_oov_indices=0, name=None):\n",
        "  \n",
        "    return keras.Sequential(\n",
        "        [layers.StringLookup(vocabulary=vocabulary, mask_token=None, \n",
        "                             num_oov_indices=num_oov_indices),\n",
        "         layers.Embedding(input_dim=len(vocabulary) + num_oov_indices, \n",
        "                          output_dim=embedding_dim),],\n",
        "                          name=f'{name}_embedding' if name else None)"
      ]
    },
    {
      "cell_type": "markdown",
      "metadata": {
        "id": "0S7bHR5qP6LF"
      },
      "source": [
        "### Implement the baseline model: Batch 1024"
      ]
    },
    {
      "cell_type": "code",
      "source": [
        "def create_baseline_model():\n",
        "\n",
        "    # Use reviewer as an input for reviewer embedding\n",
        "    reviewer_input = layers.Input(name='reviewer_id', shape=(), dtype=tf.string)\n",
        "    reviewer_embedding = embedding_encoder(vocabulary=reviewer_vocabulary, \n",
        "                                           embedding_dim=base_embedding_dim, \n",
        "                                           name='reviewer')(reviewer_input)\n",
        "\n",
        "    # Use item as an input for item embedding\n",
        "    item_input = layers.Input(name='item_id', shape=(), dtype=tf.string)\n",
        "    item_embedding = embedding_encoder(vocabulary=item_vocabulary, \n",
        "                                       embedding_dim=base_embedding_dim, \n",
        "                                       name='item')(item_input)\n",
        "\n",
        "    # Compute dot product similarity between reviewer and item embeddings\n",
        "    logits = layers.Dot(axes=1, name='dot_similarity')([reviewer_embedding, \n",
        "                                                        item_embedding])\n",
        "    # Convert to rating scale\n",
        "    prediction = keras.activations.sigmoid(logits) * 5\n",
        "\n",
        "    # Create the model\n",
        "    model = keras.Model(inputs=[reviewer_input, item_input], outputs=prediction, \n",
        "                        name='baseline_model')\n",
        "    \n",
        "    return model"
      ],
      "metadata": {
        "id": "ui_gTdVTwQHK"
      },
      "execution_count": null,
      "outputs": []
    },
    {
      "cell_type": "code",
      "source": [
        "# Create baseline model\n",
        "baseline_model = create_baseline_model()\n",
        "\n",
        "# Model summary\n",
        "baseline_model.summary()"
      ],
      "metadata": {
        "colab": {
          "base_uri": "https://localhost:8080/"
        },
        "id": "RURbQTRtKC0V",
        "outputId": "86e38487-e112-4889-c44a-a42af8ddb6ad"
      },
      "execution_count": null,
      "outputs": [
        {
          "output_type": "stream",
          "name": "stdout",
          "text": [
            "Model: \"baseline_model\"\n",
            "__________________________________________________________________________________________________\n",
            " Layer (type)                   Output Shape         Param #     Connected to                     \n",
            "==================================================================================================\n",
            " reviewer_id (InputLayer)       [(None,)]            0           []                               \n",
            "                                                                                                  \n",
            " item_id (InputLayer)           [(None,)]            0           []                               \n",
            "                                                                                                  \n",
            " reviewer_embedding (Sequential  (None, 64)          1256896     ['reviewer_id[0][0]']            \n",
            " )                                                                                                \n",
            "                                                                                                  \n",
            " item_embedding (Sequential)    (None, 64)           6635968     ['item_id[0][0]']                \n",
            "                                                                                                  \n",
            " dot_similarity (Dot)           (None, 1)            0           ['reviewer_embedding[0][0]',     \n",
            "                                                                  'item_embedding[0][0]']         \n",
            "                                                                                                  \n",
            " tf.math.sigmoid_2 (TFOpLambda)  (None, 1)           0           ['dot_similarity[0][0]']         \n",
            "                                                                                                  \n",
            " tf.math.multiply_2 (TFOpLambda  (None, 1)           0           ['tf.math.sigmoid_2[0][0]']      \n",
            " )                                                                                                \n",
            "                                                                                                  \n",
            "==================================================================================================\n",
            "Total params: 7,892,864\n",
            "Trainable params: 7,892,864\n",
            "Non-trainable params: 0\n",
            "__________________________________________________________________________________________________\n"
          ]
        }
      ]
    },
    {
      "cell_type": "markdown",
      "metadata": {
        "id": "OxQrNsk8elNJ"
      },
      "source": [
        "Notice that the number of trainable parameters is 7,892,864"
      ]
    },
    {
      "cell_type": "code",
      "source": [
        "# Set path for results\n",
        "%cd /content/drive/MyDrive/AmazonReviews/Models/DL/Models/"
      ],
      "metadata": {
        "colab": {
          "base_uri": "https://localhost:8080/"
        },
        "id": "PIn7KDBpUTwZ",
        "outputId": "d134e9aa-2eca-49a7-aa2a-5a08acefec38"
      },
      "execution_count": null,
      "outputs": [
        {
          "output_type": "stream",
          "name": "stdout",
          "text": [
            "/content/drive/MyDrive/AmazonReviews/Models/DL/Models\n"
          ]
        }
      ]
    },
    {
      "cell_type": "code",
      "source": [
        "# Set up logs\n",
        "!rm -rf /logs/\n",
        "\n",
        "%load_ext tensorboard\n",
        "\n",
        "log_folder = 'logs/fit/' + datetime.datetime.now().strftime('%Y%m%d-%H%M%S')"
      ],
      "metadata": {
        "id": "VPi5EmoWXugr"
      },
      "execution_count": null,
      "outputs": []
    },
    {
      "cell_type": "code",
      "source": [
        "# Set up callbacks\n",
        "filepath = 'baselineEmbed64_MoviesTV_weights_only_b1024.h5'\n",
        "\n",
        "checkpoint_dir = os.path.dirname(filepath)\n",
        "\n",
        "tensorboard_callback = tf.keras.callbacks.TensorBoard(log_folder,\n",
        "                                                      histogram_freq=1)\n",
        "\n",
        "callbacks_list = [EarlyStopping(monitor='val_loss', patience=3),\n",
        "                  ModelCheckpoint(filepath, monitor='val_loss', \n",
        "                                  save_best_only=True, mode='min'), \n",
        "                  tensorboard_callback]"
      ],
      "metadata": {
        "id": "B4YtX_RwelNG"
      },
      "execution_count": null,
      "outputs": []
    },
    {
      "cell_type": "code",
      "execution_count": null,
      "metadata": {
        "colab": {
          "base_uri": "https://localhost:8080/"
        },
        "outputId": "f19494d0-4113-4093-f9b5-1d8f0599fabf",
        "id": "POjzZ-39elNL"
      },
      "outputs": [
        {
          "output_type": "stream",
          "name": "stdout",
          "text": [
            "Epoch 1/30\n",
            "870/870 [==============================] - 141s 157ms/step - loss: 4.0122 - mae: 1.8476 - val_loss: 4.0184 - val_mae: 1.8491\n",
            "Epoch 2/30\n",
            "870/870 [==============================] - 131s 151ms/step - loss: 4.0040 - mae: 1.8456 - val_loss: 4.0182 - val_mae: 1.8491\n",
            "Epoch 3/30\n",
            "870/870 [==============================] - 132s 152ms/step - loss: 3.9942 - mae: 1.8432 - val_loss: 4.0175 - val_mae: 1.8489\n",
            "Epoch 4/30\n",
            "870/870 [==============================] - 136s 156ms/step - loss: 3.9822 - mae: 1.8403 - val_loss: 4.0155 - val_mae: 1.8484\n",
            "Epoch 5/30\n",
            "870/870 [==============================] - 136s 156ms/step - loss: 3.9661 - mae: 1.8363 - val_loss: 4.0103 - val_mae: 1.8471\n",
            "Epoch 6/30\n",
            "870/870 [==============================] - 140s 161ms/step - loss: 3.9430 - mae: 1.8306 - val_loss: 3.9983 - val_mae: 1.8441\n",
            "Epoch 7/30\n",
            "870/870 [==============================] - 138s 158ms/step - loss: 3.9082 - mae: 1.8219 - val_loss: 3.9740 - val_mae: 1.8380\n",
            "Epoch 8/30\n",
            "870/870 [==============================] - 139s 159ms/step - loss: 3.8559 - mae: 1.8086 - val_loss: 3.9313 - val_mae: 1.8272\n",
            "Epoch 9/30\n",
            "870/870 [==============================] - 132s 152ms/step - loss: 3.7799 - mae: 1.7890 - val_loss: 3.8641 - val_mae: 1.8098\n",
            "Epoch 10/30\n",
            "870/870 [==============================] - 129s 149ms/step - loss: 3.6758 - mae: 1.7616 - val_loss: 3.7689 - val_mae: 1.7846\n",
            "Epoch 11/30\n",
            "870/870 [==============================] - 132s 152ms/step - loss: 3.5419 - mae: 1.7253 - val_loss: 3.6454 - val_mae: 1.7510\n",
            "Epoch 12/30\n",
            "870/870 [==============================] - 133s 153ms/step - loss: 3.3799 - mae: 1.6802 - val_loss: 3.4966 - val_mae: 1.7097\n",
            "Epoch 13/30\n",
            "870/870 [==============================] - 130s 150ms/step - loss: 3.1947 - mae: 1.6274 - val_loss: 3.3280 - val_mae: 1.6619\n",
            "Epoch 14/30\n",
            "870/870 [==============================] - 131s 150ms/step - loss: 2.9932 - mae: 1.5685 - val_loss: 3.1466 - val_mae: 1.6090\n",
            "Epoch 15/30\n",
            "870/870 [==============================] - 131s 151ms/step - loss: 2.7831 - mae: 1.5052 - val_loss: 2.9596 - val_mae: 1.5530\n",
            "Epoch 16/30\n",
            "870/870 [==============================] - 135s 155ms/step - loss: 2.5716 - mae: 1.4395 - val_loss: 2.7733 - val_mae: 1.4955\n",
            "Epoch 17/30\n",
            "870/870 [==============================] - 134s 154ms/step - loss: 2.3649 - mae: 1.3728 - val_loss: 2.5929 - val_mae: 1.4379\n",
            "Epoch 18/30\n",
            "870/870 [==============================] - 129s 148ms/step - loss: 2.1678 - mae: 1.3067 - val_loss: 2.4224 - val_mae: 1.3814\n",
            "Epoch 19/30\n",
            "870/870 [==============================] - 128s 148ms/step - loss: 1.9836 - mae: 1.2423 - val_loss: 2.2644 - val_mae: 1.3268\n",
            "Epoch 20/30\n",
            "870/870 [==============================] - 130s 150ms/step - loss: 1.8145 - mae: 1.1803 - val_loss: 2.1205 - val_mae: 1.2749\n",
            "Epoch 21/30\n",
            "870/870 [==============================] - 130s 149ms/step - loss: 1.6615 - mae: 1.1216 - val_loss: 1.9912 - val_mae: 1.2262\n",
            "Epoch 22/30\n",
            "870/870 [==============================] - 123s 141ms/step - loss: 1.5244 - mae: 1.0665 - val_loss: 1.8765 - val_mae: 1.1811\n",
            "Epoch 23/30\n",
            "870/870 [==============================] - 129s 148ms/step - loss: 1.4030 - mae: 1.0155 - val_loss: 1.7755 - val_mae: 1.1396\n",
            "Epoch 24/30\n",
            "870/870 [==============================] - 130s 149ms/step - loss: 1.2959 - mae: 0.9686 - val_loss: 1.6874 - val_mae: 1.1020\n",
            "Epoch 25/30\n",
            "870/870 [==============================] - 128s 147ms/step - loss: 1.2019 - mae: 0.9255 - val_loss: 1.6109 - val_mae: 1.0680\n",
            "Epoch 26/30\n",
            "870/870 [==============================] - 129s 149ms/step - loss: 1.1196 - mae: 0.8863 - val_loss: 1.5447 - val_mae: 1.0374\n",
            "Epoch 27/30\n",
            "870/870 [==============================] - 128s 147ms/step - loss: 1.0475 - mae: 0.8506 - val_loss: 1.4875 - val_mae: 1.0101\n",
            "Epoch 28/30\n",
            "870/870 [==============================] - 125s 144ms/step - loss: 0.9843 - mae: 0.8181 - val_loss: 1.4383 - val_mae: 0.9857\n",
            "Epoch 29/30\n",
            "870/870 [==============================] - 129s 149ms/step - loss: 0.9287 - mae: 0.7886 - val_loss: 1.3958 - val_mae: 0.9639\n",
            "Epoch 30/30\n",
            "870/870 [==============================] - 129s 148ms/step - loss: 0.8797 - mae: 0.7617 - val_loss: 1.3592 - val_mae: 0.9446\n"
          ]
        }
      ],
      "source": [
        "# Fit baseline model\n",
        "history = run_experiment(baseline_model)"
      ]
    },
    {
      "cell_type": "code",
      "execution_count": null,
      "metadata": {
        "gradient": {
          "id": "6cf02c45-ebd6-4aea-883f-277c11620390",
          "kernelId": "5f2000ec-84ad-4d58-856e-fac9177e6a1d"
        },
        "id": "KnGRdpggelNO"
      },
      "outputs": [],
      "source": [
        "# Save model\n",
        "baseline_model.save('./baselineEmbed64_MoviesTV_batchb1024_tf.h5', \n",
        "                    save_format='tf')\n",
        "\n",
        "# Load model for more training or later use\n",
        "#filepath = 'baselineEmbed64_MoviesTV_weights_only_b1024.h5'\n",
        "#model = tf.keras.models.load_model('./baselineEmbed64_MoviesTV_batchb1024_tf.h5')\n",
        "#model.load_weights(filepath)\n",
        "\n",
        "# Show the model architecture\n",
        "#model.summary()"
      ]
    },
    {
      "cell_type": "code",
      "source": [
        "# Plot loss over epochs\n",
        "plt.plot(history.history['loss'])\n",
        "plt.plot(history.history['val_loss'])\n",
        "plt.title('Model Loss')\n",
        "plt.ylabel('Loss')\n",
        "plt.xlabel('Epoch')\n",
        "plt.legend(['Train', 'Eval'], loc='upper right')\n",
        "plt.savefig('TF_baselineEmbed64_MoviesTV_filtered_batchb1024_30epochs_Loss.png', \n",
        "            dpi=my_dpi*10, bbox_inches='tight')\n",
        "plt.show()"
      ],
      "metadata": {
        "colab": {
          "base_uri": "https://localhost:8080/",
          "height": 295
        },
        "outputId": "9d38708e-49c2-4c61-da15-d556f1c48889",
        "id": "OGUjqnXVelNQ"
      },
      "execution_count": null,
      "outputs": [
        {
          "output_type": "display_data",
          "data": {
            "text/plain": [
              "<Figure size 432x288 with 1 Axes>"
            ],
            "image/png": "[encoded data removed]"
          },
          "metadata": {
            "needs_background": "light"
          }
        }
      ]
    },
    {
      "cell_type": "code",
      "source": [
        "# Loss over epochs\n",
        "loss = pd.DataFrame(history.history['loss'], columns=['loss'])\n",
        "\n",
        "# Val_loss over epochs\n",
        "val_loss = pd.DataFrame(history.history['val_loss'], columns=['val_loss'])\n",
        "\n",
        "# Save loss in df\n",
        "dat = pd.concat([loss, val_loss], axis=1)\n",
        "dat.to_csv('/baselineEmbed64_MoviesTV_batchb1024_10epochs.csv', index=False)"
      ],
      "metadata": {
        "id": "TLAapstVpptd"
      },
      "execution_count": null,
      "outputs": []
    },
    {
      "cell_type": "code",
      "source": [
        "# Load model for more training or later use\n",
        "model = tf.keras.models.load_model('./baselineEmbed64_MoviesTV_batchb1024_tf.h5')\n",
        "\n",
        "# Show the model architecture\n",
        "model.summary()"
      ],
      "metadata": {
        "colab": {
          "base_uri": "https://localhost:8080/"
        },
        "outputId": "189d3eab-120b-4732-e9b2-c0e0697a528e",
        "id": "yAwP8R1jelNT"
      },
      "execution_count": null,
      "outputs": [
        {
          "output_type": "stream",
          "name": "stdout",
          "text": [
            "Model: \"baseline_model\"\n",
            "__________________________________________________________________________________________________\n",
            " Layer (type)                   Output Shape         Param #     Connected to                     \n",
            "==================================================================================================\n",
            " reviewer_id (InputLayer)       [(None,)]            0           []                               \n",
            "                                                                                                  \n",
            " item_id (InputLayer)           [(None,)]            0           []                               \n",
            "                                                                                                  \n",
            " reviewer_embedding (Sequential  (None, 64)          1256896     ['reviewer_id[0][0]']            \n",
            " )                                                                                                \n",
            "                                                                                                  \n",
            " item_embedding (Sequential)    (None, 64)           6635968     ['item_id[0][0]']                \n",
            "                                                                                                  \n",
            " dot_similarity (Dot)           (None, 1)            0           ['reviewer_embedding[0][0]',     \n",
            "                                                                  'item_embedding[0][0]']         \n",
            "                                                                                                  \n",
            " tf.math.sigmoid (TFOpLambda)   (None, 1)            0           ['dot_similarity[0][0]']         \n",
            "                                                                                                  \n",
            " tf.math.multiply (TFOpLambda)  (None, 1)            0           ['tf.math.sigmoid[0][0]']        \n",
            "                                                                                                  \n",
            "==================================================================================================\n",
            "Total params: 7,892,864\n",
            "Trainable params: 7,892,864\n",
            "Non-trainable params: 0\n",
            "__________________________________________________________________________________________________\n"
          ]
        }
      ]
    },
    {
      "cell_type": "code",
      "source": [
        "# Load validation set\n",
        "eval_dataset = get_dataset_from_csv('eval_filtered.csv', batch_size, \n",
        "                                    shuffle=False)"
      ],
      "metadata": {
        "id": "hFCeL5tQelNV"
      },
      "execution_count": null,
      "outputs": []
    },
    {
      "cell_type": "code",
      "source": [
        "# Evaluate with the test data\n",
        "result = model.evaluate(eval_dataset, return_dict=True, verbose=0)\n",
        "print('\\nEvaluation on the test set:')\n",
        "display(result)"
      ],
      "metadata": {
        "colab": {
          "base_uri": "https://localhost:8080/",
          "height": 69
        },
        "outputId": "62d4022f-a7ca-4e99-ea26-0149b03613a7",
        "id": "istqy__nelNW"
      },
      "execution_count": null,
      "outputs": [
        {
          "output_type": "stream",
          "name": "stdout",
          "text": [
            "\n",
            "Evaluation on the test set:\n"
          ]
        },
        {
          "output_type": "display_data",
          "data": {
            "text/plain": [
              "{'loss': 1.359154462814331, 'mae': 0.9445576071739197}"
            ]
          },
          "metadata": {}
        }
      ]
    },
    {
      "cell_type": "markdown",
      "metadata": {
        "id": "5sCnHnVeelNh"
      },
      "source": [
        "## Memory-Efficient Model"
      ]
    },
    {
      "cell_type": "markdown",
      "metadata": {
        "id": "iycRu2dAelNh"
      },
      "source": [
        "### Implement Quotient-Remainder embedding as a layer\n",
        "\n",
        "The Quotient-Remainder technique works by creating *two* `num_buckets X embedding_dim` embedding tables for a set of vocabulary and  embedding size\n",
        "`embedding_dim` where `num_buckets` is much smaller than `vocabulary_size`, rather than creating a `vocabulary_size X embedding_dim` embedding table.\n",
        "\n",
        "An embedding for a given item `index` is generated by:\n",
        "\n",
        "1. Computing the `quotient_index` as `index // num_buckets`.\n",
        "2. Computing the `remainder_index` as `index % num_buckets`.\n",
        "3. Lookup `quotient_embedding` from the first embedding table using `quotient_index`.\n",
        "4. Lookup `remainder_embedding` from the second embedding table using `remainder_index`.\n",
        "5. Returning `quotient_embedding` * `remainder_embedding`.\n",
        "\n",
        "This technique reduces the number of embedding vectors needed to be stored and trained, as well as generating a *unique* embedding vector for each item of size `embedding_dim`.\n",
        "The embeddings, `q_embedding` and `r_embedding`, can be combined using other operations like `Add` and `Concatenate`."
      ]
    },
    {
      "cell_type": "code",
      "execution_count": null,
      "metadata": {
        "id": "jlJ21MG5elNi"
      },
      "outputs": [],
      "source": [
        "class QREmbedding(keras.layers.Layer):\n",
        "    def __init__(self, vocabulary, embedding_dim, num_buckets, name=None):\n",
        "        \n",
        "        super(QREmbedding, self).__init__(name=name)\n",
        "        self.num_buckets = num_buckets\n",
        "        self.index_lookup = layers.StringLookup(\n",
        "            vocabulary=vocabulary, mask_token=None, num_oov_indices=0)\n",
        "        self.q_embeddings = layers.Embedding(num_buckets, embedding_dim,)\n",
        "        self.r_embeddings = layers.Embedding(num_buckets, embedding_dim,)\n",
        "\n",
        "    # Set up config\n",
        "    def get_config(self):\n",
        "      config = super().get_config()\n",
        "      return config\n",
        "\n",
        "    def call(self, inputs):\n",
        "        # Get the item, quotient and remainder indeces\n",
        "        embedding_index = self.index_lookup(inputs)\n",
        "        quotient_index = tf.math.floordiv(embedding_index, self.num_buckets)\n",
        "        remainder_index = tf.math.floormod(embedding_index, self.num_buckets)\n",
        "\n",
        "        # Lookup the quotient_embedding using the quotient_index\n",
        "        quotient_embedding = self.q_embeddings(quotient_index)\n",
        "\n",
        "        # Lookup the remainder_embedding using the remainder_index\n",
        "        remainder_embedding = self.r_embeddings(remainder_index)\n",
        "\n",
        "        # Use multiplication as a combiner operation\n",
        "        return quotient_embedding * remainder_embedding"
      ]
    },
    {
      "cell_type": "markdown",
      "metadata": {
        "id": "SLnNsaKhelNi"
      },
      "source": [
        "### Implement Mixed Dimension embedding as a layer\n",
        "\n",
        "Embedding vectors are trained with full dimensions\n",
        "for the frequently queried items, while embedding vectors with *reduced dimensions* are trained for less frequent items. A *projection weights matrix* allows low dimension embeddings to become the full dimensions.\n",
        "\n",
        "More precisely, we define *blocks* of items of similar frequencies. For each block,\n",
        "a `block_vocab_size X block_embedding_dim` embedding table and `block_embedding_dim X full_embedding_dim`\n",
        "projection weights matrix are created. Note that, if `block_embedding_dim` equals `full_embedding_dim`,\n",
        "the projection weights matrix becomes an *identity* matrix. Embeddings for a given batch of item\n",
        "`indices` are generated via the following steps:\n",
        "\n",
        "1. For each block, lookup the `block_embedding_dim` embedding vectors using `indices`, and\n",
        "project them to the `full_embedding_dim`.\n",
        "2. If an item index does not belong to a given block, an out-of-vocabulary embedding is returned.\n",
        "Each block will return a `batch_size X full_embedding_dim` tensor.\n",
        "3. A mask is applied to the embeddings returned from each block in order to convert the\n",
        "out-of-vocabulary embeddings to vector of zeros. That is, for each item in the batch,\n",
        "a single non-zero embedding vector is returned from the all block embeddings.\n",
        "4. Embeddings retrieved from the blocks are combined using *sum* to produce the final\n",
        "`batch_size X full_embedding_dim` tensor."
      ]
    },
    {
      "cell_type": "code",
      "execution_count": null,
      "metadata": {
        "id": "8kylNFSFelNi"
      },
      "outputs": [],
      "source": [
        "class MDEmbedding(keras.layers.Layer):\n",
        "    def __init__(self, blocks_vocabulary, blocks_embedding_dims, \n",
        "                 base_embedding_dim, name=None):\n",
        "        \n",
        "        super(MDEmbedding, self).__init__(name=name)\n",
        "        self.num_blocks = len(blocks_vocabulary)\n",
        "\n",
        "        # Create vocab to block lookup\n",
        "        keys = []\n",
        "        values = []\n",
        "        for block_idx, block_vocab in enumerate(blocks_vocabulary):\n",
        "            keys.extend(block_vocab)\n",
        "            values.extend([block_idx] * len(block_vocab))\n",
        "        self.vocab_to_block = tf.lookup.StaticHashTable(\n",
        "            tf.lookup.KeyValueTensorInitializer(keys, values), default_value=-1)\n",
        "\n",
        "        # Create block embedding encoders and projectors\n",
        "        self.block_embedding_encoders = []\n",
        "        self.block_embedding_projectors = []\n",
        "      \n",
        "        for idx in range(self.num_blocks):\n",
        "            vocabulary = blocks_vocabulary[idx]\n",
        "            embedding_dim = blocks_embedding_dims[idx]\n",
        "            block_embedding_encoder = embedding_encoder(\n",
        "                vocabulary, embedding_dim, num_oov_indices=1)\n",
        "            self.block_embedding_encoders.append(block_embedding_encoder)\n",
        "            if embedding_dim == base_embedding_dim:\n",
        "                self.block_embedding_projectors.append(layers.Lambda(lambda x: x))\n",
        "            else:\n",
        "                self.block_embedding_projectors.append(\n",
        "                    layers.Dense(units=base_embedding_dim))\n",
        "\n",
        "    # Config layers\n",
        "    def get_config(self):\n",
        "      config = super().get_config()\n",
        "      return config\n",
        "\n",
        "    def call(self, inputs):\n",
        "\n",
        "        # Get block index for each input item\n",
        "        block_indicies = self.vocab_to_block.lookup(inputs)\n",
        "        \n",
        "        # Initialize output embeddings to zeros\n",
        "        embeddings = tf.zeros(shape=(tf.shape(inputs)[0], base_embedding_dim))\n",
        "        \n",
        "        # Generate embeddings from blocks\n",
        "        for idx in range(self.num_blocks):\n",
        "\n",
        "            # Lookup & project embeddings from the current block to base_embedding_dim\n",
        "            block_embeddings = self.block_embedding_encoders[idx](inputs)\n",
        "            block_embeddings = self.block_embedding_projectors[idx](block_embeddings)\n",
        "\n",
        "            # Create a mask to filter out embeddings of items not in the current block\n",
        "            mask = tf.expand_dims(tf.cast(block_indicies == idx, \n",
        "                                          tf.dtypes.float32), 1)\n",
        "            \n",
        "            # Set the embeddings for the items not in the current block to zero\n",
        "            block_embeddings = block_embeddings * mask\n",
        "            \n",
        "            # Add the block embeddings to the final embeddings\n",
        "            embeddings += block_embeddings\n",
        "\n",
        "        return embeddings"
      ]
    },
    {
      "cell_type": "markdown",
      "metadata": {
        "id": "d1F4mmu-elNj"
      },
      "source": [
        "### Implement the memory-efficient model: Batch 1024\n",
        "\n",
        "The **Quotient-Remainder** method reduces the\n",
        "size of the user embeddings, and the **Mixed Dimension** method reduces the size of the\n",
        "item embeddings.\n",
        "\n",
        "The number of blocks and the dimensions of embeddings of each block are determined based on the histogram visualization of frequency of the items, potentially popularity."
      ]
    },
    {
      "cell_type": "code",
      "execution_count": null,
      "metadata": {
        "colab": {
          "base_uri": "https://localhost:8080/",
          "height": 282
        },
        "outputId": "8a13e761-1541-4213-d573-498fc36f89d5",
        "id": "fXHMI73welNk"
      },
      "outputs": [
        {
          "output_type": "execute_result",
          "data": {
            "text/plain": [
              "<matplotlib.axes._subplots.AxesSubplot at 0x7f635fdf0f40>"
            ]
          },
          "metadata": {},
          "execution_count": 50
        },
        {
          "output_type": "display_data",
          "data": {
            "text/plain": [
              "<Figure size 432x288 with 1 Axes>"
            ],
            "image/png": "[encoded data removed]"
          },
          "metadata": {
            "needs_background": "light"
          }
        }
      ],
      "source": [
        "item_frequencies = df['item_id'].value_counts()\n",
        "item_frequencies.hist(bins=100)"
      ]
    },
    {
      "cell_type": "code",
      "source": [
        "# Examine 5 numbr summary stats \n",
        "item_frequencies.describe()"
      ],
      "metadata": {
        "colab": {
          "base_uri": "https://localhost:8080/"
        },
        "outputId": "d4aadd91-f4d3-476c-dc3c-972cda6b3293",
        "id": "6t0xjBRoelNl"
      },
      "execution_count": null,
      "outputs": [
        {
          "output_type": "execute_result",
          "data": {
            "text/plain": [
              "count    103687.000000\n",
              "mean         10.738048\n",
              "std          32.901640\n",
              "min           1.000000\n",
              "25%           1.000000\n",
              "50%           3.000000\n",
              "75%           8.000000\n",
              "max        1136.000000\n",
              "Name: item_id, dtype: float64"
            ]
          },
          "metadata": {},
          "execution_count": 51
        }
      ]
    },
    {
      "cell_type": "code",
      "source": [
        "dat = df[df.groupby('item_id')['item_id'].transform('count') <= 10]\n",
        "dat.shape"
      ],
      "metadata": {
        "colab": {
          "base_uri": "https://localhost:8080/"
        },
        "id": "inVtmJI_rxyT",
        "outputId": "49ad0839-5632-437f-f074-d8b912fb37a8"
      },
      "execution_count": null,
      "outputs": [
        {
          "output_type": "execute_result",
          "data": {
            "text/plain": [
              "(234484, 3)"
            ]
          },
          "metadata": {},
          "execution_count": 57
        }
      ]
    },
    {
      "cell_type": "code",
      "source": [
        "item_frequencies1 = dat['item_id'].value_counts()\n",
        "item_frequencies1.hist(bins=100)"
      ],
      "metadata": {
        "colab": {
          "base_uri": "https://localhost:8080/",
          "height": 282
        },
        "id": "bj1a0LuBsX8R",
        "outputId": "bdbecd61-8118-4fa9-a0de-3cb83ab93e3f"
      },
      "execution_count": null,
      "outputs": [
        {
          "output_type": "execute_result",
          "data": {
            "text/plain": [
              "<matplotlib.axes._subplots.AxesSubplot at 0x7f678072bc10>"
            ]
          },
          "metadata": {},
          "execution_count": 58
        },
        {
          "output_type": "display_data",
          "data": {
            "text/plain": [
              "<Figure size 432x288 with 1 Axes>"
            ],
            "image/png": "[encoded data removed]"
          },
          "metadata": {
            "needs_background": "light"
          }
        }
      ]
    },
    {
      "cell_type": "code",
      "source": [
        "dat = df[df.groupby('item_id')['item_id'].transform('count') >= 10]\n",
        "dat.shape"
      ],
      "metadata": {
        "colab": {
          "base_uri": "https://localhost:8080/"
        },
        "id": "B6kqIQzWq9sz",
        "outputId": "23007223-85c1-4226-aacd-ea4551e1538f"
      },
      "execution_count": null,
      "outputs": [
        {
          "output_type": "execute_result",
          "data": {
            "text/plain": [
              "(895032, 3)"
            ]
          },
          "metadata": {},
          "execution_count": 51
        }
      ]
    },
    {
      "cell_type": "code",
      "source": [
        "item_frequencies1 = dat['item_id'].value_counts()\n",
        "item_frequencies1.hist(bins=100)"
      ],
      "metadata": {
        "colab": {
          "base_uri": "https://localhost:8080/",
          "height": 282
        },
        "id": "AumIpFFCsJo7",
        "outputId": "5a05256c-b3a7-413d-993f-6fafb503723e"
      },
      "execution_count": null,
      "outputs": [
        {
          "output_type": "execute_result",
          "data": {
            "text/plain": [
              "<matplotlib.axes._subplots.AxesSubplot at 0x7f6780a87610>"
            ]
          },
          "metadata": {},
          "execution_count": 52
        },
        {
          "output_type": "display_data",
          "data": {
            "text/plain": [
              "<Figure size 432x288 with 1 Axes>"
            ],
            "image/png": "[encoded data removed]"
          },
          "metadata": {
            "needs_background": "light"
          }
        }
      ]
    },
    {
      "cell_type": "code",
      "source": [
        "dat = df[df.groupby('item_id')['item_id'].transform('count') <= 100]\n",
        "dat.shape"
      ],
      "metadata": {
        "colab": {
          "base_uri": "https://localhost:8080/"
        },
        "outputId": "7dd1f081-9d09-4bed-8461-5a99cd2fa02b",
        "id": "VMdPIf5JsrXB"
      },
      "execution_count": null,
      "outputs": [
        {
          "output_type": "execute_result",
          "data": {
            "text/plain": [
              "(752937, 3)"
            ]
          },
          "metadata": {},
          "execution_count": 59
        }
      ]
    },
    {
      "cell_type": "code",
      "source": [
        "item_frequencies1 = dat['item_id'].value_counts()\n",
        "item_frequencies1.hist(bins=100)"
      ],
      "metadata": {
        "colab": {
          "base_uri": "https://localhost:8080/",
          "height": 282
        },
        "outputId": "ca4e4c9f-f73d-45fb-c31a-6fb3bc2d3704",
        "id": "tV72WgRpsrXG"
      },
      "execution_count": null,
      "outputs": [
        {
          "output_type": "execute_result",
          "data": {
            "text/plain": [
              "<matplotlib.axes._subplots.AxesSubplot at 0x7f678057b040>"
            ]
          },
          "metadata": {},
          "execution_count": 60
        },
        {
          "output_type": "display_data",
          "data": {
            "text/plain": [
              "<Figure size 432x288 with 1 Axes>"
            ],
            "image/png": "[encoded data removed]"
          },
          "metadata": {
            "needs_background": "light"
          }
        }
      ]
    },
    {
      "cell_type": "code",
      "source": [
        "dat = df[df.groupby('item_id')['item_id'].transform('count') >= 100]\n",
        "dat.shape"
      ],
      "metadata": {
        "colab": {
          "base_uri": "https://localhost:8080/"
        },
        "id": "jzS9KSKWrRDB",
        "outputId": "4834066f-588a-4cdd-82d0-8ba51a4e1392"
      },
      "execution_count": null,
      "outputs": [
        {
          "output_type": "execute_result",
          "data": {
            "text/plain": [
              "(363159, 3)"
            ]
          },
          "metadata": {},
          "execution_count": 53
        }
      ]
    },
    {
      "cell_type": "code",
      "source": [
        "item_frequencies1 = dat['item_id'].value_counts()\n",
        "item_frequencies1.hist(bins=100)"
      ],
      "metadata": {
        "colab": {
          "base_uri": "https://localhost:8080/",
          "height": 282
        },
        "id": "RL_oqOqxsQVs",
        "outputId": "2f43ce34-ffcc-4e81-cfc5-7da983485e8c"
      },
      "execution_count": null,
      "outputs": [
        {
          "output_type": "execute_result",
          "data": {
            "text/plain": [
              "<matplotlib.axes._subplots.AxesSubplot at 0x7f6780959a60>"
            ]
          },
          "metadata": {},
          "execution_count": 54
        },
        {
          "output_type": "display_data",
          "data": {
            "text/plain": [
              "<Figure size 432x288 with 1 Axes>"
            ],
            "image/png": "[encoded data removed]"
          },
          "metadata": {
            "needs_background": "light"
          }
        }
      ]
    },
    {
      "cell_type": "markdown",
      "metadata": {
        "id": "WDphTQYaelNo"
      },
      "source": [
        "The items can be grouped into three blocks, and assigned as the embedding dimensions (64, 32, and 16) with the block size split like the frequency of the items."
      ]
    },
    {
      "cell_type": "code",
      "source": [
        "# Create item block vocab with different dimensions\n",
        "sorted_item_vocabulary = list(item_frequencies.keys())\n",
        "\n",
        "item_blocks_vocabulary = [\n",
        "    sorted_item_vocabulary[10:100],  # High popularity items block\n",
        "    sorted_item_vocabulary[100:],  # Normal popularity items block\n",
        "    sorted_item_vocabulary[:10]]  # Low popularity items block\n",
        "\n",
        "item_blocks_embedding_dims = [64, 32, 16]\n",
        "\n",
        "# Define number of embedding buckets for reviewers\n",
        "reviewer_embedding_num_buckets = len(reviewer_vocabulary) // 100\n",
        "print('Number of reviewer embedding buckets:', reviewer_embedding_num_buckets)"
      ],
      "metadata": {
        "colab": {
          "base_uri": "https://localhost:8080/"
        },
        "id": "6nBnBHsmcbQj",
        "outputId": "9fa7b152-184c-4b97-872b-90c44e23c302"
      },
      "execution_count": null,
      "outputs": [
        {
          "output_type": "stream",
          "name": "stdout",
          "text": [
            "Number of reviewer embedding buckets: 196\n"
          ]
        }
      ]
    },
    {
      "cell_type": "code",
      "source": [
        "def create_memory_efficient_model():\n",
        "\n",
        "    # Use reviewer as an input for reviewer embeddings\n",
        "    reviewer_input = layers.Input(name='reviewer_id', shape=(), dtype=tf.string)\n",
        "    reviewer_embedding = QREmbedding(\n",
        "        vocabulary=reviewer_vocabulary,\n",
        "        embedding_dim=base_embedding_dim,\n",
        "        num_buckets=reviewer_embedding_num_buckets,\n",
        "        name='reviewer_embedding')(reviewer_input)\n",
        "\n",
        "    # Use item as an input for item embeddings\n",
        "    item_input = layers.Input(name='item_id', shape=(), dtype=tf.string)\n",
        "    item_embedding = MDEmbedding(\n",
        "        blocks_vocabulary=item_blocks_vocabulary,\n",
        "        blocks_embedding_dims=item_blocks_embedding_dims,\n",
        "        base_embedding_dim=base_embedding_dim,\n",
        "        name='item_embedding')(item_input)\n",
        "\n",
        "    # Compute dot product similarity between reviewer and item embeddings\n",
        "    logits = layers.Dot(axes=1, name='dot_similarity')(\n",
        "        [reviewer_embedding, item_embedding])\n",
        "    \n",
        "    # Convert to rating scale\n",
        "    prediction = keras.activations.sigmoid(logits) * 5\n",
        "\n",
        "    # Create the model\n",
        "    model = keras.Model(inputs=[reviewer_input, item_input], outputs=prediction, \n",
        "                        name='memory_model')\n",
        "    return model"
      ],
      "metadata": {
        "id": "DJwGfIUTxbMj"
      },
      "execution_count": null,
      "outputs": []
    },
    {
      "cell_type": "code",
      "execution_count": null,
      "metadata": {
        "colab": {
          "base_uri": "https://localhost:8080/"
        },
        "id": "IqfP91DDelNo",
        "outputId": "8073a4f0-9d0c-42bc-a5e3-150c2a19ca96"
      },
      "outputs": [
        {
          "output_type": "stream",
          "name": "stdout",
          "text": [
            "Model: \"memory_model\"\n",
            "__________________________________________________________________________________________________\n",
            " Layer (type)                   Output Shape         Param #     Connected to                     \n",
            "==================================================================================================\n",
            " reviewer_id (InputLayer)       [(None,)]            0           []                               \n",
            "                                                                                                  \n",
            " item_id (InputLayer)           [(None,)]            0           []                               \n",
            "                                                                                                  \n",
            " reviewer_embedding (QREmbeddin  (None, 64)          25088       ['reviewer_id[0][0]']            \n",
            " g)                                                                                               \n",
            "                                                                                                  \n",
            " item_embedding (MDEmbedding)   (None, 64)           3324016     ['item_id[0][0]']                \n",
            "                                                                                                  \n",
            " dot_similarity (Dot)           (None, 1)            0           ['reviewer_embedding[0][0]',     \n",
            "                                                                  'item_embedding[0][0]']         \n",
            "                                                                                                  \n",
            " tf.math.sigmoid_3 (TFOpLambda)  (None, 1)           0           ['dot_similarity[0][0]']         \n",
            "                                                                                                  \n",
            " tf.math.multiply_3 (TFOpLambda  (None, 1)           0           ['tf.math.sigmoid_3[0][0]']      \n",
            " )                                                                                                \n",
            "                                                                                                  \n",
            "==================================================================================================\n",
            "Total params: 3,349,104\n",
            "Trainable params: 3,349,104\n",
            "Non-trainable params: 0\n",
            "__________________________________________________________________________________________________\n"
          ]
        }
      ],
      "source": [
        "# Create memory efficient model\n",
        "memory_efficient_model = create_memory_efficient_model()\n",
        "\n",
        "# Model summary\n",
        "memory_efficient_model.summary()"
      ]
    },
    {
      "cell_type": "markdown",
      "metadata": {
        "id": "S9MKld9-elNp"
      },
      "source": [
        "The number of trainable parameters is now 3,349,104 down from 7,892,864 which is more than 2x less than the number of parameters in the baseline model."
      ]
    },
    {
      "cell_type": "code",
      "source": [
        "# Set up callbacks\n",
        "filepath = 'baselineFiltered_weights_only_b1024_memOpt.h5'\n",
        "\n",
        "checkpoint_dir = os.path.dirname(filepath)\n",
        "\n",
        "tensorboard_callback = tf.keras.callbacks.TensorBoard(log_folder,\n",
        "                                                      histogram_freq=1)\n",
        "\n",
        "callbacks_list = [EarlyStopping(monitor='val_loss', patience=3),\n",
        "                  ModelCheckpoint(filepath, monitor='val_loss', \n",
        "                                  save_best_only=True, mode='min'), \n",
        "                  tensorboard_callback]"
      ],
      "metadata": {
        "id": "8xWvHqa8elNp"
      },
      "execution_count": null,
      "outputs": []
    },
    {
      "cell_type": "code",
      "execution_count": null,
      "metadata": {
        "colab": {
          "base_uri": "https://localhost:8080/"
        },
        "id": "npgOSQIYelNp",
        "outputId": "f74e02ba-b03f-4028-be22-58e4b76cf6a5"
      },
      "outputs": [
        {
          "output_type": "stream",
          "name": "stdout",
          "text": [
            "Epoch 1/30\n",
            "870/870 [==============================] - 139s 155ms/step - loss: 3.9922 - mae: 1.8427 - val_loss: 3.8602 - val_mae: 1.8107\n",
            "Epoch 2/30\n",
            "870/870 [==============================] - 129s 148ms/step - loss: 2.9061 - mae: 1.5446 - val_loss: 1.7800 - val_mae: 1.1903\n",
            "Epoch 3/30\n",
            "870/870 [==============================] - 127s 147ms/step - loss: 1.4770 - mae: 1.0167 - val_loss: 1.3738 - val_mae: 0.9444\n",
            "Epoch 4/30\n",
            "870/870 [==============================] - 125s 143ms/step - loss: 1.2883 - mae: 0.9073 - val_loss: 1.3152 - val_mae: 0.9091\n",
            "Epoch 5/30\n",
            "870/870 [==============================] - 133s 153ms/step - loss: 1.2071 - mae: 0.8670 - val_loss: 1.2915 - val_mae: 0.8895\n",
            "Epoch 6/30\n",
            "870/870 [==============================] - 132s 152ms/step - loss: 1.1569 - mae: 0.8380 - val_loss: 1.2851 - val_mae: 0.8772\n",
            "Epoch 7/30\n",
            "870/870 [==============================] - 133s 152ms/step - loss: 1.1255 - mae: 0.8177 - val_loss: 1.2823 - val_mae: 0.8693\n",
            "Epoch 8/30\n",
            "870/870 [==============================] - 133s 152ms/step - loss: 1.1033 - mae: 0.8035 - val_loss: 1.2786 - val_mae: 0.8639\n",
            "Epoch 9/30\n",
            "870/870 [==============================] - 127s 145ms/step - loss: 1.0853 - mae: 0.7932 - val_loss: 1.2739 - val_mae: 0.8594\n",
            "Epoch 10/30\n",
            "870/870 [==============================] - 132s 152ms/step - loss: 1.0701 - mae: 0.7851 - val_loss: 1.2676 - val_mae: 0.8560\n",
            "Epoch 11/30\n",
            "870/870 [==============================] - 134s 154ms/step - loss: 1.0565 - mae: 0.7787 - val_loss: 1.2610 - val_mae: 0.8531\n",
            "Epoch 12/30\n",
            "870/870 [==============================] - 133s 153ms/step - loss: 1.0443 - mae: 0.7733 - val_loss: 1.2533 - val_mae: 0.8503\n",
            "Epoch 13/30\n",
            "870/870 [==============================] - 130s 150ms/step - loss: 1.0330 - mae: 0.7683 - val_loss: 1.2458 - val_mae: 0.8477\n",
            "Epoch 14/30\n",
            "870/870 [==============================] - 130s 149ms/step - loss: 1.0226 - mae: 0.7638 - val_loss: 1.2382 - val_mae: 0.8450\n",
            "Epoch 15/30\n",
            "870/870 [==============================] - 130s 150ms/step - loss: 1.0129 - mae: 0.7596 - val_loss: 1.2308 - val_mae: 0.8424\n",
            "Epoch 16/30\n",
            "870/870 [==============================] - 132s 152ms/step - loss: 1.0041 - mae: 0.7556 - val_loss: 1.2241 - val_mae: 0.8398\n",
            "Epoch 17/30\n",
            "870/870 [==============================] - 139s 160ms/step - loss: 0.9960 - mae: 0.7518 - val_loss: 1.2172 - val_mae: 0.8369\n",
            "Epoch 18/30\n",
            "870/870 [==============================] - 134s 154ms/step - loss: 0.9886 - mae: 0.7482 - val_loss: 1.2112 - val_mae: 0.8343\n",
            "Epoch 19/30\n",
            "870/870 [==============================] - 128s 147ms/step - loss: 0.9818 - mae: 0.7446 - val_loss: 1.2054 - val_mae: 0.8318\n",
            "Epoch 20/30\n",
            "870/870 [==============================] - 132s 152ms/step - loss: 0.9757 - mae: 0.7414 - val_loss: 1.2001 - val_mae: 0.8291\n",
            "Epoch 21/30\n",
            "870/870 [==============================] - 132s 152ms/step - loss: 0.9700 - mae: 0.7384 - val_loss: 1.1952 - val_mae: 0.8268\n",
            "Epoch 22/30\n",
            "870/870 [==============================] - 123s 141ms/step - loss: 0.9648 - mae: 0.7356 - val_loss: 1.1906 - val_mae: 0.8248\n",
            "Epoch 23/30\n",
            "870/870 [==============================] - 123s 142ms/step - loss: 0.9601 - mae: 0.7331 - val_loss: 1.1866 - val_mae: 0.8230\n",
            "Epoch 24/30\n",
            "870/870 [==============================] - 123s 141ms/step - loss: 0.9557 - mae: 0.7307 - val_loss: 1.1826 - val_mae: 0.8213\n",
            "Epoch 25/30\n",
            "870/870 [==============================] - 122s 140ms/step - loss: 0.9516 - mae: 0.7286 - val_loss: 1.1793 - val_mae: 0.8197\n",
            "Epoch 26/30\n",
            "870/870 [==============================] - 121s 139ms/step - loss: 0.9478 - mae: 0.7265 - val_loss: 1.1759 - val_mae: 0.8180\n",
            "Epoch 27/30\n",
            "870/870 [==============================] - 121s 139ms/step - loss: 0.9443 - mae: 0.7247 - val_loss: 1.1729 - val_mae: 0.8165\n",
            "Epoch 28/30\n",
            "870/870 [==============================] - 120s 138ms/step - loss: 0.9409 - mae: 0.7228 - val_loss: 1.1702 - val_mae: 0.8154\n",
            "Epoch 29/30\n",
            "870/870 [==============================] - 119s 137ms/step - loss: 0.9376 - mae: 0.7210 - val_loss: 1.1675 - val_mae: 0.8141\n",
            "Epoch 30/30\n",
            "870/870 [==============================] - 121s 139ms/step - loss: 0.9345 - mae: 0.7193 - val_loss: 1.1650 - val_mae: 0.8126\n"
          ]
        }
      ],
      "source": [
        "# Fit the model\n",
        "history = run_experiment(memory_efficient_model)"
      ]
    },
    {
      "cell_type": "code",
      "source": [
        "# Save model\n",
        "memory_efficient_model.save('./memoryEfficient_weights_only_b1024_tf.h5', \n",
        "                            save_format='tf')\n",
        "\n",
        "# Load model for more training or later use\n",
        "#filepath = 'baselineFiltered_weights_only_b1024_memOpt.h5'\n",
        "#model = tf.keras.models.load_model('./memoryEfficient_weights_only_b1024_tf.h5')\n",
        "#model.load_weights(filepath)\n",
        "\n",
        "# Show the model architecture\n",
        "#model.summary()"
      ],
      "metadata": {
        "id": "uZNp9AmTelNu"
      },
      "execution_count": null,
      "outputs": []
    },
    {
      "cell_type": "code",
      "source": [
        "# Plot loss over epochs\n",
        "plt.plot(history.history['loss'])\n",
        "plt.plot(history.history['val_loss'])\n",
        "plt.title('Model Loss')\n",
        "plt.ylabel('Loss')\n",
        "plt.xlabel('Epoch')\n",
        "plt.legend(['Train', 'Eval'], loc='upper right')\n",
        "plt.savefig('TF_MovieTV_memoryEfficientEmbed64_batch1024_Loss.png', \n",
        "            dpi=my_dpi*10,bbox_inches='tight')\n",
        "plt.show()"
      ],
      "metadata": {
        "colab": {
          "base_uri": "https://localhost:8080/",
          "height": 295
        },
        "outputId": "4962bec2-4e0c-43fe-e8bc-17dc1d1a5c7e",
        "id": "ClfpTTlS9Br_"
      },
      "execution_count": null,
      "outputs": [
        {
          "output_type": "display_data",
          "data": {
            "text/plain": [
              "<Figure size 432x288 with 1 Axes>"
            ],
            "image/png": "[encoded data removed]"
          },
          "metadata": {
            "needs_background": "light"
          }
        }
      ]
    },
    {
      "cell_type": "code",
      "source": [
        "# Plot mae over epochs\n",
        "plt.plot(history.history['mae'])\n",
        "plt.plot(history.history['val_mae'])\n",
        "plt.title('Model Loss')\n",
        "plt.ylabel('Loss')\n",
        "plt.xlabel('Epoch')\n",
        "plt.legend(['Train', 'Eval'], loc='upper right')\n",
        "plt.savefig('TF_MovieTV_memoryEfficientEmbed64_batch1024_mae.png', \n",
        "            dpi=my_dpi*10, bbox_inches='tight')\n",
        "plt.show()"
      ],
      "metadata": {
        "colab": {
          "base_uri": "https://localhost:8080/",
          "height": 295
        },
        "outputId": "f4eeae61-24ef-4e1a-f1df-97ddac3b1e24",
        "id": "ejTssV6p9BsC"
      },
      "execution_count": null,
      "outputs": [
        {
          "output_type": "display_data",
          "data": {
            "text/plain": [
              "<Figure size 432x288 with 1 Axes>"
            ],
            "image/png": "[encoded data removed]"
          },
          "metadata": {
            "needs_background": "light"
          }
        }
      ]
    },
    {
      "cell_type": "code",
      "source": [
        "# Load model for more training or later use\n",
        "model = tf.keras.models.load_model('./memoryEfficient_weights_only_b1024_tf.h5')\n",
        "\n",
        "# Show the model architecture\n",
        "model.summary()"
      ],
      "metadata": {
        "id": "RoJe1wkd9BsE"
      },
      "execution_count": null,
      "outputs": []
    },
    {
      "cell_type": "code",
      "source": [
        "# Load test set\n",
        "eval_dataset = get_dataset_from_csv('eval_filtered.csv', batch_size, \n",
        "                                    shuffle=False)"
      ],
      "metadata": {
        "id": "M20EQtLh9BsG"
      },
      "execution_count": null,
      "outputs": []
    },
    {
      "cell_type": "code",
      "source": [
        "# Evaluate with the test data\n",
        "result = model.evaluate(eval_dataset, return_dict=True, verbose=0)\n",
        "print('\\nEvaluation on the test set:')\n",
        "display(result)"
      ],
      "metadata": {
        "colab": {
          "base_uri": "https://localhost:8080/",
          "height": 69
        },
        "outputId": "25363a40-0d6e-4ff2-a45b-3d4c19669c7f",
        "id": "XIyvUC6A9BsH"
      },
      "execution_count": null,
      "outputs": [
        {
          "output_type": "stream",
          "name": "stdout",
          "text": [
            "\n",
            "Evaluation on the test set:\n"
          ]
        },
        {
          "output_type": "display_data",
          "data": {
            "text/plain": [
              "{'loss': 1.359154462814331, 'mae': 0.9445576071739197}"
            ]
          },
          "metadata": {}
        }
      ]
    }
  ],
  "metadata": {
    "colab": {
      "machine_shape": "hm",
      "provenance": [],
      "toc_visible": true
    },
    "kernelspec": {
      "display_name": "Python 3",
      "name": "python3"
    },
    "language_info": {
      "name": "python"
    },
    "accelerator": "GPU"
  },
  "nbformat": 4,
  "nbformat_minor": 0
}