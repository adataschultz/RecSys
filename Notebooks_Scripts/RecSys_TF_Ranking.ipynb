{
  "cells": [
    {
      "cell_type": "markdown",
      "source": [
        "# Ranking System in Tensorflow"
      ],
      "metadata": {
        "id": "jmf-hkSUJlCO"
      }
    },
    {
      "cell_type": "markdown",
      "source": [
        "## Set Up Environment"
      ],
      "metadata": {
        "id": "9VDYumWlwr4j"
      }
    },
    {
      "cell_type": "code",
      "execution_count": null,
      "metadata": {
        "colab": {
          "base_uri": "https://localhost:8080/"
        },
        "id": "pPD1AoKmuksU",
        "outputId": "c429d01a-9d21-4baa-99a7-a3509b9c3d7d"
      },
      "outputs": [
        {
          "output_type": "stream",
          "name": "stdout",
          "text": [
            "Mounted at /content/drive\n"
          ]
        }
      ],
      "source": [
        "from google.colab import drive \n",
        "drive.mount('/content/drive')"
      ]
    },
    {
      "cell_type": "code",
      "source": [
        "# Install and import packages\n",
        "!pip install tensorflow-recommenders\n",
        "!pip install --upgrade tensorflow-datasets\n",
        "import os\n",
        "import random\n",
        "import numpy as np\n",
        "import warnings\n",
        "import pandas as pd\n",
        "import matplotlib.pyplot as plt\n",
        "import seaborn as sns\n",
        "import pprint\n",
        "from typing import Dict, Text\n",
        "import tensorflow as tf\n",
        "import tensorflow_datasets as tfds\n",
        "import tensorflow_recommenders as tfrs\n",
        "import datetime\n",
        "from tensorboard.plugins.hparams import api as hp\n",
        "from tensorflow.keras.callbacks import EarlyStopping, ModelCheckpoint\n",
        "warnings.filterwarnings('ignore')\n",
        "my_dpi = 96\n",
        "print('CUDA and NVIDIA GPU Information')\n",
        "!/usr/local/cuda/bin/nvcc --version\n",
        "!nvidia-smi\n",
        "print('\\n')\n",
        "print('TensorFlow version: {}'.format(tf.__version__))\n",
        "print('Eager execution is: {}'.format(tf.executing_eagerly()))\n",
        "print('Keras version: {}'.format(tf.keras.__version__))\n",
        "print('Num GPUs Available: ', len(tf.config.list_physical_devices('GPU')))\n",
        "print('\\n')"
      ],
      "metadata": {
        "colab": {
          "base_uri": "https://localhost:8080/"
        },
        "id": "S3yMoOHPuMES",
        "outputId": "1589fe97-04d2-423c-fc41-c72f7c2a9bd9"
      },
      "execution_count": null,
      "outputs": [
        {
          "output_type": "stream",
          "name": "stdout",
          "text": [
            "Looking in indexes: https://pypi.org/simple, https://us-python.pkg.dev/colab-wheels/public/simple/\n",
            "Collecting tensorflow-recommenders\n",
            "  Downloading tensorflow_recommenders-0.7.2-py3-none-any.whl (89 kB)\n",
            "\u001b[2K     \u001b[90m━━━━━━━━━━━━━━━━━━━━━━━━━━━━━━━━━━━━━━━━\u001b[0m \u001b[32m89.3/89.3 KB\u001b[0m \u001b[31m4.5 MB/s\u001b[0m eta \u001b[36m0:00:00\u001b[0m\n",
            "\u001b[?25hRequirement already satisfied: absl-py>=0.1.6 in /usr/local/lib/python3.8/dist-packages (from tensorflow-recommenders) (1.3.0)\n",
            "Requirement already satisfied: tensorflow>=2.9.0 in /usr/local/lib/python3.8/dist-packages (from tensorflow-recommenders) (2.9.2)\n",
            "Requirement already satisfied: tensorflow-io-gcs-filesystem>=0.23.1 in /usr/local/lib/python3.8/dist-packages (from tensorflow>=2.9.0->tensorflow-recommenders) (0.29.0)\n",
            "Requirement already satisfied: keras<2.10.0,>=2.9.0rc0 in /usr/local/lib/python3.8/dist-packages (from tensorflow>=2.9.0->tensorflow-recommenders) (2.9.0)\n",
            "Requirement already satisfied: packaging in /usr/local/lib/python3.8/dist-packages (from tensorflow>=2.9.0->tensorflow-recommenders) (21.3)\n",
            "Requirement already satisfied: opt-einsum>=2.3.2 in /usr/local/lib/python3.8/dist-packages (from tensorflow>=2.9.0->tensorflow-recommenders) (3.3.0)\n",
            "Requirement already satisfied: protobuf<3.20,>=3.9.2 in /usr/local/lib/python3.8/dist-packages (from tensorflow>=2.9.0->tensorflow-recommenders) (3.19.6)\n",
            "Requirement already satisfied: setuptools in /usr/local/lib/python3.8/dist-packages (from tensorflow>=2.9.0->tensorflow-recommenders) (57.4.0)\n",
            "Requirement already satisfied: wrapt>=1.11.0 in /usr/local/lib/python3.8/dist-packages (from tensorflow>=2.9.0->tensorflow-recommenders) (1.14.1)\n",
            "Requirement already satisfied: astunparse>=1.6.0 in /usr/local/lib/python3.8/dist-packages (from tensorflow>=2.9.0->tensorflow-recommenders) (1.6.3)\n",
            "Requirement already satisfied: six>=1.12.0 in /usr/local/lib/python3.8/dist-packages (from tensorflow>=2.9.0->tensorflow-recommenders) (1.15.0)\n",
            "Requirement already satisfied: tensorboard<2.10,>=2.9 in /usr/local/lib/python3.8/dist-packages (from tensorflow>=2.9.0->tensorflow-recommenders) (2.9.1)\n",
            "Requirement already satisfied: numpy>=1.20 in /usr/local/lib/python3.8/dist-packages (from tensorflow>=2.9.0->tensorflow-recommenders) (1.21.6)\n",
            "Requirement already satisfied: grpcio<2.0,>=1.24.3 in /usr/local/lib/python3.8/dist-packages (from tensorflow>=2.9.0->tensorflow-recommenders) (1.51.1)\n",
            "Requirement already satisfied: gast<=0.4.0,>=0.2.1 in /usr/local/lib/python3.8/dist-packages (from tensorflow>=2.9.0->tensorflow-recommenders) (0.4.0)\n",
            "Requirement already satisfied: flatbuffers<2,>=1.12 in /usr/local/lib/python3.8/dist-packages (from tensorflow>=2.9.0->tensorflow-recommenders) (1.12)\n",
            "Requirement already satisfied: google-pasta>=0.1.1 in /usr/local/lib/python3.8/dist-packages (from tensorflow>=2.9.0->tensorflow-recommenders) (0.2.0)\n",
            "Requirement already satisfied: h5py>=2.9.0 in /usr/local/lib/python3.8/dist-packages (from tensorflow>=2.9.0->tensorflow-recommenders) (3.1.0)\n",
            "Requirement already satisfied: libclang>=13.0.0 in /usr/local/lib/python3.8/dist-packages (from tensorflow>=2.9.0->tensorflow-recommenders) (14.0.6)\n",
            "Requirement already satisfied: typing-extensions>=3.6.6 in /usr/local/lib/python3.8/dist-packages (from tensorflow>=2.9.0->tensorflow-recommenders) (4.4.0)\n",
            "Requirement already satisfied: tensorflow-estimator<2.10.0,>=2.9.0rc0 in /usr/local/lib/python3.8/dist-packages (from tensorflow>=2.9.0->tensorflow-recommenders) (2.9.0)\n",
            "Requirement already satisfied: keras-preprocessing>=1.1.1 in /usr/local/lib/python3.8/dist-packages (from tensorflow>=2.9.0->tensorflow-recommenders) (1.1.2)\n",
            "Requirement already satisfied: termcolor>=1.1.0 in /usr/local/lib/python3.8/dist-packages (from tensorflow>=2.9.0->tensorflow-recommenders) (2.1.1)\n",
            "Requirement already satisfied: wheel<1.0,>=0.23.0 in /usr/local/lib/python3.8/dist-packages (from astunparse>=1.6.0->tensorflow>=2.9.0->tensorflow-recommenders) (0.38.4)\n",
            "Requirement already satisfied: werkzeug>=1.0.1 in /usr/local/lib/python3.8/dist-packages (from tensorboard<2.10,>=2.9->tensorflow>=2.9.0->tensorflow-recommenders) (1.0.1)\n",
            "Requirement already satisfied: google-auth-oauthlib<0.5,>=0.4.1 in /usr/local/lib/python3.8/dist-packages (from tensorboard<2.10,>=2.9->tensorflow>=2.9.0->tensorflow-recommenders) (0.4.6)\n",
            "Requirement already satisfied: tensorboard-plugin-wit>=1.6.0 in /usr/local/lib/python3.8/dist-packages (from tensorboard<2.10,>=2.9->tensorflow>=2.9.0->tensorflow-recommenders) (1.8.1)\n",
            "Requirement already satisfied: requests<3,>=2.21.0 in /usr/local/lib/python3.8/dist-packages (from tensorboard<2.10,>=2.9->tensorflow>=2.9.0->tensorflow-recommenders) (2.25.1)\n",
            "Requirement already satisfied: google-auth<3,>=1.6.3 in /usr/local/lib/python3.8/dist-packages (from tensorboard<2.10,>=2.9->tensorflow>=2.9.0->tensorflow-recommenders) (2.15.0)\n",
            "Requirement already satisfied: markdown>=2.6.8 in /usr/local/lib/python3.8/dist-packages (from tensorboard<2.10,>=2.9->tensorflow>=2.9.0->tensorflow-recommenders) (3.4.1)\n",
            "Requirement already satisfied: tensorboard-data-server<0.7.0,>=0.6.0 in /usr/local/lib/python3.8/dist-packages (from tensorboard<2.10,>=2.9->tensorflow>=2.9.0->tensorflow-recommenders) (0.6.1)\n",
            "Requirement already satisfied: pyparsing!=3.0.5,>=2.0.2 in /usr/local/lib/python3.8/dist-packages (from packaging->tensorflow>=2.9.0->tensorflow-recommenders) (3.0.9)\n",
            "Requirement already satisfied: cachetools<6.0,>=2.0.0 in /usr/local/lib/python3.8/dist-packages (from google-auth<3,>=1.6.3->tensorboard<2.10,>=2.9->tensorflow>=2.9.0->tensorflow-recommenders) (5.2.0)\n",
            "Requirement already satisfied: rsa<5,>=3.1.4 in /usr/local/lib/python3.8/dist-packages (from google-auth<3,>=1.6.3->tensorboard<2.10,>=2.9->tensorflow>=2.9.0->tensorflow-recommenders) (4.9)\n",
            "Requirement already satisfied: pyasn1-modules>=0.2.1 in /usr/local/lib/python3.8/dist-packages (from google-auth<3,>=1.6.3->tensorboard<2.10,>=2.9->tensorflow>=2.9.0->tensorflow-recommenders) (0.2.8)\n",
            "Requirement already satisfied: requests-oauthlib>=0.7.0 in /usr/local/lib/python3.8/dist-packages (from google-auth-oauthlib<0.5,>=0.4.1->tensorboard<2.10,>=2.9->tensorflow>=2.9.0->tensorflow-recommenders) (1.3.1)\n",
            "Requirement already satisfied: importlib-metadata>=4.4 in /usr/local/lib/python3.8/dist-packages (from markdown>=2.6.8->tensorboard<2.10,>=2.9->tensorflow>=2.9.0->tensorflow-recommenders) (5.2.0)\n",
            "Requirement already satisfied: certifi>=2017.4.17 in /usr/local/lib/python3.8/dist-packages (from requests<3,>=2.21.0->tensorboard<2.10,>=2.9->tensorflow>=2.9.0->tensorflow-recommenders) (2022.12.7)\n",
            "Requirement already satisfied: chardet<5,>=3.0.2 in /usr/local/lib/python3.8/dist-packages (from requests<3,>=2.21.0->tensorboard<2.10,>=2.9->tensorflow>=2.9.0->tensorflow-recommenders) (4.0.0)\n",
            "Requirement already satisfied: urllib3<1.27,>=1.21.1 in /usr/local/lib/python3.8/dist-packages (from requests<3,>=2.21.0->tensorboard<2.10,>=2.9->tensorflow>=2.9.0->tensorflow-recommenders) (1.24.3)\n",
            "Requirement already satisfied: idna<3,>=2.5 in /usr/local/lib/python3.8/dist-packages (from requests<3,>=2.21.0->tensorboard<2.10,>=2.9->tensorflow>=2.9.0->tensorflow-recommenders) (2.10)\n",
            "Requirement already satisfied: zipp>=0.5 in /usr/local/lib/python3.8/dist-packages (from importlib-metadata>=4.4->markdown>=2.6.8->tensorboard<2.10,>=2.9->tensorflow>=2.9.0->tensorflow-recommenders) (3.11.0)\n",
            "Requirement already satisfied: pyasn1<0.5.0,>=0.4.6 in /usr/local/lib/python3.8/dist-packages (from pyasn1-modules>=0.2.1->google-auth<3,>=1.6.3->tensorboard<2.10,>=2.9->tensorflow>=2.9.0->tensorflow-recommenders) (0.4.8)\n",
            "Requirement already satisfied: oauthlib>=3.0.0 in /usr/local/lib/python3.8/dist-packages (from requests-oauthlib>=0.7.0->google-auth-oauthlib<0.5,>=0.4.1->tensorboard<2.10,>=2.9->tensorflow>=2.9.0->tensorflow-recommenders) (3.2.2)\n",
            "Installing collected packages: tensorflow-recommenders\n",
            "Successfully installed tensorflow-recommenders-0.7.2\n",
            "Looking in indexes: https://pypi.org/simple, https://us-python.pkg.dev/colab-wheels/public/simple/\n",
            "Requirement already satisfied: tensorflow-datasets in /usr/local/lib/python3.8/dist-packages (4.6.0)\n",
            "Collecting tensorflow-datasets\n",
            "  Downloading tensorflow_datasets-4.8.1-py3-none-any.whl (5.2 MB)\n",
            "\u001b[2K     \u001b[90m━━━━━━━━━━━━━━━━━━━━━━━━━━━━━━━━━━━━━━━━\u001b[0m \u001b[32m5.2/5.2 MB\u001b[0m \u001b[31m45.0 MB/s\u001b[0m eta \u001b[36m0:00:00\u001b[0m\n",
            "\u001b[?25hRequirement already satisfied: six in /usr/local/lib/python3.8/dist-packages (from tensorflow-datasets) (1.15.0)\n",
            "Requirement already satisfied: toml in /usr/local/lib/python3.8/dist-packages (from tensorflow-datasets) (0.10.2)\n",
            "Requirement already satisfied: absl-py in /usr/local/lib/python3.8/dist-packages (from tensorflow-datasets) (1.3.0)\n",
            "Requirement already satisfied: dill in /usr/local/lib/python3.8/dist-packages (from tensorflow-datasets) (0.3.6)\n",
            "Requirement already satisfied: etils[enp,epath]>=0.9.0 in /usr/local/lib/python3.8/dist-packages (from tensorflow-datasets) (0.9.0)\n",
            "Requirement already satisfied: numpy in /usr/local/lib/python3.8/dist-packages (from tensorflow-datasets) (1.21.6)\n",
            "Requirement already satisfied: psutil in /usr/local/lib/python3.8/dist-packages (from tensorflow-datasets) (5.4.8)\n",
            "Requirement already satisfied: termcolor in /usr/local/lib/python3.8/dist-packages (from tensorflow-datasets) (2.1.1)\n",
            "Requirement already satisfied: protobuf>=3.12.2 in /usr/local/lib/python3.8/dist-packages (from tensorflow-datasets) (3.19.6)\n",
            "Requirement already satisfied: dm-tree in /usr/local/lib/python3.8/dist-packages (from tensorflow-datasets) (0.1.8)\n",
            "Requirement already satisfied: tqdm in /usr/local/lib/python3.8/dist-packages (from tensorflow-datasets) (4.64.1)\n",
            "Requirement already satisfied: promise in /usr/local/lib/python3.8/dist-packages (from tensorflow-datasets) (2.3)\n",
            "Requirement already satisfied: requests>=2.19.0 in /usr/local/lib/python3.8/dist-packages (from tensorflow-datasets) (2.25.1)\n",
            "Requirement already satisfied: click in /usr/local/lib/python3.8/dist-packages (from tensorflow-datasets) (7.1.2)\n",
            "Requirement already satisfied: tensorflow-metadata in /usr/local/lib/python3.8/dist-packages (from tensorflow-datasets) (1.12.0)\n",
            "Requirement already satisfied: importlib-resources in /usr/local/lib/python3.8/dist-packages (from tensorflow-datasets) (5.10.1)\n",
            "Requirement already satisfied: typing_extensions in /usr/local/lib/python3.8/dist-packages (from etils[enp,epath]>=0.9.0->tensorflow-datasets) (4.4.0)\n",
            "Requirement already satisfied: zipp in /usr/local/lib/python3.8/dist-packages (from etils[enp,epath]>=0.9.0->tensorflow-datasets) (3.11.0)\n",
            "Requirement already satisfied: chardet<5,>=3.0.2 in /usr/local/lib/python3.8/dist-packages (from requests>=2.19.0->tensorflow-datasets) (4.0.0)\n",
            "Requirement already satisfied: urllib3<1.27,>=1.21.1 in /usr/local/lib/python3.8/dist-packages (from requests>=2.19.0->tensorflow-datasets) (1.24.3)\n",
            "Requirement already satisfied: certifi>=2017.4.17 in /usr/local/lib/python3.8/dist-packages (from requests>=2.19.0->tensorflow-datasets) (2022.12.7)\n",
            "Requirement already satisfied: idna<3,>=2.5 in /usr/local/lib/python3.8/dist-packages (from requests>=2.19.0->tensorflow-datasets) (2.10)\n",
            "Requirement already satisfied: googleapis-common-protos<2,>=1.52.0 in /usr/local/lib/python3.8/dist-packages (from tensorflow-metadata->tensorflow-datasets) (1.57.0)\n",
            "Installing collected packages: tensorflow-datasets\n",
            "  Attempting uninstall: tensorflow-datasets\n",
            "    Found existing installation: tensorflow-datasets 4.6.0\n",
            "    Uninstalling tensorflow-datasets-4.6.0:\n",
            "      Successfully uninstalled tensorflow-datasets-4.6.0\n",
            "Successfully installed tensorflow-datasets-4.8.1\n",
            "CUDA and NVIDIA GPU Information\n",
            "nvcc: NVIDIA (R) Cuda compiler driver\n",
            "Copyright (c) 2005-2021 NVIDIA Corporation\n",
            "Built on Sun_Feb_14_21:12:58_PST_2021\n",
            "Cuda compilation tools, release 11.2, V11.2.152\n",
            "Build cuda_11.2.r11.2/compiler.29618528_0\n",
            "Tue Jan 10 05:10:59 2023       \n",
            "+-----------------------------------------------------------------------------+\n",
            "| NVIDIA-SMI 460.32.03    Driver Version: 460.32.03    CUDA Version: 11.2     |\n",
            "|-------------------------------+----------------------+----------------------+\n",
            "| GPU  Name        Persistence-M| Bus-Id        Disp.A | Volatile Uncorr. ECC |\n",
            "| Fan  Temp  Perf  Pwr:Usage/Cap|         Memory-Usage | GPU-Util  Compute M. |\n",
            "|                               |                      |               MIG M. |\n",
            "|===============================+======================+======================|\n",
            "|   0  Tesla T4            Off  | 00000000:00:04.0 Off |                    0 |\n",
            "| N/A   51C    P0    27W /  70W |      0MiB / 15109MiB |      0%      Default |\n",
            "|                               |                      |                  N/A |\n",
            "+-------------------------------+----------------------+----------------------+\n",
            "                                                                               \n",
            "+-----------------------------------------------------------------------------+\n",
            "| Processes:                                                                  |\n",
            "|  GPU   GI   CI        PID   Type   Process name                  GPU Memory |\n",
            "|        ID   ID                                                   Usage      |\n",
            "|=============================================================================|\n",
            "|  No running processes found                                                 |\n",
            "+-----------------------------------------------------------------------------+\n",
            "\n",
            "\n",
            "TensorFlow version: 2.9.2\n",
            "Eager execution is: True\n",
            "Keras version: 2.9.0\n",
            "Num GPUs Available:  1\n",
            "\n",
            "\n"
          ]
        }
      ]
    },
    {
      "cell_type": "code",
      "execution_count": null,
      "metadata": {
        "gradient": {
          "editing": false,
          "id": "d65dc560-878e-4cb4-919d-7f6ff051ec95",
          "kernelId": "5f2000ec-84ad-4d58-856e-fac9177e6a1d"
        },
        "id": "Rq4OU14dx8-q"
      },
      "outputs": [],
      "source": [
        "# Reproducibility in TF \n",
        "def init_seeds(seed=42):\n",
        "    np.random.seed(seed)\n",
        "    random.seed(seed)\n",
        "    session_conf = tf.compat.v1.ConfigProto()\n",
        "    session_conf = tf.compat.v1.ConfigProto(intra_op_parallelism_threads=1,\n",
        "                                            inter_op_parallelism_threads=1)\n",
        "    os.environ['AmazonReviews_RecSysDL'] = str(seed)\n",
        "    os.environ['TF_CUDNN_DETERMINISTIC'] = 'True'\n",
        "    os.environ['TF_DETERMINISTIC_OPS'] = 'True'\n",
        "    tf.random.set_seed(seed)\n",
        "    sess = tf.compat.v1.Session(graph=tf.compat.v1.get_default_graph(),\n",
        "                                config=session_conf)\n",
        "    tf.compat.v1.keras.backend.set_session(sess)\n",
        "    return sess"
      ]
    },
    {
      "cell_type": "code",
      "execution_count": null,
      "metadata": {
        "gradient": {
          "editing": false,
          "id": "182aed0d-4434-4fe3-8c06-e9f7c280230e",
          "kernelId": "5f2000ec-84ad-4d58-856e-fac9177e6a1d"
        },
        "id": "fjzKoSqW-5kS",
        "colab": {
          "base_uri": "https://localhost:8080/"
        },
        "outputId": "2f83d173-83f8-42e7-dff4-135a1be0fb8d"
      },
      "outputs": [
        {
          "output_type": "execute_result",
          "data": {
            "text/plain": [
              "<tensorflow.python.client.session.Session at 0x7f33e88749a0>"
            ]
          },
          "metadata": {},
          "execution_count": 4
        }
      ],
      "source": [
        "init_seeds(seed=42)"
      ]
    },
    {
      "cell_type": "markdown",
      "source": [
        "## Examine and Process Data"
      ],
      "metadata": {
        "id": "tg8hXCSjxkUz"
      }
    },
    {
      "cell_type": "code",
      "execution_count": null,
      "metadata": {
        "id": "jOReN1GxuoCI",
        "colab": {
          "base_uri": "https://localhost:8080/"
        },
        "outputId": "5e550b21-029b-4382-c12c-42566821300d"
      },
      "outputs": [
        {
          "output_type": "stream",
          "name": "stdout",
          "text": [
            "/content/drive/MyDrive/AmazonReviews/Data\n"
          ]
        }
      ],
      "source": [
        "%cd /content/drive/MyDrive/AmazonReviews/Data/"
      ]
    },
    {
      "cell_type": "code",
      "source": [
        "# Read data\n",
        "df = pd.read_csv('Movies_and_TV.csv', header=None, skiprows=[0],\n",
        "                 low_memory=False)\n",
        "df = df.drop_duplicates()\n",
        "\n",
        "# Name columns\n",
        "df.columns = ['item', 'reviewerID', 'rating', 'timestamp']\n",
        "\n",
        "print('Sample observations:')\n",
        "df.head()"
      ],
      "metadata": {
        "id": "LfCVHw5AOkp-",
        "colab": {
          "base_uri": "https://localhost:8080/",
          "height": 224
        },
        "outputId": "dfcf2e59-a58c-4c92-e6da-b3858c3b60cb"
      },
      "execution_count": null,
      "outputs": [
        {
          "output_type": "stream",
          "name": "stdout",
          "text": [
            "Sample observations:\n"
          ]
        },
        {
          "output_type": "execute_result",
          "data": {
            "text/plain": [
              "         item      reviewerID  rating   timestamp\n",
              "0  0001527665  A2VHSG6TZHU1OB     5.0  1361145600\n",
              "1  0001527665  A23EJWOW1TLENE     5.0  1358380800\n",
              "2  0001527665  A1KM9FNEJ8Q171     5.0  1357776000\n",
              "3  0001527665  A38LY2SSHVHRYB     4.0  1356480000\n",
              "4  0001527665   AHTYUW2H1276L     5.0  1353024000"
            ],
            "text/html": [
              "\n",
              "  <div id=\"df-6b8f6e78-eecd-4d9e-baf3-f87c860e6191\">\n",
              "    <div class=\"colab-df-container\">\n",
              "      <div>\n",
              "<style scoped>\n",
              "    .dataframe tbody tr th:only-of-type {\n",
              "        vertical-align: middle;\n",
              "    }\n",
              "\n",
              "    .dataframe tbody tr th {\n",
              "        vertical-align: top;\n",
              "    }\n",
              "\n",
              "    .dataframe thead th {\n",
              "        text-align: right;\n",
              "    }\n",
              "</style>\n",
              "<table border=\"1\" class=\"dataframe\">\n",
              "  <thead>\n",
              "    <tr style=\"text-align: right;\">\n",
              "      <th></th>\n",
              "      <th>item</th>\n",
              "      <th>reviewerID</th>\n",
              "      <th>rating</th>\n",
              "      <th>timestamp</th>\n",
              "    </tr>\n",
              "  </thead>\n",
              "  <tbody>\n",
              "    <tr>\n",
              "      <th>0</th>\n",
              "      <td>0001527665</td>\n",
              "      <td>A2VHSG6TZHU1OB</td>\n",
              "      <td>5.0</td>\n",
              "      <td>1361145600</td>\n",
              "    </tr>\n",
              "    <tr>\n",
              "      <th>1</th>\n",
              "      <td>0001527665</td>\n",
              "      <td>A23EJWOW1TLENE</td>\n",
              "      <td>5.0</td>\n",
              "      <td>1358380800</td>\n",
              "    </tr>\n",
              "    <tr>\n",
              "      <th>2</th>\n",
              "      <td>0001527665</td>\n",
              "      <td>A1KM9FNEJ8Q171</td>\n",
              "      <td>5.0</td>\n",
              "      <td>1357776000</td>\n",
              "    </tr>\n",
              "    <tr>\n",
              "      <th>3</th>\n",
              "      <td>0001527665</td>\n",
              "      <td>A38LY2SSHVHRYB</td>\n",
              "      <td>4.0</td>\n",
              "      <td>1356480000</td>\n",
              "    </tr>\n",
              "    <tr>\n",
              "      <th>4</th>\n",
              "      <td>0001527665</td>\n",
              "      <td>AHTYUW2H1276L</td>\n",
              "      <td>5.0</td>\n",
              "      <td>1353024000</td>\n",
              "    </tr>\n",
              "  </tbody>\n",
              "</table>\n",
              "</div>\n",
              "      <button class=\"colab-df-convert\" onclick=\"convertToInteractive('df-6b8f6e78-eecd-4d9e-baf3-f87c860e6191')\"\n",
              "              title=\"Convert this dataframe to an interactive table.\"\n",
              "              style=\"display:none;\">\n",
              "        \n",
              "  <svg xmlns=\"http://www.w3.org/2000/svg\" height=\"24px\"viewBox=\"0 0 24 24\"\n",
              "       width=\"24px\">\n",
              "    <path d=\"M0 0h24v24H0V0z\" fill=\"none\"/>\n",
              "    <path d=\"M18.56 5.44l.94 2.06.94-2.06 2.06-.94-2.06-.94-.94-2.06-.94 2.06-2.06.94zm-11 1L8.5 8.5l.94-2.06 2.06-.94-2.06-.94L8.5 2.5l-.94 2.06-2.06.94zm10 10l.94 2.06.94-2.06 2.06-.94-2.06-.94-.94-2.06-.94 2.06-2.06.94z\"/><path d=\"M17.41 7.96l-1.37-1.37c-.4-.4-.92-.59-1.43-.59-.52 0-1.04.2-1.43.59L10.3 9.45l-7.72 7.72c-.78.78-.78 2.05 0 2.83L4 21.41c.39.39.9.59 1.41.59.51 0 1.02-.2 1.41-.59l7.78-7.78 2.81-2.81c.8-.78.8-2.07 0-2.86zM5.41 20L4 18.59l7.72-7.72 1.47 1.35L5.41 20z\"/>\n",
              "  </svg>\n",
              "      </button>\n",
              "      \n",
              "  <style>\n",
              "    .colab-df-container {\n",
              "      display:flex;\n",
              "      flex-wrap:wrap;\n",
              "      gap: 12px;\n",
              "    }\n",
              "\n",
              "    .colab-df-convert {\n",
              "      background-color: #E8F0FE;\n",
              "      border: none;\n",
              "      border-radius: 50%;\n",
              "      cursor: pointer;\n",
              "      display: none;\n",
              "      fill: #1967D2;\n",
              "      height: 32px;\n",
              "      padding: 0 0 0 0;\n",
              "      width: 32px;\n",
              "    }\n",
              "\n",
              "    .colab-df-convert:hover {\n",
              "      background-color: #E2EBFA;\n",
              "      box-shadow: 0px 1px 2px rgba(60, 64, 67, 0.3), 0px 1px 3px 1px rgba(60, 64, 67, 0.15);\n",
              "      fill: #174EA6;\n",
              "    }\n",
              "\n",
              "    [theme=dark] .colab-df-convert {\n",
              "      background-color: #3B4455;\n",
              "      fill: #D2E3FC;\n",
              "    }\n",
              "\n",
              "    [theme=dark] .colab-df-convert:hover {\n",
              "      background-color: #434B5C;\n",
              "      box-shadow: 0px 1px 3px 1px rgba(0, 0, 0, 0.15);\n",
              "      filter: drop-shadow(0px 1px 2px rgba(0, 0, 0, 0.3));\n",
              "      fill: #FFFFFF;\n",
              "    }\n",
              "  </style>\n",
              "\n",
              "      <script>\n",
              "        const buttonEl =\n",
              "          document.querySelector('#df-6b8f6e78-eecd-4d9e-baf3-f87c860e6191 button.colab-df-convert');\n",
              "        buttonEl.style.display =\n",
              "          google.colab.kernel.accessAllowed ? 'block' : 'none';\n",
              "\n",
              "        async function convertToInteractive(key) {\n",
              "          const element = document.querySelector('#df-6b8f6e78-eecd-4d9e-baf3-f87c860e6191');\n",
              "          const dataTable =\n",
              "            await google.colab.kernel.invokeFunction('convertToInteractive',\n",
              "                                                     [key], {});\n",
              "          if (!dataTable) return;\n",
              "\n",
              "          const docLinkHtml = 'Like what you see? Visit the ' +\n",
              "            '<a target=\"_blank\" href=https://colab.research.google.com/notebooks/data_table.ipynb>data table notebook</a>'\n",
              "            + ' to learn more about interactive tables.';\n",
              "          element.innerHTML = '';\n",
              "          dataTable['output_type'] = 'display_data';\n",
              "          await google.colab.output.renderOutput(dataTable, element);\n",
              "          const docLink = document.createElement('div');\n",
              "          docLink.innerHTML = docLinkHtml;\n",
              "          element.appendChild(docLink);\n",
              "        }\n",
              "      </script>\n",
              "    </div>\n",
              "  </div>\n",
              "  "
            ]
          },
          "metadata": {},
          "execution_count": 6
        }
      ]
    },
    {
      "cell_type": "code",
      "source": [
        "# Data summary\n",
        "def data_summary(df):\n",
        "    print('Number of Rows: {}, Columns: {}'.format(df.shape[0], df.shape[1]))\n",
        "    a = pd.DataFrame()\n",
        "    a['Number of Unique Values'] = df.nunique()\n",
        "    a['Number of Missing Values'] = df.isnull().sum()\n",
        "    a['Data type of variable'] = df.dtypes\n",
        "    print(a)\n",
        "\n",
        "print('\\nData Summary')     \n",
        "print(data_summary(df))\n",
        "\n",
        "df = df.drop(['timestamp'], axis=1)"
      ],
      "metadata": {
        "colab": {
          "base_uri": "https://localhost:8080/"
        },
        "id": "g8alVTU-RJt1",
        "outputId": "0d9a9732-d6c9-49e4-d38e-f0852b299d54"
      },
      "execution_count": null,
      "outputs": [
        {
          "output_type": "stream",
          "name": "stdout",
          "text": [
            "\n",
            "Data Summary\n",
            "Number of Rows: 8522125, Columns: 4\n",
            "            Number of Unique Values  Number of Missing Values  \\\n",
            "item                         182032                         0   \n",
            "reviewerID                  3826085                         0   \n",
            "rating                            5                         0   \n",
            "timestamp                      7476                         0   \n",
            "\n",
            "           Data type of variable  \n",
            "item                      object  \n",
            "reviewerID                object  \n",
            "rating                   float64  \n",
            "timestamp                  int64  \n",
            "None\n"
          ]
        }
      ]
    },
    {
      "cell_type": "markdown",
      "metadata": {
        "id": "26f8fd1d"
      },
      "source": [
        "<font size=\"4\">The top 10 reviewers with the most number of ratings in the initial set shows that they have over 1,600 reviews.<font>"
      ]
    },
    {
      "cell_type": "code",
      "execution_count": null,
      "metadata": {
        "id": "8dd43870",
        "outputId": "888e3f01-c5c9-41db-d9f8-3fe8d4d1377f",
        "colab": {
          "base_uri": "https://localhost:8080/"
        }
      },
      "outputs": [
        {
          "output_type": "stream",
          "name": "stdout",
          "text": [
            "Reviewers with highest number of ratings in initial set:\n",
            "reviewerID\n",
            "AV6QDP8Q0ONK4     4101\n",
            "A1GGOC9PVDXW7Z    2114\n",
            "ABO2ZI2Y5DQ9T     2073\n",
            "A328S9RN3U5M68    2059\n",
            "A3MV1KKHX51FYT    1989\n",
            "A2EDZH51XHFA9B    1842\n",
            "A3LZGLA88K0LA0    1814\n",
            "A16CZRQL23NOIW    1808\n",
            "AIMR915K4YCN      1719\n",
            "A2NJO6YE954DBH    1699\n",
            "dtype: int64\n"
          ]
        }
      ],
      "source": [
        "reviewers_top10 = df.groupby('reviewerID').size().sort_values(ascending=False)[:10]\n",
        "print('Reviewers with highest number of ratings in initial set:')\n",
        "print(reviewers_top10)"
      ]
    },
    {
      "cell_type": "markdown",
      "metadata": {
        "id": "533ca815-bfcd-42b4-a9c4-dfb90d91b8c6"
      },
      "source": [
        "<font size=\"4\">The top 10 items in the initial set shows the highest item has 24,554 ratings while the 10th highest items has 14,171 ratings. <font>"
      ]
    },
    {
      "cell_type": "code",
      "execution_count": null,
      "metadata": {
        "id": "b401047a",
        "outputId": "e52b11e5-543c-4da7-9a3c-2ebdd00b79f3",
        "colab": {
          "base_uri": "https://localhost:8080/"
        }
      },
      "outputs": [
        {
          "output_type": "stream",
          "name": "stdout",
          "text": [
            "Items with highest number of ratings in initial set:\n",
            "item\n",
            "B00YSG2ZPA    24554\n",
            "B00006CXSS    24485\n",
            "B00AQVMZKQ    21015\n",
            "B01BHTSIOC    20889\n",
            "B00NAQ3EOK    16857\n",
            "6305837325    16671\n",
            "B00WNBABVC    15205\n",
            "B017S3OP7A    14795\n",
            "B009934S5M    14481\n",
            "B00FL31UF0    14174\n",
            "dtype: int64\n"
          ]
        }
      ],
      "source": [
        "items_top10 = df.groupby('item').size().sort_values(ascending=False)[:10]\n",
        "print('Items with highest number of ratings in initial set:')\n",
        "print(items_top10)"
      ]
    },
    {
      "cell_type": "markdown",
      "metadata": {
        "id": "72142aec-92c5-45e1-b40d-d2afba7b24f6"
      },
      "source": [
        "<font size=\"4\">The data is then filtered to reviewers who have greater than or equal to 25 reviews due to sparsity. This results in a set containing 1,114,877 ratings with 19,702 unique reviewers and 103,731 unique items. The majority of items are rated 5 star.<font>"
      ]
    },
    {
      "cell_type": "code",
      "execution_count": null,
      "metadata": {
        "id": "3f8653cf",
        "outputId": "bea78f69-620e-45c5-eafc-a9c4a053f254",
        "colab": {
          "base_uri": "https://localhost:8080/"
        }
      },
      "outputs": [
        {
          "output_type": "stream",
          "name": "stdout",
          "text": [
            "- Number of ratings after filtering:  1114877\n",
            "- Number of unique reviewers:  19702\n",
            "- Number of unique items:  103731\n",
            "\n",
            "\n",
            "- Number of items with 1 rating = 59576\n",
            "- Number of items with 2 rating = 65630\n",
            "- Number of items with 3 rating = 141579\n",
            "- Number of items with 4 rating = 252845\n",
            "- Number of items with 5 rating = 595247\n"
          ]
        }
      ],
      "source": [
        "reviewer_count = df.reviewerID.value_counts()\n",
        "df = df[df.reviewerID.isin(reviewer_count[reviewer_count >= 25].index)]\n",
        "df[['reviewerID', 'item']] = df[['reviewerID', 'item']].astype('str')\n",
        "df['rating'] = df['rating'].astype('float32')\n",
        "df = df.drop_duplicates()\n",
        "\n",
        "del reviewer_count\n",
        "\n",
        "print('- Number of ratings after filtering: ', len(df))\n",
        "print('- Number of unique reviewers: ', df['reviewerID'].nunique())\n",
        "print('- Number of unique items: ', df['item'].nunique())\n",
        "print('\\n')\n",
        "\n",
        "for i in range(1,6):\n",
        "  print('- Number of items with {0} rating = {1}'.format(i, df[df['rating'] == i].shape[0]))"
      ]
    },
    {
      "cell_type": "code",
      "execution_count": null,
      "metadata": {
        "outputId": "2e87cc70-056e-402b-a4df-ed18a84e59fb",
        "colab": {
          "base_uri": "https://localhost:8080/"
        },
        "id": "KiHEGiW21WMD"
      },
      "outputs": [
        {
          "output_type": "stream",
          "name": "stdout",
          "text": [
            "Reviewers with highest number of ratings in initial set:\n",
            "reviewerID\n",
            "AV6QDP8Q0ONK4     3981\n",
            "ABO2ZI2Y5DQ9T     2068\n",
            "A328S9RN3U5M68    1997\n",
            "A3MV1KKHX51FYT    1986\n",
            "A2EDZH51XHFA9B    1838\n",
            "A3LZGLA88K0LA0    1811\n",
            "A16CZRQL23NOIW    1797\n",
            "A1GGOC9PVDXW7Z    1733\n",
            "AIMR915K4YCN      1706\n",
            "A20EEWWSFMZ1PN    1634\n",
            "dtype: int64\n"
          ]
        }
      ],
      "source": [
        "reviewers_top10 = df.groupby('reviewerID').size().sort_values(ascending=False)[:10]\n",
        "print('Reviewers with highest number of ratings in initial set:')\n",
        "print(reviewers_top10)"
      ]
    },
    {
      "cell_type": "markdown",
      "metadata": {
        "id": "yjuHYFat1WMF"
      },
      "source": [
        "<font size=\"4\">The top 10 items in the initial set shows the highest item has 1,136 ratings while the 10th highest items has 853 ratings. <font>"
      ]
    },
    {
      "cell_type": "code",
      "execution_count": null,
      "metadata": {
        "outputId": "50d0e142-3774-4183-a7d4-3940c78dc013",
        "colab": {
          "base_uri": "https://localhost:8080/"
        },
        "id": "eMWjbig-1WMG"
      },
      "outputs": [
        {
          "output_type": "stream",
          "name": "stdout",
          "text": [
            "Items with highest number of ratings in initial set:\n",
            "item\n",
            "B009934S5M    1136\n",
            "B00PY4Q9OS    1042\n",
            "B00R8GUXPG    1040\n",
            "B00Q0G2VXM    1040\n",
            "B00NYC65M8     965\n",
            "B00OV3VGP0     903\n",
            "B00DY64A3U     895\n",
            "B00D91GRA4     870\n",
            "B0059XTU3G     860\n",
            "B005LAIHY0     853\n",
            "dtype: int64\n"
          ]
        }
      ],
      "source": [
        "items_top10 = df.groupby('item').size().sort_values(ascending=False)[:10]\n",
        "print('Items with highest number of ratings in initial set:')\n",
        "print(items_top10)"
      ]
    },
    {
      "cell_type": "markdown",
      "source": [
        "## Load Data into a Tensorflow Dataset and Prepare for Modeling"
      ],
      "metadata": {
        "id": "StKJVK0cyASd"
      }
    },
    {
      "cell_type": "code",
      "source": [
        "# Load pandas df to tf\n",
        "ratings = tf.data.Dataset.from_tensor_slices(dict(df))"
      ],
      "metadata": {
        "id": "sPAEOpt0pEEL"
      },
      "execution_count": null,
      "outputs": []
    },
    {
      "cell_type": "code",
      "source": [
        "# Map the vars in tf Dataseet\n",
        "ratings = ratings.map(lambda x: {'item': x['item'],\n",
        "                                 'reviewer_id': x['reviewerID'],\n",
        "                                 'rating': x['rating']})"
      ],
      "metadata": {
        "id": "7hZwdlPTpPYP"
      },
      "execution_count": null,
      "outputs": []
    },
    {
      "cell_type": "code",
      "source": [
        "# Prepare train/test sets\n",
        "shuffled = ratings.shuffle(1_000_000, seed=42, reshuffle_each_iteration=False)\n",
        "train = shuffled.take(500_000)\n",
        "test = shuffled.skip(500_000).take(100_000)"
      ],
      "metadata": {
        "id": "XWt78-58pPfB"
      },
      "execution_count": null,
      "outputs": []
    },
    {
      "cell_type": "code",
      "source": [
        "# Generate vocab that maps feature to embedding vector in model\n",
        "items = ratings.batch(3_000_000).map(lambda x: x['item'])\n",
        "reviewer_ids = ratings.batch(3_000_000).map(lambda x: x['reviewer_id'])\n",
        "\n",
        "# Find unique items and reviewer_ids for vocab\n",
        "unique_items = np.unique(np.concatenate(list(items)))\n",
        "unique_reviewer_ids = np.unique(np.concatenate(list(reviewer_ids)))\n",
        "\n",
        "# Set embedding dimension\n",
        "embedding_dimension = 64"
      ],
      "metadata": {
        "id": "hX3cFIXppPt3"
      },
      "execution_count": null,
      "outputs": []
    },
    {
      "cell_type": "markdown",
      "source": [
        "## Define Model Architecture and Metrics"
      ],
      "metadata": {
        "id": "-pUfjYO_y-nD"
      }
    },
    {
      "cell_type": "markdown",
      "metadata": {
        "id": "eCi-seR86qqa"
      },
      "source": [
        "The ranking model computes embeddings for the reviewers annd items which are used as input to multiple stacked `Dense` layers containing `activation='relu'`. "
      ]
    },
    {
      "cell_type": "code",
      "source": [
        "class RankingModel(tf.keras.Model):\n",
        "\n",
        "  def __init__(self):\n",
        "    \n",
        "    \"\"\"\n",
        "    Initialize the model by setting up the layers.\n",
        "    \"\"\"\n",
        "    super().__init__()\n",
        "    \n",
        "    # Compute embeddings for reviewers\n",
        "    self.reviewer_embeddings = tf.keras.Sequential([\n",
        "      tf.keras.layers.StringLookup(vocabulary=unique_reviewer_ids, \n",
        "                                   mask_token=None),\n",
        "      tf.keras.layers.Embedding(len(unique_reviewer_ids) + 1, \n",
        "                                embedding_dimension)])\n",
        "\n",
        "    # Compute embeddings for items\n",
        "    self.item_embeddings = tf.keras.Sequential([\n",
        "      tf.keras.layers.StringLookup(vocabulary=unique_items, mask_token=None),\n",
        "      tf.keras.layers.Embedding(len(unique_items) + 1, embedding_dimension)])\n",
        "\n",
        "    # Add multiple dense layers and predict ratings\n",
        "    self.ratings = tf.keras.Sequential([\n",
        "      tf.keras.layers.Dense(256, activation='relu'),\n",
        "      tf.keras.layers.Dense(64, activation='relu'),\n",
        "      tf.keras.layers.Dense(1)])\n",
        "    \n",
        "  def call(self, inputs):\n",
        "\n",
        "    reviewer_id, item = inputs\n",
        "    reviewer_embedding = self.reviewer_embeddings(reviewer_id)\n",
        "    item_embedding = self.item_embeddings(item)\n",
        "\n",
        "    return self.ratings(tf.concat([reviewer_embedding, item_embedding], axis=1))"
      ],
      "metadata": {
        "id": "Iqhzk7RQphtc"
      },
      "execution_count": null,
      "outputs": []
    },
    {
      "cell_type": "code",
      "source": [
        "# Find the predicted rating given reviewer_id and item\n",
        "RankingModel()((['31'], ['2726956']))"
      ],
      "metadata": {
        "colab": {
          "base_uri": "https://localhost:8080/"
        },
        "id": "rxirwRkwph3N",
        "outputId": "1f76436c-a8a6-4626-c3eb-65c18e0099f2"
      },
      "execution_count": null,
      "outputs": [
        {
          "output_type": "stream",
          "name": "stderr",
          "text": [
            "WARNING:tensorflow:Layers in a Sequential model should only have a single input tensor. Received: inputs=['31']. Consider rewriting this model with the Functional API.\n",
            "WARNING:tensorflow:Layers in a Sequential model should only have a single input tensor. Received: inputs=['2726956']. Consider rewriting this model with the Functional API.\n"
          ]
        },
        {
          "output_type": "execute_result",
          "data": {
            "text/plain": [
              "<tf.Tensor: shape=(1, 1), dtype=float32, numpy=array([[0.00874423]], dtype=float32)>"
            ]
          },
          "metadata": {},
          "execution_count": 18
        }
      ]
    },
    {
      "cell_type": "code",
      "source": [
        "# Loss and metrics\n",
        "task = tfrs.tasks.Ranking(loss=tf.keras.losses.MeanSquaredError(),\n",
        "                          metrics=[tf.keras.metrics.RootMeanSquaredError()])"
      ],
      "metadata": {
        "id": "2gbvHiqHpiC4"
      },
      "execution_count": null,
      "outputs": []
    },
    {
      "cell_type": "markdown",
      "source": [
        "## Define Complete Model\n",
        "The `RankingModel()` is added in the `__init__` method, and the `compute_loss` method calculates a loss given the feautres as input. The base model creates the training loop. "
      ],
      "metadata": {
        "id": "rKZJI__1zyeF"
      }
    },
    {
      "cell_type": "code",
      "source": [
        "class AmazonReviewsModel(tfrs.models.Model):\n",
        "\n",
        "  def __init__(self):\n",
        "    super().__init__()\n",
        "    self.ranking_model: tf.keras.Model = RankingModel()\n",
        "    self.task: tf.keras.layers.Layer = tfrs.tasks.Ranking(\n",
        "      loss = tf.keras.losses.MeanSquaredError(),\n",
        "      metrics=[tf.keras.metrics.RootMeanSquaredError()])\n",
        "\n",
        "  def call(self, features: Dict[str, tf.Tensor]) -> tf.Tensor:\n",
        "    return self.ranking_model((features['reviewer_id'], features['item']))\n",
        "\n",
        "  def compute_loss(self, features: Dict[Text, tf.Tensor], training=False) -> tf.Tensor:\n",
        "    labels = features.pop('rating')\n",
        "    rating_predictions = self(features)\n",
        "\n",
        "    # Computes the loss and the metrics\n",
        "    return self.task(labels=labels, predictions=rating_predictions)"
      ],
      "metadata": {
        "id": "ejjFq8WBpiO-"
      },
      "execution_count": null,
      "outputs": []
    },
    {
      "cell_type": "code",
      "source": [
        "# Initiate the model\n",
        "model = AmazonReviewsModel()\n",
        "model.compile(optimizer=tf.keras.optimizers.Adagrad(learning_rate=0.01))"
      ],
      "metadata": {
        "id": "1_6Fs5vLpibl"
      },
      "execution_count": null,
      "outputs": []
    },
    {
      "cell_type": "code",
      "source": [
        "# Shuffle, batch, and cache the train/test sets\n",
        "cached_train = train.shuffle(1_000_000).batch(1).cache()  \n",
        "cached_test = test.batch(1).cache()"
      ],
      "metadata": {
        "id": "zlOJaHyFpiiy"
      },
      "execution_count": null,
      "outputs": []
    },
    {
      "cell_type": "markdown",
      "source": [
        "## Fit, Evaluate and Save Model"
      ],
      "metadata": {
        "id": "ZqjhTTUN0Lim"
      }
    },
    {
      "cell_type": "code",
      "source": [
        "# Set path for results\n",
        "%cd /content/drive/MyDrive/AmazonReviews/DL/Models/"
      ],
      "metadata": {
        "colab": {
          "base_uri": "https://localhost:8080/"
        },
        "outputId": "c478794f-2e79-40be-b106-23ad32ec8a01",
        "id": "QVITHNVF20Cv"
      },
      "execution_count": null,
      "outputs": [
        {
          "output_type": "stream",
          "name": "stdout",
          "text": [
            "/content/drive/MyDrive/AmazonReviews/DL/Models\n"
          ]
        }
      ]
    },
    {
      "cell_type": "code",
      "source": [
        "# Set up logs\n",
        "!rm -rf /logs/\n",
        "\n",
        "%load_ext tensorboard\n",
        "\n",
        "log_folder = 'logs/fit/' + datetime.datetime.now().strftime('%Y%m%d-%H%M%S')"
      ],
      "metadata": {
        "id": "WXU-p_qf20Cx",
        "colab": {
          "base_uri": "https://localhost:8080/"
        },
        "outputId": "f4a7d6d1-3518-47e1-fb25-5eafbd4d890a"
      },
      "execution_count": null,
      "outputs": [
        {
          "output_type": "stream",
          "name": "stdout",
          "text": [
            "The tensorboard extension is already loaded. To reload it, use:\n",
            "  %reload_ext tensorboard\n"
          ]
        }
      ]
    },
    {
      "cell_type": "code",
      "source": [
        "# Set up callbacks\n",
        "filepath = 'rankingBaseline_MoviesTV_weights_only.h5'\n",
        "\n",
        "checkpoint_dir = os.path.dirname(filepath)\n",
        "\n",
        "tensorboard_callback = tf.keras.callbacks.TensorBoard(log_folder,\n",
        "                                                      histogram_freq=1)\n",
        "\n",
        "callbacks_list = [EarlyStopping(monitor='root_mean_squared_error', patience=3),\n",
        "                  ModelCheckpoint(filepath, monitor='root_mean_squared_error', \n",
        "                                  save_weights_only=True, mode='min'), \n",
        "                  tensorboard_callback]"
      ],
      "metadata": {
        "id": "92-6qh1L20C0"
      },
      "execution_count": null,
      "outputs": []
    },
    {
      "cell_type": "code",
      "source": [
        "# Fit model\n",
        "history = model.fit(cached_train, epochs=20, callbacks=callbacks_list)"
      ],
      "metadata": {
        "colab": {
          "base_uri": "https://localhost:8080/"
        },
        "id": "gFOJ1foIpjJk",
        "outputId": "3e8b4a8d-671b-4b21-e3dc-074590416b2f"
      },
      "execution_count": null,
      "outputs": [
        {
          "output_type": "stream",
          "name": "stdout",
          "text": [
            "Epoch 1/20\n",
            "500000/500000 [==============================] - 1359s 3ms/step - root_mean_squared_error: 0.8855 - loss: 0.7844 - regularization_loss: 0.0000e+00 - total_loss: 0.7844\n",
            "Epoch 2/20\n",
            "500000/500000 [==============================] - 1350s 3ms/step - root_mean_squared_error: 0.8323 - loss: 0.6929 - regularization_loss: 0.0000e+00 - total_loss: 0.6929\n",
            "Epoch 3/20\n",
            "500000/500000 [==============================] - 1351s 3ms/step - root_mean_squared_error: 0.7777 - loss: 0.6051 - regularization_loss: 0.0000e+00 - total_loss: 0.6051\n",
            "Epoch 4/20\n",
            "500000/500000 [==============================] - 1346s 3ms/step - root_mean_squared_error: 0.7191 - loss: 0.5173 - regularization_loss: 0.0000e+00 - total_loss: 0.5173\n",
            "Epoch 5/20\n",
            "500000/500000 [==============================] - 1344s 3ms/step - root_mean_squared_error: 0.6644 - loss: 0.4416 - regularization_loss: 0.0000e+00 - total_loss: 0.4416\n",
            "Epoch 6/20\n",
            "500000/500000 [==============================] - 1345s 3ms/step - root_mean_squared_error: 0.6109 - loss: 0.3734 - regularization_loss: 0.0000e+00 - total_loss: 0.3734\n",
            "Epoch 7/20\n",
            "500000/500000 [==============================] - 1345s 3ms/step - root_mean_squared_error: 0.5578 - loss: 0.3113 - regularization_loss: 0.0000e+00 - total_loss: 0.3113\n",
            "Epoch 8/20\n",
            "500000/500000 [==============================] - 1342s 3ms/step - root_mean_squared_error: 0.5080 - loss: 0.2582 - regularization_loss: 0.0000e+00 - total_loss: 0.2582\n",
            "Epoch 9/20\n",
            "500000/500000 [==============================] - 1352s 3ms/step - root_mean_squared_error: 0.4633 - loss: 0.2147 - regularization_loss: 0.0000e+00 - total_loss: 0.2147\n",
            "Epoch 10/20\n",
            "500000/500000 [==============================] - 1363s 3ms/step - root_mean_squared_error: 0.4246 - loss: 0.1804 - regularization_loss: 0.0000e+00 - total_loss: 0.1804\n",
            "Epoch 11/20\n",
            "500000/500000 [==============================] - 1347s 3ms/step - root_mean_squared_error: 0.3915 - loss: 0.1533 - regularization_loss: 0.0000e+00 - total_loss: 0.1533\n",
            "Epoch 12/20\n",
            "500000/500000 [==============================] - 1352s 3ms/step - root_mean_squared_error: 0.3629 - loss: 0.1318 - regularization_loss: 0.0000e+00 - total_loss: 0.1318\n",
            "Epoch 13/20\n",
            "500000/500000 [==============================] - 1347s 3ms/step - root_mean_squared_error: 0.3384 - loss: 0.1145 - regularization_loss: 0.0000e+00 - total_loss: 0.1145\n",
            "Epoch 14/20\n",
            "500000/500000 [==============================] - 1352s 3ms/step - root_mean_squared_error: 0.3171 - loss: 0.1006 - regularization_loss: 0.0000e+00 - total_loss: 0.1006\n",
            "Epoch 15/20\n",
            "500000/500000 [==============================] - 1367s 3ms/step - root_mean_squared_error: 0.2982 - loss: 0.0889 - regularization_loss: 0.0000e+00 - total_loss: 0.0889\n",
            "Epoch 16/20\n",
            "500000/500000 [==============================] - 1364s 3ms/step - root_mean_squared_error: 0.2819 - loss: 0.0795 - regularization_loss: 0.0000e+00 - total_loss: 0.0795\n",
            "Epoch 17/20\n",
            "500000/500000 [==============================] - 1357s 3ms/step - root_mean_squared_error: 0.2675 - loss: 0.0716 - regularization_loss: 0.0000e+00 - total_loss: 0.0716\n",
            "Epoch 18/20\n",
            "500000/500000 [==============================] - 1359s 3ms/step - root_mean_squared_error: 0.2548 - loss: 0.0649 - regularization_loss: 0.0000e+00 - total_loss: 0.0649\n",
            "Epoch 19/20\n",
            "500000/500000 [==============================] - 1356s 3ms/step - root_mean_squared_error: 0.2433 - loss: 0.0592 - regularization_loss: 0.0000e+00 - total_loss: 0.0592\n",
            "Epoch 20/20\n",
            "500000/500000 [==============================] - 1358s 3ms/step - root_mean_squared_error: 0.2330 - loss: 0.0543 - regularization_loss: 0.0000e+00 - total_loss: 0.0543\n"
          ]
        }
      ]
    },
    {
      "cell_type": "code",
      "source": [
        "# Save model\n",
        "tf.saved_model.save(model, 'rankingBaseline_MoviesTV_20epochs')"
      ],
      "metadata": {
        "colab": {
          "base_uri": "https://localhost:8080/"
        },
        "id": "kBSPMqXpA1Uj",
        "outputId": "7034e8db-54c8-41fa-bffe-10dfa736c0b8"
      },
      "execution_count": null,
      "outputs": [
        {
          "output_type": "stream",
          "name": "stderr",
          "text": [
            "WARNING:absl:Found untraced functions such as ranking_10_layer_call_fn, ranking_10_layer_call_and_return_conditional_losses while saving (showing 2 of 2). These functions will not be directly callable after loading.\n"
          ]
        }
      ]
    },
    {
      "cell_type": "code",
      "source": [
        "# Evaluate on test set\n",
        "model.evaluate(cached_test, return_dict=True)"
      ],
      "metadata": {
        "id": "0IwI3CEH8iMg",
        "colab": {
          "base_uri": "https://localhost:8080/"
        },
        "outputId": "f4b3a843-0480-4f03-a96c-fe4a59054cda"
      },
      "execution_count": null,
      "outputs": [
        {
          "output_type": "stream",
          "name": "stdout",
          "text": [
            "100000/100000 [==============================] - 197s 2ms/step - root_mean_squared_error: 1.2426 - loss: 1.5440 - regularization_loss: 0.0000e+00 - total_loss: 1.5440\n"
          ]
        },
        {
          "output_type": "execute_result",
          "data": {
            "text/plain": [
              "{'root_mean_squared_error': 1.2425607442855835,\n",
              " 'loss': 0.1961183398962021,\n",
              " 'regularization_loss': 0,\n",
              " 'total_loss': 0.1961183398962021}"
            ]
          },
          "metadata": {},
          "execution_count": 88
        }
      ]
    },
    {
      "cell_type": "code",
      "source": [
        "# Plot loss over epochs\n",
        "plt.plot(history.history['loss'])\n",
        "plt.title('Model Loss')\n",
        "plt.ylabel('Loss')\n",
        "plt.xlabel('Epoch')\n",
        "plt.legend(['Train', 'Eval'], loc='upper right')\n",
        "plt.savefig('TF_rankingBaseline_MoviesTV_20Epochs_Loss.png', dpi=my_dpi*10,\n",
        "            bbox_inches='tight')\n",
        "plt.show()"
      ],
      "metadata": {
        "colab": {
          "base_uri": "https://localhost:8080/",
          "height": 295
        },
        "id": "xPauxFl0BOFx",
        "outputId": "3f6454e7-1a91-49e7-decb-f1f255be0d88"
      },
      "execution_count": null,
      "outputs": [
        {
          "output_type": "display_data",
          "data": {
            "text/plain": [
              "<Figure size 432x288 with 1 Axes>"
            ],
            "image/png": "[encoded data removed]"
          },
          "metadata": {
            "needs_background": "light"
          }
        }
      ]
    },
    {
      "cell_type": "code",
      "source": [
        "# Plot loss over epochs\n",
        "loss = pd.DataFrame(history.history['loss'], columns=['loss'])\n",
        "loss.to_csv('/baselineRanking_20epochs_loss.csv', index=False)"
      ],
      "metadata": {
        "id": "TLAapstVpptd"
      },
      "execution_count": null,
      "outputs": []
    },
    {
      "cell_type": "code",
      "source": [
        "# Load model\n",
        "loaded = tf.saved_model.load('rankingBaseline_MoviesTV_20epochs')\n",
        "loaded({'reviewer_id': np.array(['AV6QDP8Q0ONK4']), \n",
        "        'item': ['B009934S5M']}).numpy()"
      ],
      "metadata": {
        "id": "i6V-at4J4VEx",
        "colab": {
          "base_uri": "https://localhost:8080/"
        },
        "outputId": "fd5044d2-15af-4789-9156-fe58ea780695"
      },
      "execution_count": null,
      "outputs": [
        {
          "output_type": "execute_result",
          "data": {
            "text/plain": [
              "array([[4.7614393]], dtype=float32)"
            ]
          },
          "metadata": {},
          "execution_count": 98
        }
      ]
    },
    {
      "cell_type": "code",
      "source": [
        "# Evaluate\n",
        "model.evaluate(cached_test, return_dict=True)"
      ],
      "metadata": {
        "id": "8utiKGBY3BT7",
        "colab": {
          "base_uri": "https://localhost:8080/"
        },
        "outputId": "88de912c-9207-4a54-f10e-ecf88e2b707a"
      },
      "execution_count": null,
      "outputs": [
        {
          "output_type": "stream",
          "name": "stdout",
          "text": [
            "100000/100000 [==============================] - 204s 2ms/step - root_mean_squared_error: 1.2426 - loss: 1.5440 - regularization_loss: 0.0000e+00 - total_loss: 1.5440\n"
          ]
        },
        {
          "output_type": "execute_result",
          "data": {
            "text/plain": [
              "{'root_mean_squared_error': 1.2425607442855835,\n",
              " 'loss': 0.1961183398962021,\n",
              " 'regularization_loss': 0,\n",
              " 'total_loss': 0.1961183398962021}"
            ]
          },
          "metadata": {},
          "execution_count": 99
        }
      ]
    },
    {
      "cell_type": "markdown",
      "metadata": {
        "id": "hcK4WKmKTE3A"
      },
      "source": [
        "## Test the Ranking Model\n",
        "\n",
        "Compute predictions for a subset of items and rank based on the predictions:\n"
      ]
    },
    {
      "cell_type": "markdown",
      "source": [
        "#### AV6QDP8Q0ONK4"
      ],
      "metadata": {
        "id": "lMFwKJMmjdlJ"
      }
    },
    {
      "cell_type": "code",
      "source": [
        "test_ratings = {}\n",
        "test_item = ['B009934S5M','B00PY4Q9OS', 'B00R8GUXPG','B00Q0G2VXM','B00NYC65M8']\n",
        "for item in test_item:\n",
        "  test_ratings[item] = model({\n",
        "      'reviewer_id': np.array(['AV6QDP8Q0ONK4']),\n",
        "      'item': np.array([item])})\n",
        "\n",
        "print('Ratings:')\n",
        "for title, score in sorted(test_ratings.items(), key=lambda x: x[1], \n",
        "                           reverse=True):\n",
        "  print(f'{title}: {score}')"
      ],
      "metadata": {
        "id": "thyVqKwg3BlG",
        "colab": {
          "base_uri": "https://localhost:8080/"
        },
        "outputId": "61833e44-0b42-4a17-d5c3-eb711864c371"
      },
      "execution_count": null,
      "outputs": [
        {
          "output_type": "stream",
          "name": "stdout",
          "text": [
            "Ratings:\n",
            "B00NYC65M8: [[5.2519903]]\n",
            "B00R8GUXPG: [[4.836647]]\n",
            "B009934S5M: [[4.7614393]]\n",
            "B00PY4Q9OS: [[4.7345595]]\n",
            "B00Q0G2VXM: [[4.623266]]\n"
          ]
        }
      ]
    },
    {
      "cell_type": "markdown",
      "source": [
        "#### ABO2ZI2Y5DQ9T"
      ],
      "metadata": {
        "id": "s89iyxQXjif5"
      }
    },
    {
      "cell_type": "code",
      "source": [
        "test_ratings = {}\n",
        "test_item = ['B009934S5M','B00PY4Q9OS', 'B00R8GUXPG','B00Q0G2VXM','B00NYC65M8']\n",
        "for item in test_item:\n",
        "  test_ratings[item] = model({\n",
        "      'reviewer_id': np.array(['ABO2ZI2Y5DQ9T']),\n",
        "      'item': np.array([item])})\n",
        "\n",
        "print('Ratings:')\n",
        "for title, score in sorted(test_ratings.items(), key=lambda x: x[1], \n",
        "                           reverse=True):\n",
        "  print(f'{title}: {score}')"
      ],
      "metadata": {
        "colab": {
          "base_uri": "https://localhost:8080/"
        },
        "id": "Im7c4lBu15gF",
        "outputId": "0bc5254f-6d61-403e-cf1f-aa255fbebaf1"
      },
      "execution_count": null,
      "outputs": [
        {
          "output_type": "stream",
          "name": "stdout",
          "text": [
            "Ratings:\n",
            "B00R8GUXPG: [[4.1731825]]\n",
            "B00PY4Q9OS: [[3.9811945]]\n",
            "B009934S5M: [[3.6320379]]\n",
            "B00NYC65M8: [[3.6279793]]\n",
            "B00Q0G2VXM: [[3.5430803]]\n"
          ]
        }
      ]
    },
    {
      "cell_type": "code",
      "source": [
        "test_ratings = {}\n",
        "test_item = ['B00KHW4XHM', 'B01F6EHOIK', 'B00199PP6U', 'B00009IAXL']\n",
        "for item in test_item:\n",
        "  test_ratings[item] = model({\n",
        "      'reviewer_id': np.array(['ABO2ZI2Y5DQ9T']),\n",
        "      'item': np.array([item])})\n",
        "\n",
        "print('Ratings:')\n",
        "for title, score in sorted(test_ratings.items(), key=lambda x: x[1], \n",
        "                           reverse=True):\n",
        "  print(f'{title}: {score}')"
      ],
      "metadata": {
        "colab": {
          "base_uri": "https://localhost:8080/"
        },
        "outputId": "dec22c28-bd7f-4225-d47e-03080a4cc998",
        "id": "zu_hlDvFDVK6"
      },
      "execution_count": null,
      "outputs": [
        {
          "output_type": "stream",
          "name": "stdout",
          "text": [
            "Ratings:\n",
            "B00KHW4XHM: [[4.799788]]\n",
            "B00199PP6U: [[4.7554584]]\n",
            "B00009IAXL: [[3.4191265]]\n",
            "B01F6EHOIK: [[1.9375358]]\n"
          ]
        }
      ]
    },
    {
      "cell_type": "code",
      "source": [
        "test_ratings = {}\n",
        "test_item = ['B0006FFRKM', '6304492952', 'B009934S5M', 'B000HT3QBY']\n",
        "for item in test_item:\n",
        "  test_ratings[item] = model({\n",
        "      'reviewer_id': np.array(['ABO2ZI2Y5DQ9T']),\n",
        "      'item': np.array([item])})\n",
        "\n",
        "print('Ratings:')\n",
        "for title, score in sorted(test_ratings.items(), key=lambda x: x[1], \n",
        "                           reverse=True):\n",
        "  print(f'{title}: {score}')"
      ],
      "metadata": {
        "colab": {
          "base_uri": "https://localhost:8080/"
        },
        "outputId": "2280bbea-22cf-43f6-aa0b-1b166b631d64",
        "id": "vtjpo2GBDVK8"
      },
      "execution_count": null,
      "outputs": [
        {
          "output_type": "stream",
          "name": "stdout",
          "text": [
            "Ratings:\n",
            "B0006FFRKM: [[5.2371516]]\n",
            "B009934S5M: [[3.6320379]]\n",
            "B000HT3QBY: [[3.4291909]]\n",
            "6304492952: [[3.126309]]\n"
          ]
        }
      ]
    },
    {
      "cell_type": "markdown",
      "source": [
        "#### A328S9RN3U5M68"
      ],
      "metadata": {
        "id": "PKBi5HYRjk6X"
      }
    },
    {
      "cell_type": "code",
      "source": [
        "test_ratings = {}\n",
        "test_item = ['B009934S5M','B00PY4Q9OS', 'B00R8GUXPG','B00Q0G2VXM','B00NYC65M8']\n",
        "for item in test_item:\n",
        "  test_ratings[item] = model({\n",
        "      'reviewer_id': np.array(['A328S9RN3U5M68']),\n",
        "      'item': np.array([item])})\n",
        "\n",
        "print('Ratings:')\n",
        "for title, score in sorted(test_ratings.items(), key=lambda x: x[1], \n",
        "                           reverse=True):\n",
        "  print(f'{title}: {score}')"
      ],
      "metadata": {
        "colab": {
          "base_uri": "https://localhost:8080/"
        },
        "id": "QOD8er_q1-LX",
        "outputId": "b0713870-09cc-4618-95e3-ebf6d296f4ba"
      },
      "execution_count": null,
      "outputs": [
        {
          "output_type": "stream",
          "name": "stdout",
          "text": [
            "Ratings:\n",
            "B00R8GUXPG: [[4.9083266]]\n",
            "B00PY4Q9OS: [[4.6880455]]\n",
            "B009934S5M: [[4.497545]]\n",
            "B00Q0G2VXM: [[4.416779]]\n",
            "B00NYC65M8: [[3.2599416]]\n"
          ]
        }
      ]
    },
    {
      "cell_type": "code",
      "source": [
        "test_ratings = {}\n",
        "test_item = ['B00KHW4XHM', 'B01F6EHOIK', 'B00199PP6U', 'B00009IAXL']\n",
        "for item in test_item:\n",
        "  test_ratings[item] = model({\n",
        "      'reviewer_id': np.array(['A328S9RN3U5M68']),\n",
        "      'item': np.array([item])})\n",
        "\n",
        "print('Ratings:')\n",
        "for title, score in sorted(test_ratings.items(), key=lambda x: x[1], \n",
        "                           reverse=True):\n",
        "  print(f'{title}: {score}')"
      ],
      "metadata": {
        "colab": {
          "base_uri": "https://localhost:8080/"
        },
        "outputId": "a848a9ec-3616-46d1-cc06-b8666db4361c",
        "id": "EiSPuyzeDTDC"
      },
      "execution_count": null,
      "outputs": [
        {
          "output_type": "stream",
          "name": "stdout",
          "text": [
            "Ratings:\n",
            "B00KHW4XHM: [[5.38043]]\n",
            "B00199PP6U: [[5.1638284]]\n",
            "B00009IAXL: [[3.2683938]]\n",
            "B01F6EHOIK: [[3.0241704]]\n"
          ]
        }
      ]
    },
    {
      "cell_type": "code",
      "source": [
        "test_ratings = {}\n",
        "test_item = ['B0006FFRKM', '6304492952', 'B009934S5M', 'B000HT3QBY']\n",
        "for item in test_item:\n",
        "  test_ratings[item] = model({\n",
        "      'reviewer_id': np.array(['A328S9RN3U5M68']),\n",
        "      'item': np.array([item])})\n",
        "\n",
        "print('Ratings:')\n",
        "for title, score in sorted(test_ratings.items(), key=lambda x: x[1], \n",
        "                           reverse=True):\n",
        "  print(f'{title}: {score}')"
      ],
      "metadata": {
        "colab": {
          "base_uri": "https://localhost:8080/"
        },
        "outputId": "eb702b0b-46ad-40dd-ce1d-ee750335ae1f",
        "id": "qi0OnjQjDTDF"
      },
      "execution_count": null,
      "outputs": [
        {
          "output_type": "stream",
          "name": "stdout",
          "text": [
            "Ratings:\n",
            "B0006FFRKM: [[5.147983]]\n",
            "B009934S5M: [[4.497545]]\n",
            "B000HT3QBY: [[4.3494844]]\n",
            "6304492952: [[3.8749783]]\n"
          ]
        }
      ]
    },
    {
      "cell_type": "markdown",
      "source": [
        "#### A3MV1KKHX51FYT"
      ],
      "metadata": {
        "id": "R4gbu6yNjoMC"
      }
    },
    {
      "cell_type": "code",
      "source": [
        "test_ratings = {}\n",
        "test_item = ['B009934S5M','B00PY4Q9OS', 'B00R8GUXPG','B00Q0G2VXM','B00NYC65M8']\n",
        "for item in test_item:\n",
        "  test_ratings[item] = model({\n",
        "      'reviewer_id': np.array(['A3MV1KKHX51FYT']),\n",
        "      'item': np.array([item])})\n",
        "\n",
        "print('Ratings:')\n",
        "for title, score in sorted(test_ratings.items(), key=lambda x: x[1], \n",
        "                           reverse=True):\n",
        "  print(f'{title}: {score}')"
      ],
      "metadata": {
        "colab": {
          "base_uri": "https://localhost:8080/"
        },
        "id": "DWacLqXi2B0T",
        "outputId": "a85b5ded-19f7-4283-c226-6103a64e64c2"
      },
      "execution_count": null,
      "outputs": [
        {
          "output_type": "stream",
          "name": "stdout",
          "text": [
            "Ratings:\n",
            "B009934S5M: [[3.0159693]]\n",
            "B00Q0G2VXM: [[2.8539734]]\n",
            "B00R8GUXPG: [[2.4100082]]\n",
            "B00PY4Q9OS: [[2.2210793]]\n",
            "B00NYC65M8: [[2.1591673]]\n"
          ]
        }
      ]
    },
    {
      "cell_type": "code",
      "source": [
        "test_ratings = {}\n",
        "test_item = ['B00KHW4XHM', 'B01F6EHOIK', 'B00199PP6U', 'B00009IAXL']\n",
        "for item in test_item:\n",
        "  test_ratings[item] = model({\n",
        "      'reviewer_id': np.array(['A3MV1KKHX51FYT']),\n",
        "      'item': np.array([item])})\n",
        "\n",
        "print('Ratings:')\n",
        "for title, score in sorted(test_ratings.items(), key=lambda x: x[1], \n",
        "                           reverse=True):\n",
        "  print(f'{title}: {score}')"
      ],
      "metadata": {
        "colab": {
          "base_uri": "https://localhost:8080/"
        },
        "id": "DPDGpXRLCbZg",
        "outputId": "7433f9c3-4ee9-4468-b483-687d847fef1d"
      },
      "execution_count": null,
      "outputs": [
        {
          "output_type": "stream",
          "name": "stdout",
          "text": [
            "Ratings:\n",
            "B00009IAXL: [[4.1028647]]\n",
            "B00KHW4XHM: [[3.1912699]]\n",
            "B00199PP6U: [[2.5072653]]\n",
            "B01F6EHOIK: [[1.9650021]]\n"
          ]
        }
      ]
    },
    {
      "cell_type": "code",
      "source": [
        "test_ratings = {}\n",
        "test_item = ['B0006FFRKM', '6304492952', 'B009934S5M', 'B000HT3QBY']\n",
        "for item in test_item:\n",
        "  test_ratings[item] = model({\n",
        "      'reviewer_id': np.array(['A3MV1KKHX51FYT']),\n",
        "      'item': np.array([item])})\n",
        "\n",
        "print('Ratings:')\n",
        "for title, score in sorted(test_ratings.items(), key=lambda x: x[1], \n",
        "                           reverse=True):\n",
        "  print(f'{title}: {score}')"
      ],
      "metadata": {
        "colab": {
          "base_uri": "https://localhost:8080/"
        },
        "id": "NOxKsJexDFUB",
        "outputId": "a285ed92-ebb0-477c-bf0c-d36ebe975bb4"
      },
      "execution_count": null,
      "outputs": [
        {
          "output_type": "stream",
          "name": "stdout",
          "text": [
            "Ratings:\n",
            "B000HT3QBY: [[5.27298]]\n",
            "B0006FFRKM: [[3.945326]]\n",
            "B009934S5M: [[3.0159693]]\n",
            "6304492952: [[2.4662666]]\n"
          ]
        }
      ]
    },
    {
      "cell_type": "markdown",
      "source": [
        "## Convert the model to TF Lite to run on-device"
      ],
      "metadata": {
        "id": "lMSnTYSP1LO5"
      }
    },
    {
      "cell_type": "code",
      "source": [
        "converter = tf.lite.TFLiteConverter.from_saved_model('rankingBaseline_MoviesTV_20epochs')\n",
        "tflite_model = converter.convert()\n",
        "open('converted_model.tflite', 'wb').write(tflite_model)"
      ],
      "metadata": {
        "id": "lh_tDHXV5-OA",
        "colab": {
          "base_uri": "https://localhost:8080/"
        },
        "outputId": "4b4ae5a8-4893-4693-da1d-f2c37fb47a3e"
      },
      "execution_count": null,
      "outputs": [
        {
          "output_type": "execute_result",
          "data": {
            "text/plain": [
              "34591500"
            ]
          },
          "metadata": {},
          "execution_count": 112
        }
      ]
    },
    {
      "cell_type": "code",
      "source": [
        "interpreter = tf.lite.Interpreter(model_path='converted_model.tflite')\n",
        "interpreter.allocate_tensors()\n",
        "\n",
        "# Get input and output tensors.\n",
        "input_details = interpreter.get_input_details()\n",
        "output_details = interpreter.get_output_details()\n",
        "\n",
        "# Test the model.\n",
        "if input_details[0]['name'] == 'serving_default_item:0':\n",
        "  interpreter.set_tensor(input_details[0]['index'], np.array(['B009934S5M']))\n",
        "  interpreter.set_tensor(input_details[1]['index'], np.array(['AV6QDP8Q0ONK4']))\n",
        "else:\n",
        "  interpreter.set_tensor(input_details[0]['index'], np.array(['AV6QDP8Q0ONK4']))\n",
        "  interpreter.set_tensor(input_details[1]['index'], np.array(['B009934S5M']))\n",
        "\n",
        "interpreter.invoke()\n",
        "\n",
        "rating = interpreter.get_tensor(output_details[0]['index'])\n",
        "print(rating)"
      ],
      "metadata": {
        "id": "kO1a-kp16FAp",
        "colab": {
          "base_uri": "https://localhost:8080/"
        },
        "outputId": "c6351771-34eb-46f1-9b19-ab789194988d"
      },
      "execution_count": null,
      "outputs": [
        {
          "output_type": "stream",
          "name": "stdout",
          "text": [
            "[[4.7614403]]\n"
          ]
        }
      ]
    },
    {
      "cell_type": "code",
      "source": [
        "# Test the model.\n",
        "if input_details[0]['name'] == 'serving_default_item:0':\n",
        "  interpreter.set_tensor(input_details[0]['index'], np.array(['B00PY4Q9OS']))\n",
        "  interpreter.set_tensor(input_details[1]['index'], np.array(['ABO2ZI2Y5DQ9T']))\n",
        "else:\n",
        "  interpreter.set_tensor(input_details[0]['index'], np.array(['ABO2ZI2Y5DQ9T']))\n",
        "  interpreter.set_tensor(input_details[1]['index'], np.array(['B00PY4Q9OS']))\n",
        "\n",
        "interpreter.invoke()\n",
        "\n",
        "rating = interpreter.get_tensor(output_details[0]['index'])\n",
        "print(rating)"
      ],
      "metadata": {
        "colab": {
          "base_uri": "https://localhost:8080/"
        },
        "id": "imJckxw_2TCv",
        "outputId": "1491ee61-bd15-4e40-da4e-9cc39b9a1ebe"
      },
      "execution_count": null,
      "outputs": [
        {
          "output_type": "stream",
          "name": "stdout",
          "text": [
            "[[3.9811943]]\n"
          ]
        }
      ]
    },
    {
      "cell_type": "code",
      "source": [
        "# Test the model.\n",
        "if input_details[0]['name'] == 'serving_default_item:0':\n",
        "  interpreter.set_tensor(input_details[0]['index'], np.array(['B00R8GUXPG']))\n",
        "  interpreter.set_tensor(input_details[1]['index'], np.array(['A328S9RN3U5M68']))\n",
        "else:\n",
        "  interpreter.set_tensor(input_details[0]['index'], np.array(['A328S9RN3U5M68']))\n",
        "  interpreter.set_tensor(input_details[1]['index'], np.array(['B00R8GUXPG']))\n",
        "\n",
        "interpreter.invoke()\n",
        "\n",
        "rating = interpreter.get_tensor(output_details[0]['index'])\n",
        "print(rating)"
      ],
      "metadata": {
        "id": "06I3vx3Z2bLP",
        "outputId": "db9710d3-0e71-4d58-ea74-69d225344f27",
        "colab": {
          "base_uri": "https://localhost:8080/"
        }
      },
      "execution_count": null,
      "outputs": [
        {
          "output_type": "stream",
          "name": "stdout",
          "text": [
            "[[4.9083266]]\n"
          ]
        }
      ]
    }
  ],
  "metadata": {
    "colab": {
      "machine_shape": "hm",
      "provenance": [],
      "toc_visible": true
    },
    "kernelspec": {
      "display_name": "Python 3",
      "name": "python3"
    },
    "language_info": {
      "name": "python"
    },
    "accelerator": "GPU"
  },
  "nbformat": 4,
  "nbformat_minor": 0
}